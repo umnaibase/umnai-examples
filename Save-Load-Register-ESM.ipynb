{
 "cells": [
  {
   "cell_type": "markdown",
   "metadata": {
    "application/vnd.databricks.v1+cell": {
     "cellMetadata": {
      "byteLimit": 2048000,
      "rowLimit": 10000
     },
     "inputWidgets": {},
     "nuid": "7a391a55-898f-420d-9bb7-6a8b58373c26",
     "showTitle": false,
     "title": ""
    }
   },
   "source": [
    "# Saving and Loading a Model Notebook\n",
    "\n",
    "You can save and/or load an ESM using three different options:\n",
    "1. **Workspace**: you can save and load an ESM to and from your workspace.\n",
    "2. **MLflow Run**: you can load an ESM from an MLflow run.\n",
    "3. **MLflow Model Registry**: if you are working on Databricks, you can register and load an ESM to and from the MLflow Model Registry."
   ]
  },
  {
   "cell_type": "markdown",
   "metadata": {
    "application/vnd.databricks.v1+cell": {
     "cellMetadata": {
      "byteLimit": 2048000,
      "rowLimit": 10000
     },
     "inputWidgets": {},
     "nuid": "db307f21-77c9-438b-9702-070ecb5259ce",
     "showTitle": false,
     "title": ""
    }
   },
   "source": [
    "# Check Environment Variables\n",
    "Before installing Hybrid Intelligence in the notebook you need to set these Environment Variables externally as described in the User Guide https://docs.umnai.com/set-up-your-environment. \n",
    "This section checks that the environment variables have been set correctly and throws an error if not."
   ]
  },
  {
   "cell_type": "code",
   "execution_count": 1,
   "metadata": {
    "application/vnd.databricks.v1+cell": {
     "cellMetadata": {
      "byteLimit": 2048000,
      "rowLimit": 10000
     },
     "inputWidgets": {},
     "nuid": "20cc13b5-99b1-4158-a27c-013a99ad8c43",
     "showTitle": false,
     "title": ""
    },
    "execution": {
     "iopub.execute_input": "2023-08-30T14:19:54.611528Z",
     "iopub.status.busy": "2023-08-30T14:19:54.611274Z",
     "iopub.status.idle": "2023-08-30T14:19:54.618880Z",
     "shell.execute_reply": "2023-08-30T14:19:54.617955Z"
    }
   },
   "outputs": [],
   "source": [
    "import os\n",
    "\n",
    "umnai_env_vars = {\n",
    "    'UMNAI_CLIENT_ID',\n",
    "    'UMNAI_CLIENT_SECRET',\n",
    "    'PIP_EXTRA_INDEX_URL',\n",
    "}\n",
    "\n",
    "if not umnai_env_vars.issubset(os.environ.keys()):\n",
    "    raise ValueError(\n",
    "        'UMNAI environment variables not set correctly. They need to be set before using the Umnai library.'\n",
    "    )"
   ]
  },
  {
   "cell_type": "markdown",
   "metadata": {
    "application/vnd.databricks.v1+cell": {
     "cellMetadata": {
      "byteLimit": 2048000,
      "rowLimit": 10000
     },
     "inputWidgets": {},
     "nuid": "16e3cf46-b554-4b56-b198-b42a78cfb4d1",
     "showTitle": false,
     "title": ""
    }
   },
   "source": [
    "# Install Hybrid Intelligence\n",
    "Next we install the UMNAI Platform."
   ]
  },
  {
   "cell_type": "code",
   "execution_count": 2,
   "metadata": {
    "application/vnd.databricks.v1+cell": {
     "cellMetadata": {
      "byteLimit": 2048000,
      "rowLimit": 10000
     },
     "inputWidgets": {},
     "nuid": "6bb12826-37fc-4193-b7ef-a8c65c7b1764",
     "showTitle": false,
     "title": ""
    },
    "execution": {
     "iopub.execute_input": "2023-08-30T14:19:54.622218Z",
     "iopub.status.busy": "2023-08-30T14:19:54.621599Z",
     "iopub.status.idle": "2023-08-30T14:19:59.636579Z",
     "shell.execute_reply": "2023-08-30T14:19:59.635789Z"
    }
   },
   "outputs": [
    {
     "name": "stdout",
     "output_type": "stream",
     "text": [
      "\u001b[33mWARNING: Running pip as the 'root' user can result in broken permissions and conflicting behaviour with the system package manager. It is recommended to use a virtual environment instead: https://pip.pypa.io/warnings/venv\u001b[0m\u001b[33m\r\n",
      "\u001b[0mNote: you may need to restart the kernel to use updated packages.\n"
     ]
    }
   ],
   "source": [
    "%pip install umnai-platform --quiet"
   ]
  },
  {
   "cell_type": "markdown",
   "metadata": {
    "application/vnd.databricks.v1+cell": {
     "cellMetadata": {
      "byteLimit": 2048000,
      "rowLimit": 10000
     },
     "inputWidgets": {},
     "nuid": "7019617f-1f55-4082-a60a-6684f05ca9b6",
     "showTitle": false,
     "title": ""
    }
   },
   "source": [
    "# Set Workspace Paths According to Your Environment\n",
    "Now we will set the workspace path and the experiment path automatically. They will be set to a local path if you are using a local machine environment or to a Databricks path if you are using a Databricks environment."
   ]
  },
  {
   "cell_type": "markdown",
   "metadata": {
    "application/vnd.databricks.v1+cell": {
     "cellMetadata": {
      "byteLimit": 2048000,
      "rowLimit": 10000
     },
     "inputWidgets": {},
     "nuid": "c2ac98a8-e7db-4e2c-a856-9e510a888681",
     "showTitle": false,
     "title": ""
    }
   },
   "source": [
    "## Install Databricks SDK\n",
    "\n",
    "This checks if you are running on Databricks and installs their SDK if you are."
   ]
  },
  {
   "cell_type": "code",
   "execution_count": 3,
   "metadata": {
    "application/vnd.databricks.v1+cell": {
     "cellMetadata": {
      "byteLimit": 2048000,
      "rowLimit": 10000
     },
     "inputWidgets": {},
     "nuid": "fce82f5f-8bde-4097-b6c1-c8cf20de22ab",
     "showTitle": false,
     "title": ""
    },
    "execution": {
     "iopub.execute_input": "2023-08-30T14:19:59.640061Z",
     "iopub.status.busy": "2023-08-30T14:19:59.639836Z",
     "iopub.status.idle": "2023-08-30T14:19:59.643954Z",
     "shell.execute_reply": "2023-08-30T14:19:59.643107Z"
    }
   },
   "outputs": [],
   "source": [
    "import os\n",
    "if os.environ.get('DATABRICKS_RUNTIME_VERSION') is not None:\n",
    "    %pip install databricks-sdk --quiet"
   ]
  },
  {
   "cell_type": "markdown",
   "metadata": {
    "application/vnd.databricks.v1+cell": {
     "cellMetadata": {
      "byteLimit": 2048000,
      "rowLimit": 10000
     },
     "inputWidgets": {},
     "nuid": "9ad2d48c-905f-4ef8-8641-987042814b77",
     "showTitle": false,
     "title": ""
    }
   },
   "source": [
    "If you are on Databricks, you can select whether you would like the workspace to be created in the shared area (available to all users in your account) or in your personal user account area. You can ignore this if you are running on a local environment."
   ]
  },
  {
   "cell_type": "code",
   "execution_count": 4,
   "metadata": {
    "application/vnd.databricks.v1+cell": {
     "cellMetadata": {
      "byteLimit": 2048000,
      "rowLimit": 10000
     },
     "inputWidgets": {},
     "nuid": "da67036d-11e4-4643-ae6d-3e23d9011160",
     "showTitle": false,
     "title": ""
    },
    "execution": {
     "iopub.execute_input": "2023-08-30T14:19:59.646786Z",
     "iopub.status.busy": "2023-08-30T14:19:59.646431Z",
     "iopub.status.idle": "2023-08-30T14:19:59.649560Z",
     "shell.execute_reply": "2023-08-30T14:19:59.648816Z"
    }
   },
   "outputs": [],
   "source": [
    "# Set to 1 if you want to use shared or 0 to use personal user account area.\n",
    "USE_SHARED_WORKSPACE = 1 "
   ]
  },
  {
   "cell_type": "markdown",
   "metadata": {
    "application/vnd.databricks.v1+cell": {
     "cellMetadata": {
      "byteLimit": 2048000,
      "rowLimit": 10000
     },
     "inputWidgets": {},
     "nuid": "4654888d-9f39-4fd9-a6fe-483c0ae9f6ae",
     "showTitle": false,
     "title": ""
    }
   },
   "source": [
    "## Set Paths\n",
    "Next the workspace and experiment paths are set automatically."
   ]
  },
  {
   "cell_type": "code",
   "execution_count": 5,
   "metadata": {
    "application/vnd.databricks.v1+cell": {
     "cellMetadata": {
      "byteLimit": 2048000,
      "rowLimit": 10000
     },
     "inputWidgets": {},
     "nuid": "a3e7d624-d9d6-45e7-b0d8-521efe335f8c",
     "showTitle": false,
     "title": ""
    },
    "execution": {
     "iopub.execute_input": "2023-08-30T14:19:59.652898Z",
     "iopub.status.busy": "2023-08-30T14:19:59.652511Z",
     "iopub.status.idle": "2023-08-30T14:19:59.658214Z",
     "shell.execute_reply": "2023-08-30T14:19:59.657629Z"
    }
   },
   "outputs": [],
   "source": [
    "import os\n",
    "\n",
    "EXP_NAME = 'saveloadESM_adult_income'\n",
    "if os.environ.get('DATABRICKS_RUNTIME_VERSION') is not None:\n",
    "    from databricks.sdk import WorkspaceClient\n",
    "    w = WorkspaceClient()\n",
    "\n",
    "    # For a Databricks Environment\n",
    "    WS_PATH = '/dbfs/FileStore/workspaces/'+EXP_NAME\n",
    "    if USE_SHARED_WORKSPACE:\n",
    "        EXP_PREFIX = f'/Shared/experiments/'\n",
    "    else:\n",
    "        USERNAME = dbutils.notebook.entry_point.getDbutils().notebook().getContext().userName().get()\n",
    "        EXP_PREFIX = f'/Users/{USERNAME}/experiments/'\n",
    "    w.workspace.mkdirs(EXP_PREFIX)\n",
    "    EXP_PATH = EXP_PREFIX + EXP_NAME\n",
    "else:\n",
    "    # For a Local Machine Environment\n",
    "    WS_PATH = 'resources/workspaces/'+EXP_NAME\n",
    "    EXP_PATH = EXP_NAME"
   ]
  },
  {
   "cell_type": "markdown",
   "metadata": {
    "application/vnd.databricks.v1+cell": {
     "cellMetadata": {
      "byteLimit": 2048000,
      "rowLimit": 10000
     },
     "inputWidgets": {},
     "nuid": "b8792d9f-e027-4e2b-bbdf-b894dae6777c",
     "showTitle": false,
     "title": ""
    }
   },
   "source": [
    "# Import and Prepare Dataset\n",
    "Import the dataset to a Pandas DataFrame and the clean data in preparation for onboarding into Hybrid Intelligence."
   ]
  },
  {
   "cell_type": "code",
   "execution_count": 6,
   "metadata": {
    "application/vnd.databricks.v1+cell": {
     "cellMetadata": {
      "byteLimit": 2048000,
      "rowLimit": 10000
     },
     "inputWidgets": {},
     "nuid": "510c2964-c29d-4062-bef4-af3202ccf82f",
     "showTitle": false,
     "title": ""
    },
    "execution": {
     "iopub.execute_input": "2023-08-30T14:19:59.661262Z",
     "iopub.status.busy": "2023-08-30T14:19:59.660814Z",
     "iopub.status.idle": "2023-08-30T14:20:00.439936Z",
     "shell.execute_reply": "2023-08-30T14:20:00.439253Z"
    }
   },
   "outputs": [
    {
     "data": {
      "text/html": [
       "<div>\n",
       "<style scoped>\n",
       "    .dataframe tbody tr th:only-of-type {\n",
       "        vertical-align: middle;\n",
       "    }\n",
       "\n",
       "    .dataframe tbody tr th {\n",
       "        vertical-align: top;\n",
       "    }\n",
       "\n",
       "    .dataframe thead th {\n",
       "        text-align: right;\n",
       "    }\n",
       "</style>\n",
       "<table border=\"1\" class=\"dataframe\">\n",
       "  <thead>\n",
       "    <tr style=\"text-align: right;\">\n",
       "      <th></th>\n",
       "      <th>Age</th>\n",
       "      <th>WorkClass</th>\n",
       "      <th>fnlwgt</th>\n",
       "      <th>Education</th>\n",
       "      <th>EducationNum</th>\n",
       "      <th>MaritalStatus</th>\n",
       "      <th>Occupation</th>\n",
       "      <th>Relationship</th>\n",
       "      <th>Race</th>\n",
       "      <th>Gender</th>\n",
       "      <th>CapitalGain</th>\n",
       "      <th>CapitalLoss</th>\n",
       "      <th>HoursPerWeek</th>\n",
       "      <th>NativeCountry</th>\n",
       "      <th>Income</th>\n",
       "    </tr>\n",
       "  </thead>\n",
       "  <tbody>\n",
       "    <tr>\n",
       "      <th>32556</th>\n",
       "      <td>27</td>\n",
       "      <td>Private</td>\n",
       "      <td>257302</td>\n",
       "      <td>Assoc-acdm</td>\n",
       "      <td>12</td>\n",
       "      <td>Married-civ-spouse</td>\n",
       "      <td>Tech-support</td>\n",
       "      <td>Wife</td>\n",
       "      <td>White</td>\n",
       "      <td>Female</td>\n",
       "      <td>0</td>\n",
       "      <td>0</td>\n",
       "      <td>38</td>\n",
       "      <td>United-States</td>\n",
       "      <td>0</td>\n",
       "    </tr>\n",
       "    <tr>\n",
       "      <th>32557</th>\n",
       "      <td>40</td>\n",
       "      <td>Private</td>\n",
       "      <td>154374</td>\n",
       "      <td>HS-grad</td>\n",
       "      <td>9</td>\n",
       "      <td>Married-civ-spouse</td>\n",
       "      <td>Machine-op-inspct</td>\n",
       "      <td>Husband</td>\n",
       "      <td>White</td>\n",
       "      <td>Male</td>\n",
       "      <td>0</td>\n",
       "      <td>0</td>\n",
       "      <td>40</td>\n",
       "      <td>United-States</td>\n",
       "      <td>1</td>\n",
       "    </tr>\n",
       "    <tr>\n",
       "      <th>32558</th>\n",
       "      <td>58</td>\n",
       "      <td>Private</td>\n",
       "      <td>151910</td>\n",
       "      <td>HS-grad</td>\n",
       "      <td>9</td>\n",
       "      <td>Widowed</td>\n",
       "      <td>Adm-clerical</td>\n",
       "      <td>Unmarried</td>\n",
       "      <td>White</td>\n",
       "      <td>Female</td>\n",
       "      <td>0</td>\n",
       "      <td>0</td>\n",
       "      <td>40</td>\n",
       "      <td>United-States</td>\n",
       "      <td>0</td>\n",
       "    </tr>\n",
       "    <tr>\n",
       "      <th>32559</th>\n",
       "      <td>22</td>\n",
       "      <td>Private</td>\n",
       "      <td>201490</td>\n",
       "      <td>HS-grad</td>\n",
       "      <td>9</td>\n",
       "      <td>Never-married</td>\n",
       "      <td>Adm-clerical</td>\n",
       "      <td>Own-child</td>\n",
       "      <td>White</td>\n",
       "      <td>Male</td>\n",
       "      <td>0</td>\n",
       "      <td>0</td>\n",
       "      <td>20</td>\n",
       "      <td>United-States</td>\n",
       "      <td>0</td>\n",
       "    </tr>\n",
       "    <tr>\n",
       "      <th>32560</th>\n",
       "      <td>52</td>\n",
       "      <td>Self-emp-inc</td>\n",
       "      <td>287927</td>\n",
       "      <td>HS-grad</td>\n",
       "      <td>9</td>\n",
       "      <td>Married-civ-spouse</td>\n",
       "      <td>Exec-managerial</td>\n",
       "      <td>Wife</td>\n",
       "      <td>White</td>\n",
       "      <td>Female</td>\n",
       "      <td>15024</td>\n",
       "      <td>0</td>\n",
       "      <td>40</td>\n",
       "      <td>United-States</td>\n",
       "      <td>1</td>\n",
       "    </tr>\n",
       "  </tbody>\n",
       "</table>\n",
       "</div>"
      ],
      "text/plain": [
       "       Age     WorkClass  fnlwgt   Education  EducationNum  \\\n",
       "32556   27       Private  257302  Assoc-acdm            12   \n",
       "32557   40       Private  154374     HS-grad             9   \n",
       "32558   58       Private  151910     HS-grad             9   \n",
       "32559   22       Private  201490     HS-grad             9   \n",
       "32560   52  Self-emp-inc  287927     HS-grad             9   \n",
       "\n",
       "            MaritalStatus         Occupation Relationship   Race  Gender  \\\n",
       "32556  Married-civ-spouse       Tech-support         Wife  White  Female   \n",
       "32557  Married-civ-spouse  Machine-op-inspct      Husband  White    Male   \n",
       "32558             Widowed       Adm-clerical    Unmarried  White  Female   \n",
       "32559       Never-married       Adm-clerical    Own-child  White    Male   \n",
       "32560  Married-civ-spouse    Exec-managerial         Wife  White  Female   \n",
       "\n",
       "       CapitalGain  CapitalLoss  HoursPerWeek  NativeCountry  Income  \n",
       "32556            0            0            38  United-States       0  \n",
       "32557            0            0            40  United-States       1  \n",
       "32558            0            0            40  United-States       0  \n",
       "32559            0            0            20  United-States       0  \n",
       "32560        15024            0            40  United-States       1  "
      ]
     },
     "execution_count": 6,
     "metadata": {},
     "output_type": "execute_result"
    }
   ],
   "source": [
    "import pandas as pd\n",
    "import numpy as np\n",
    "\n",
    "# Import Adult Income Dataset to pandas dataframe: \n",
    "# This dataset can be downloaded from https://archive.ics.uci.edu/dataset/2/adult \n",
    "column_names = [\"Age\", \"WorkClass\", \"fnlwgt\", \"Education\", \"EducationNum\", \"MaritalStatus\", \"Occupation\", \"Relationship\", \"Race\", \"Gender\", \"CapitalGain\", \"CapitalLoss\", \"HoursPerWeek\", \"NativeCountry\", \"Income\"]\n",
    "dataset_df = pd.read_csv('https://raw.githubusercontent.com/umnaibase/umnai-examples/main/data/adult.data', names = column_names)\n",
    "\n",
    "# Data Preparation:\n",
    "dataset_df = dataset_df.apply(lambda x: x.str.strip() if x.dtype == 'object' else x)    # Remove whitespaces\n",
    "dataset_df[\"Income\"] = np.where((dataset_df[\"Income\"] == '<=50K'), 0, 1)                # Replace Target values with [0,1]\n",
    "dataset_df.tail(5)"
   ]
  },
  {
   "cell_type": "markdown",
   "metadata": {
    "application/vnd.databricks.v1+cell": {
     "cellMetadata": {
      "byteLimit": 2048000,
      "rowLimit": 10000
     },
     "inputWidgets": {},
     "nuid": "077ab4ae-f709-4f0d-a295-3a05658784dc",
     "showTitle": false,
     "title": ""
    }
   },
   "source": [
    "# Create or Open a Hybrid Intelligence Workspace\n",
    "Workspaces are used by the Hybrid Intelligence framework to organize your data and models together in one place."
   ]
  },
  {
   "cell_type": "code",
   "execution_count": 7,
   "metadata": {
    "application/vnd.databricks.v1+cell": {
     "cellMetadata": {
      "byteLimit": 2048000,
      "rowLimit": 10000
     },
     "inputWidgets": {},
     "nuid": "f03bfb1e-103a-4344-9167-3e6a8af32df7",
     "showTitle": false,
     "title": ""
    },
    "execution": {
     "iopub.execute_input": "2023-08-30T14:20:00.443450Z",
     "iopub.status.busy": "2023-08-30T14:20:00.442919Z",
     "iopub.status.idle": "2023-08-30T14:20:05.482410Z",
     "shell.execute_reply": "2023-08-30T14:20:05.481641Z"
    }
   },
   "outputs": [
    {
     "name": "stderr",
     "output_type": "stream",
     "text": [
      "2023-08-30 14:20:00.752293: I tensorflow/tsl/cuda/cudart_stub.cc:28] Could not find cuda drivers on your machine, GPU will not be used.\n",
      "2023-08-30 14:20:00.783083: I tensorflow/tsl/cuda/cudart_stub.cc:28] Could not find cuda drivers on your machine, GPU will not be used.\n",
      "2023-08-30 14:20:00.784063: I tensorflow/core/platform/cpu_feature_guard.cc:182] This TensorFlow binary is optimized to use available CPU instructions in performance-critical operations.\n",
      "To enable the following instructions: AVX2 FMA, in other operations, rebuild TensorFlow with the appropriate compiler flags.\n",
      "2023-08-30 14:20:01.778815: W tensorflow/compiler/tf2tensorrt/utils/py_utils.cc:38] TF-TRT Warning: Could not find TensorRT\n",
      "/tmp/ipykernel_9424/1204024393.py:4: DeprecationWarning: setDaemon() is deprecated, set the daemon attribute instead\n",
      "  ws = Workspace.open(\n"
     ]
    },
    {
     "data": {
      "text/plain": [
       "<umnai.workspaces.context.WorkspaceContext at 0x7f63c94aab50>"
      ]
     },
     "execution_count": 7,
     "metadata": {},
     "output_type": "execute_result"
    }
   ],
   "source": [
    "from umnai.workspaces.context import Workspace\n",
    "\n",
    "# Open a workspace\n",
    "ws = Workspace.open(\n",
    "    path = WS_PATH,\n",
    "    experiment = EXP_PATH\n",
    ")\n",
    "\n",
    "ws # Prints workspace details to confirm created/opened"
   ]
  },
  {
   "cell_type": "markdown",
   "metadata": {
    "application/vnd.databricks.v1+cell": {
     "cellMetadata": {
      "byteLimit": 2048000,
      "rowLimit": 10000
     },
     "inputWidgets": {},
     "nuid": "317d71f7-e4c0-4b84-9866-981642b7e447",
     "showTitle": false,
     "title": ""
    }
   },
   "source": [
    "# Onboard Hybrid Intelligence Dataset\n",
    "\n",
    "Onboard the Pandas DataFrame into a Hybrid Intelligence dataset."
   ]
  },
  {
   "cell_type": "code",
   "execution_count": 8,
   "metadata": {
    "application/vnd.databricks.v1+cell": {
     "cellMetadata": {
      "byteLimit": 2048000,
      "rowLimit": 10000
     },
     "inputWidgets": {},
     "nuid": "605ecf9c-b5cc-4f4c-9e37-902517194690",
     "showTitle": false,
     "title": ""
    },
    "execution": {
     "iopub.execute_input": "2023-08-30T14:20:05.486039Z",
     "iopub.status.busy": "2023-08-30T14:20:05.485095Z",
     "iopub.status.idle": "2023-08-30T14:21:25.359671Z",
     "shell.execute_reply": "2023-08-30T14:21:25.358805Z"
    }
   },
   "outputs": [
    {
     "name": "stderr",
     "output_type": "stream",
     "text": [
      "Setting default log level to \"WARN\".\n",
      "To adjust logging level use sc.setLogLevel(newLevel). For SparkR, use setLogLevel(newLevel).\n",
      "23/08/30 14:20:07 WARN NativeCodeLoader: Unable to load native-hadoop library for your platform... using builtin-java classes where applicable\n"
     ]
    },
    {
     "data": {
      "application/vnd.jupyter.widget-view+json": {
       "model_id": "82630b1eccaf4a55ab684d440ce499e4",
       "version_major": 2,
       "version_minor": 0
      },
      "text/plain": [
       "[ObservationSpec] - MLFLOW Run ID: 9ffa04600c3c48b1bac60746220d0a1d:   0%|          | 0/60 [00:00<?, ?it/s]"
      ]
     },
     "metadata": {},
     "output_type": "display_data"
    },
    {
     "name": "stderr",
     "output_type": "stream",
     "text": [
      "23/08/30 14:20:52 WARN package: Truncated the string representation of a plan since it was too large. This behavior can be adjusted by setting 'spark.sql.debug.maxToStringFields'.\n"
     ]
    },
    {
     "name": "stdout",
     "output_type": "stream",
     "text": [
      "WARNING:tensorflow:AutoGraph could not transform <bound method OneHotEncoder.call of <umnai.operations.functions.one_hot_encoding.OneHotEncoder object at 0x7f63b0156910>> and will run it as-is.\n",
      "Please report this to the TensorFlow team. When filing the bug, set the verbosity to 10 (on Linux, `export AUTOGRAPH_VERBOSITY=10`) and attach the full output.\n",
      "Cause: module, class, method, function, traceback, frame, or code object was expected, got cython_function_or_method\n",
      "To silence this warning, decorate the function with @tf.autograph.experimental.do_not_convert\n",
      "WARNING:tensorflow:AutoGraph could not transform <bound method StringIndex.call of <umnai.operations.functions.string_lookup.StringIndex object at 0x7f63a74acf10>> and will run it as-is.\n",
      "Please report this to the TensorFlow team. When filing the bug, set the verbosity to 10 (on Linux, `export AUTOGRAPH_VERBOSITY=10`) and attach the full output.\n",
      "Cause: module, class, method, function, traceback, frame, or code object was expected, got cython_function_or_method\n",
      "To silence this warning, decorate the function with @tf.autograph.experimental.do_not_convert\n",
      "WARNING:tensorflow:Compiled the loaded model, but the compiled metrics have yet to be built. `model.compile_metrics` will be empty until you train or evaluate the model.\n"
     ]
    },
    {
     "name": "stderr",
     "output_type": "stream",
     "text": [
      "2023-08-30 14:21:16.224743: I tensorflow/core/common_runtime/executor.cc:1197] [/device:CPU:0] (DEBUG INFO) Executor start aborting (this does not indicate an error and you can ignore this message): INVALID_ARGUMENT: You must feed a value for placeholder tensor 'fnlwgt' with dtype int64 and shape [?,1]\n",
      "\t [[{{node fnlwgt}}]]\n",
      "2023-08-30 14:21:16.376154: I tensorflow/core/common_runtime/executor.cc:1197] [/device:CPU:0] (DEBUG INFO) Executor start aborting (this does not indicate an error and you can ignore this message): INVALID_ARGUMENT: You must feed a value for placeholder tensor 'HoursPerWeek' with dtype int64 and shape [?,1]\n",
      "\t [[{{node HoursPerWeek}}]]\n",
      "2023-08-30 14:21:16.412195: I tensorflow/core/common_runtime/executor.cc:1197] [/device:CPU:0] (DEBUG INFO) Executor start aborting (this does not indicate an error and you can ignore this message): INVALID_ARGUMENT: You must feed a value for placeholder tensor 'EducationNum' with dtype int64 and shape [?,1]\n",
      "\t [[{{node EducationNum}}]]\n",
      "2023-08-30 14:21:16.451685: I tensorflow/core/common_runtime/executor.cc:1197] [/device:CPU:0] (DEBUG INFO) Executor start aborting (this does not indicate an error and you can ignore this message): INVALID_ARGUMENT: You must feed a value for placeholder tensor 'CapitalLoss' with dtype int64 and shape [?,1]\n",
      "\t [[{{node CapitalLoss}}]]\n",
      "2023-08-30 14:21:16.466286: I tensorflow/core/common_runtime/executor.cc:1197] [/device:CPU:0] (DEBUG INFO) Executor start aborting (this does not indicate an error and you can ignore this message): INVALID_ARGUMENT: You must feed a value for placeholder tensor 'CapitalGain' with dtype int64 and shape [?,1]\n",
      "\t [[{{node CapitalGain}}]]\n",
      "2023-08-30 14:21:16.479850: I tensorflow/core/common_runtime/executor.cc:1197] [/device:CPU:0] (DEBUG INFO) Executor start aborting (this does not indicate an error and you can ignore this message): INVALID_ARGUMENT: You must feed a value for placeholder tensor 'Age' with dtype int64 and shape [?,1]\n",
      "\t [[{{node Age}}]]\n",
      "2023-08-30 14:21:16.523740: I tensorflow/core/common_runtime/executor.cc:1197] [/device:CPU:0] (DEBUG INFO) Executor start aborting (this does not indicate an error and you can ignore this message): INVALID_ARGUMENT: You must feed a value for placeholder tensor 'fnlwgt' with dtype int64 and shape [?,1]\n",
      "\t [[{{node fnlwgt}}]]\n",
      "2023-08-30 14:21:16.677608: I tensorflow/core/common_runtime/executor.cc:1197] [/device:CPU:0] (DEBUG INFO) Executor start aborting (this does not indicate an error and you can ignore this message): INVALID_ARGUMENT: You must feed a value for placeholder tensor 'HoursPerWeek' with dtype int64 and shape [?,1]\n",
      "\t [[{{node HoursPerWeek}}]]\n",
      "2023-08-30 14:21:16.703041: I tensorflow/core/common_runtime/executor.cc:1197] [/device:CPU:0] (DEBUG INFO) Executor start aborting (this does not indicate an error and you can ignore this message): INVALID_ARGUMENT: You must feed a value for placeholder tensor 'EducationNum' with dtype int64 and shape [?,1]\n",
      "\t [[{{node EducationNum}}]]\n",
      "2023-08-30 14:21:16.727094: I tensorflow/core/common_runtime/executor.cc:1197] [/device:CPU:0] (DEBUG INFO) Executor start aborting (this does not indicate an error and you can ignore this message): INVALID_ARGUMENT: You must feed a value for placeholder tensor 'CapitalLoss' with dtype int64 and shape [?,1]\n",
      "\t [[{{node CapitalLoss}}]]\n",
      "2023-08-30 14:21:16.729063: I tensorflow/core/common_runtime/executor.cc:1197] [/device:CPU:0] (DEBUG INFO) Executor start aborting (this does not indicate an error and you can ignore this message): INVALID_ARGUMENT: You must feed a value for placeholder tensor 'CapitalGain' with dtype int64 and shape [?,1]\n",
      "\t [[{{node CapitalGain}}]]\n",
      "2023-08-30 14:21:16.730843: I tensorflow/core/common_runtime/executor.cc:1197] [/device:CPU:0] (DEBUG INFO) Executor start aborting (this does not indicate an error and you can ignore this message): INVALID_ARGUMENT: You must feed a value for placeholder tensor 'Age' with dtype int64 and shape [?,1]\n",
      "\t [[{{node Age}}]]\n",
      "2023-08-30 14:21:16.781587: I tensorflow/core/common_runtime/executor.cc:1197] [/device:CPU:0] (DEBUG INFO) Executor start aborting (this does not indicate an error and you can ignore this message): INVALID_ARGUMENT: You must feed a value for placeholder tensor 'inputs_2' with dtype int64 and shape [?,1]\n",
      "\t [[{{node inputs_2}}]]\n",
      "2023-08-30 14:21:16.803829: I tensorflow/core/common_runtime/executor.cc:1197] [/device:CPU:0] (DEBUG INFO) Executor start aborting (this does not indicate an error and you can ignore this message): INVALID_ARGUMENT: You must feed a value for placeholder tensor 'inputs_12' with dtype int64 and shape [?,1]\n",
      "\t [[{{node inputs_12}}]]\n",
      "2023-08-30 14:21:16.809279: I tensorflow/core/common_runtime/executor.cc:1197] [/device:CPU:0] (DEBUG INFO) Executor start aborting (this does not indicate an error and you can ignore this message): INVALID_ARGUMENT: You must feed a value for placeholder tensor 'inputs_4' with dtype int64 and shape [?,1]\n",
      "\t [[{{node inputs_4}}]]\n",
      "2023-08-30 14:21:16.814723: I tensorflow/core/common_runtime/executor.cc:1197] [/device:CPU:0] (DEBUG INFO) Executor start aborting (this does not indicate an error and you can ignore this message): INVALID_ARGUMENT: You must feed a value for placeholder tensor 'inputs_11' with dtype int64 and shape [?,1]\n",
      "\t [[{{node inputs_11}}]]\n",
      "2023-08-30 14:21:16.816772: I tensorflow/core/common_runtime/executor.cc:1197] [/device:CPU:0] (DEBUG INFO) Executor start aborting (this does not indicate an error and you can ignore this message): INVALID_ARGUMENT: You must feed a value for placeholder tensor 'inputs_10' with dtype int64 and shape [?,1]\n",
      "\t [[{{node inputs_10}}]]\n",
      "2023-08-30 14:21:16.818681: I tensorflow/core/common_runtime/executor.cc:1197] [/device:CPU:0] (DEBUG INFO) Executor start aborting (this does not indicate an error and you can ignore this message): INVALID_ARGUMENT: You must feed a value for placeholder tensor 'inputs' with dtype int64 and shape [?,1]\n",
      "\t [[{{node inputs}}]]\n",
      "2023-08-30 14:21:16.874350: I tensorflow/core/common_runtime/executor.cc:1197] [/device:CPU:0] (DEBUG INFO) Executor start aborting (this does not indicate an error and you can ignore this message): INVALID_ARGUMENT: You must feed a value for placeholder tensor 'Age' with dtype int64 and shape [?,1]\n",
      "\t [[{{node Age}}]]\n",
      "2023-08-30 14:21:16.874500: I tensorflow/core/common_runtime/executor.cc:1197] [/device:CPU:0] (DEBUG INFO) Executor start aborting (this does not indicate an error and you can ignore this message): INVALID_ARGUMENT: You must feed a value for placeholder tensor 'CapitalGain' with dtype int64 and shape [?,1]\n",
      "\t [[{{node CapitalGain}}]]\n",
      "2023-08-30 14:21:16.874583: I tensorflow/core/common_runtime/executor.cc:1197] [/device:CPU:0] (DEBUG INFO) Executor start aborting (this does not indicate an error and you can ignore this message): INVALID_ARGUMENT: You must feed a value for placeholder tensor 'CapitalLoss' with dtype int64 and shape [?,1]\n",
      "\t [[{{node CapitalLoss}}]]\n",
      "2023-08-30 14:21:16.874671: I tensorflow/core/common_runtime/executor.cc:1197] [/device:CPU:0] (DEBUG INFO) Executor start aborting (this does not indicate an error and you can ignore this message): INVALID_ARGUMENT: You must feed a value for placeholder tensor 'EducationNum' with dtype int64 and shape [?,1]\n",
      "\t [[{{node EducationNum}}]]\n",
      "2023-08-30 14:21:16.874774: I tensorflow/core/common_runtime/executor.cc:1197] [/device:CPU:0] (DEBUG INFO) Executor start aborting (this does not indicate an error and you can ignore this message): INVALID_ARGUMENT: You must feed a value for placeholder tensor 'HoursPerWeek' with dtype int64 and shape [?,1]\n",
      "\t [[{{node HoursPerWeek}}]]\n",
      "2023-08-30 14:21:16.874882: I tensorflow/core/common_runtime/executor.cc:1197] [/device:CPU:0] (DEBUG INFO) Executor start aborting (this does not indicate an error and you can ignore this message): INVALID_ARGUMENT: You must feed a value for placeholder tensor 'fnlwgt' with dtype int64 and shape [?,1]\n",
      "\t [[{{node fnlwgt}}]]\n",
      "2023-08-30 14:21:16.912354: I tensorflow/core/common_runtime/executor.cc:1197] [/device:CPU:0] (DEBUG INFO) Executor start aborting (this does not indicate an error and you can ignore this message): INVALID_ARGUMENT: You must feed a value for placeholder tensor 'inputs_2' with dtype int64 and shape [?,1]\n",
      "\t [[{{node inputs_2}}]]\n",
      "2023-08-30 14:21:16.933540: I tensorflow/core/common_runtime/executor.cc:1197] [/device:CPU:0] (DEBUG INFO) Executor start aborting (this does not indicate an error and you can ignore this message): INVALID_ARGUMENT: You must feed a value for placeholder tensor 'inputs_12' with dtype int64 and shape [?,1]\n",
      "\t [[{{node inputs_12}}]]\n",
      "2023-08-30 14:21:16.938780: I tensorflow/core/common_runtime/executor.cc:1197] [/device:CPU:0] (DEBUG INFO) Executor start aborting (this does not indicate an error and you can ignore this message): INVALID_ARGUMENT: You must feed a value for placeholder tensor 'inputs_4' with dtype int64 and shape [?,1]\n",
      "\t [[{{node inputs_4}}]]\n",
      "2023-08-30 14:21:16.944099: I tensorflow/core/common_runtime/executor.cc:1197] [/device:CPU:0] (DEBUG INFO) Executor start aborting (this does not indicate an error and you can ignore this message): INVALID_ARGUMENT: You must feed a value for placeholder tensor 'inputs_11' with dtype int64 and shape [?,1]\n",
      "\t [[{{node inputs_11}}]]\n",
      "2023-08-30 14:21:16.946212: I tensorflow/core/common_runtime/executor.cc:1197] [/device:CPU:0] (DEBUG INFO) Executor start aborting (this does not indicate an error and you can ignore this message): INVALID_ARGUMENT: You must feed a value for placeholder tensor 'inputs_10' with dtype int64 and shape [?,1]\n",
      "\t [[{{node inputs_10}}]]\n",
      "2023-08-30 14:21:16.948180: I tensorflow/core/common_runtime/executor.cc:1197] [/device:CPU:0] (DEBUG INFO) Executor start aborting (this does not indicate an error and you can ignore this message): INVALID_ARGUMENT: You must feed a value for placeholder tensor 'inputs' with dtype int64 and shape [?,1]\n",
      "\t [[{{node inputs}}]]\n",
      "2023-08-30 14:21:17.002740: I tensorflow/core/common_runtime/executor.cc:1197] [/device:CPU:0] (DEBUG INFO) Executor start aborting (this does not indicate an error and you can ignore this message): INVALID_ARGUMENT: You must feed a value for placeholder tensor 'Age' with dtype int64 and shape [?,1]\n",
      "\t [[{{node Age}}]]\n",
      "2023-08-30 14:21:17.002894: I tensorflow/core/common_runtime/executor.cc:1197] [/device:CPU:0] (DEBUG INFO) Executor start aborting (this does not indicate an error and you can ignore this message): INVALID_ARGUMENT: You must feed a value for placeholder tensor 'CapitalGain' with dtype int64 and shape [?,1]\n",
      "\t [[{{node CapitalGain}}]]\n",
      "2023-08-30 14:21:17.002980: I tensorflow/core/common_runtime/executor.cc:1197] [/device:CPU:0] (DEBUG INFO) Executor start aborting (this does not indicate an error and you can ignore this message): INVALID_ARGUMENT: You must feed a value for placeholder tensor 'CapitalLoss' with dtype int64 and shape [?,1]\n",
      "\t [[{{node CapitalLoss}}]]\n",
      "2023-08-30 14:21:17.003075: I tensorflow/core/common_runtime/executor.cc:1197] [/device:CPU:0] (DEBUG INFO) Executor start aborting (this does not indicate an error and you can ignore this message): INVALID_ARGUMENT: You must feed a value for placeholder tensor 'EducationNum' with dtype int64 and shape [?,1]\n",
      "\t [[{{node EducationNum}}]]\n",
      "2023-08-30 14:21:17.003175: I tensorflow/core/common_runtime/executor.cc:1197] [/device:CPU:0] (DEBUG INFO) Executor start aborting (this does not indicate an error and you can ignore this message): INVALID_ARGUMENT: You must feed a value for placeholder tensor 'HoursPerWeek' with dtype int64 and shape [?,1]\n",
      "\t [[{{node HoursPerWeek}}]]\n",
      "2023-08-30 14:21:17.003276: I tensorflow/core/common_runtime/executor.cc:1197] [/device:CPU:0] (DEBUG INFO) Executor start aborting (this does not indicate an error and you can ignore this message): INVALID_ARGUMENT: You must feed a value for placeholder tensor 'fnlwgt' with dtype int64 and shape [?,1]\n",
      "\t [[{{node fnlwgt}}]]\n",
      "2023-08-30 14:21:17.025688: I tensorflow/core/common_runtime/executor.cc:1197] [/device:CPU:0] (DEBUG INFO) Executor start aborting (this does not indicate an error and you can ignore this message): INVALID_ARGUMENT: You must feed a value for placeholder tensor 'inputs' with dtype int64 and shape [?,1]\n",
      "\t [[{{node inputs}}]]\n",
      "2023-08-30 14:21:17.124142: I tensorflow/core/common_runtime/executor.cc:1197] [/device:CPU:0] (DEBUG INFO) Executor start aborting (this does not indicate an error and you can ignore this message): INVALID_ARGUMENT: You must feed a value for placeholder tensor 'inputs' with dtype int64 and shape [?,1]\n",
      "\t [[{{node inputs}}]]\n",
      "2023-08-30 14:21:17.145005: I tensorflow/core/common_runtime/executor.cc:1197] [/device:CPU:0] (DEBUG INFO) Executor start aborting (this does not indicate an error and you can ignore this message): INVALID_ARGUMENT: You must feed a value for placeholder tensor 'inputs' with dtype int64 and shape [?,1]\n",
      "\t [[{{node inputs}}]]\n",
      "2023-08-30 14:21:17.169087: I tensorflow/core/common_runtime/executor.cc:1197] [/device:CPU:0] (DEBUG INFO) Executor start aborting (this does not indicate an error and you can ignore this message): INVALID_ARGUMENT: You must feed a value for placeholder tensor 'inputs' with dtype int64 and shape [?,1]\n",
      "\t [[{{node inputs}}]]\n",
      "2023-08-30 14:21:17.174291: I tensorflow/core/common_runtime/executor.cc:1197] [/device:CPU:0] (DEBUG INFO) Executor start aborting (this does not indicate an error and you can ignore this message): INVALID_ARGUMENT: You must feed a value for placeholder tensor 'inputs' with dtype int64 and shape [?,1]\n",
      "\t [[{{node inputs}}]]\n",
      "2023-08-30 14:21:17.180044: I tensorflow/core/common_runtime/executor.cc:1197] [/device:CPU:0] (DEBUG INFO) Executor start aborting (this does not indicate an error and you can ignore this message): INVALID_ARGUMENT: You must feed a value for placeholder tensor 'inputs' with dtype int64 and shape [?,1]\n",
      "\t [[{{node inputs}}]]\n",
      "2023-08-30 14:21:17.230729: I tensorflow/core/common_runtime/executor.cc:1197] [/device:CPU:0] (DEBUG INFO) Executor start aborting (this does not indicate an error and you can ignore this message): INVALID_ARGUMENT: You must feed a value for placeholder tensor 'inputs' with dtype int64 and shape [?,1]\n",
      "\t [[{{node inputs}}]]\n",
      "2023-08-30 14:21:17.230861: I tensorflow/core/common_runtime/executor.cc:1197] [/device:CPU:0] (DEBUG INFO) Executor start aborting (this does not indicate an error and you can ignore this message): INVALID_ARGUMENT: You must feed a value for placeholder tensor 'inputs_10' with dtype int64 and shape [?,1]\n",
      "\t [[{{node inputs_10}}]]\n",
      "2023-08-30 14:21:17.230941: I tensorflow/core/common_runtime/executor.cc:1197] [/device:CPU:0] (DEBUG INFO) Executor start aborting (this does not indicate an error and you can ignore this message): INVALID_ARGUMENT: You must feed a value for placeholder tensor 'inputs_11' with dtype int64 and shape [?,1]\n",
      "\t [[{{node inputs_11}}]]\n",
      "2023-08-30 14:21:17.231023: I tensorflow/core/common_runtime/executor.cc:1197] [/device:CPU:0] (DEBUG INFO) Executor start aborting (this does not indicate an error and you can ignore this message): INVALID_ARGUMENT: You must feed a value for placeholder tensor 'inputs_4' with dtype int64 and shape [?,1]\n",
      "\t [[{{node inputs_4}}]]\n",
      "2023-08-30 14:21:17.231101: I tensorflow/core/common_runtime/executor.cc:1197] [/device:CPU:0] (DEBUG INFO) Executor start aborting (this does not indicate an error and you can ignore this message): INVALID_ARGUMENT: You must feed a value for placeholder tensor 'inputs_12' with dtype int64 and shape [?,1]\n",
      "\t [[{{node inputs_12}}]]\n",
      "2023-08-30 14:21:17.231180: I tensorflow/core/common_runtime/executor.cc:1197] [/device:CPU:0] (DEBUG INFO) Executor start aborting (this does not indicate an error and you can ignore this message): INVALID_ARGUMENT: You must feed a value for placeholder tensor 'inputs_2' with dtype int64 and shape [?,1]\n",
      "\t [[{{node inputs_2}}]]\n",
      "2023-08-30 14:21:17.276326: I tensorflow/core/common_runtime/executor.cc:1197] [/device:CPU:0] (DEBUG INFO) Executor start aborting (this does not indicate an error and you can ignore this message): INVALID_ARGUMENT: You must feed a value for placeholder tensor 'inputs' with dtype int64 and shape [?,1]\n",
      "\t [[{{node inputs}}]]\n",
      "2023-08-30 14:21:17.276504: I tensorflow/core/common_runtime/executor.cc:1197] [/device:CPU:0] (DEBUG INFO) Executor start aborting (this does not indicate an error and you can ignore this message): INVALID_ARGUMENT: You must feed a value for placeholder tensor 'inputs_10' with dtype int64 and shape [?,1]\n",
      "\t [[{{node inputs_10}}]]\n",
      "2023-08-30 14:21:17.276632: I tensorflow/core/common_runtime/executor.cc:1197] [/device:CPU:0] (DEBUG INFO) Executor start aborting (this does not indicate an error and you can ignore this message): INVALID_ARGUMENT: You must feed a value for placeholder tensor 'inputs_11' with dtype int64 and shape [?,1]\n",
      "\t [[{{node inputs_11}}]]\n",
      "2023-08-30 14:21:17.276819: I tensorflow/core/common_runtime/executor.cc:1197] [/device:CPU:0] (DEBUG INFO) Executor start aborting (this does not indicate an error and you can ignore this message): INVALID_ARGUMENT: You must feed a value for placeholder tensor 'inputs_4' with dtype int64 and shape [?,1]\n",
      "\t [[{{node inputs_4}}]]\n",
      "2023-08-30 14:21:17.277005: I tensorflow/core/common_runtime/executor.cc:1197] [/device:CPU:0] (DEBUG INFO) Executor start aborting (this does not indicate an error and you can ignore this message): INVALID_ARGUMENT: You must feed a value for placeholder tensor 'inputs_12' with dtype int64 and shape [?,1]\n",
      "\t [[{{node inputs_12}}]]\n",
      "2023-08-30 14:21:17.277147: I tensorflow/core/common_runtime/executor.cc:1197] [/device:CPU:0] (DEBUG INFO) Executor start aborting (this does not indicate an error and you can ignore this message): INVALID_ARGUMENT: You must feed a value for placeholder tensor 'inputs_2' with dtype int64 and shape [?,1]\n",
      "\t [[{{node inputs_2}}]]\n",
      "2023-08-30 14:21:17.436829: I tensorflow/core/common_runtime/executor.cc:1197] [/device:CPU:0] (DEBUG INFO) Executor start aborting (this does not indicate an error and you can ignore this message): INVALID_ARGUMENT: You must feed a value for placeholder tensor 'Age' with dtype int64 and shape [?,1]\n",
      "\t [[{{node Age}}]]\n",
      "2023-08-30 14:21:17.436978: I tensorflow/core/common_runtime/executor.cc:1197] [/device:CPU:0] (DEBUG INFO) Executor start aborting (this does not indicate an error and you can ignore this message): INVALID_ARGUMENT: You must feed a value for placeholder tensor 'CapitalGain' with dtype int64 and shape [?,1]\n",
      "\t [[{{node CapitalGain}}]]\n",
      "2023-08-30 14:21:17.437128: I tensorflow/core/common_runtime/executor.cc:1197] [/device:CPU:0] (DEBUG INFO) Executor start aborting (this does not indicate an error and you can ignore this message): INVALID_ARGUMENT: You must feed a value for placeholder tensor 'CapitalLoss' with dtype int64 and shape [?,1]\n",
      "\t [[{{node CapitalLoss}}]]\n",
      "2023-08-30 14:21:17.437314: I tensorflow/core/common_runtime/executor.cc:1197] [/device:CPU:0] (DEBUG INFO) Executor start aborting (this does not indicate an error and you can ignore this message): INVALID_ARGUMENT: You must feed a value for placeholder tensor 'EducationNum' with dtype int64 and shape [?,1]\n",
      "\t [[{{node EducationNum}}]]\n",
      "2023-08-30 14:21:17.437451: I tensorflow/core/common_runtime/executor.cc:1197] [/device:CPU:0] (DEBUG INFO) Executor start aborting (this does not indicate an error and you can ignore this message): INVALID_ARGUMENT: You must feed a value for placeholder tensor 'HoursPerWeek' with dtype int64 and shape [?,1]\n",
      "\t [[{{node HoursPerWeek}}]]\n",
      "2023-08-30 14:21:17.437555: I tensorflow/core/common_runtime/executor.cc:1197] [/device:CPU:0] (DEBUG INFO) Executor start aborting (this does not indicate an error and you can ignore this message): INVALID_ARGUMENT: You must feed a value for placeholder tensor 'fnlwgt' with dtype int64 and shape [?,1]\n",
      "\t [[{{node fnlwgt}}]]\n",
      "2023-08-30 14:21:17.545174: I tensorflow/core/common_runtime/executor.cc:1197] [/device:CPU:0] (DEBUG INFO) Executor start aborting (this does not indicate an error and you can ignore this message): INVALID_ARGUMENT: You must feed a value for placeholder tensor 'inputs_age' with dtype int64 and shape [?,1]\n",
      "\t [[{{node inputs_age}}]]\n",
      "2023-08-30 14:21:17.545332: I tensorflow/core/common_runtime/executor.cc:1197] [/device:CPU:0] (DEBUG INFO) Executor start aborting (this does not indicate an error and you can ignore this message): INVALID_ARGUMENT: You must feed a value for placeholder tensor 'inputs_capitalgain' with dtype int64 and shape [?,1]\n",
      "\t [[{{node inputs_capitalgain}}]]\n",
      "2023-08-30 14:21:17.545493: I tensorflow/core/common_runtime/executor.cc:1197] [/device:CPU:0] (DEBUG INFO) Executor start aborting (this does not indicate an error and you can ignore this message): INVALID_ARGUMENT: You must feed a value for placeholder tensor 'inputs_capitalloss' with dtype int64 and shape [?,1]\n",
      "\t [[{{node inputs_capitalloss}}]]\n",
      "2023-08-30 14:21:17.545655: I tensorflow/core/common_runtime/executor.cc:1197] [/device:CPU:0] (DEBUG INFO) Executor start aborting (this does not indicate an error and you can ignore this message): INVALID_ARGUMENT: You must feed a value for placeholder tensor 'inputs_educationnum' with dtype int64 and shape [?,1]\n",
      "\t [[{{node inputs_educationnum}}]]\n",
      "2023-08-30 14:21:17.545847: I tensorflow/core/common_runtime/executor.cc:1197] [/device:CPU:0] (DEBUG INFO) Executor start aborting (this does not indicate an error and you can ignore this message): INVALID_ARGUMENT: You must feed a value for placeholder tensor 'inputs_hoursperweek' with dtype int64 and shape [?,1]\n",
      "\t [[{{node inputs_hoursperweek}}]]\n",
      "2023-08-30 14:21:17.546018: I tensorflow/core/common_runtime/executor.cc:1197] [/device:CPU:0] (DEBUG INFO) Executor start aborting (this does not indicate an error and you can ignore this message): INVALID_ARGUMENT: You must feed a value for placeholder tensor 'inputs_fnlwgt' with dtype int64 and shape [?,1]\n",
      "\t [[{{node inputs_fnlwgt}}]]\n",
      "2023-08-30 14:21:17.583348: I tensorflow/core/common_runtime/executor.cc:1197] [/device:CPU:0] (DEBUG INFO) Executor start aborting (this does not indicate an error and you can ignore this message): INVALID_ARGUMENT: You must feed a value for placeholder tensor 'inputs_age' with dtype int64 and shape [?,1]\n",
      "\t [[{{node inputs_age}}]]\n",
      "2023-08-30 14:21:17.583501: I tensorflow/core/common_runtime/executor.cc:1197] [/device:CPU:0] (DEBUG INFO) Executor start aborting (this does not indicate an error and you can ignore this message): INVALID_ARGUMENT: You must feed a value for placeholder tensor 'inputs_capitalgain' with dtype int64 and shape [?,1]\n",
      "\t [[{{node inputs_capitalgain}}]]\n",
      "2023-08-30 14:21:17.583666: I tensorflow/core/common_runtime/executor.cc:1197] [/device:CPU:0] (DEBUG INFO) Executor start aborting (this does not indicate an error and you can ignore this message): INVALID_ARGUMENT: You must feed a value for placeholder tensor 'inputs_capitalloss' with dtype int64 and shape [?,1]\n",
      "\t [[{{node inputs_capitalloss}}]]\n",
      "2023-08-30 14:21:17.583808: I tensorflow/core/common_runtime/executor.cc:1197] [/device:CPU:0] (DEBUG INFO) Executor start aborting (this does not indicate an error and you can ignore this message): INVALID_ARGUMENT: You must feed a value for placeholder tensor 'inputs_educationnum' with dtype int64 and shape [?,1]\n",
      "\t [[{{node inputs_educationnum}}]]\n",
      "2023-08-30 14:21:17.583982: I tensorflow/core/common_runtime/executor.cc:1197] [/device:CPU:0] (DEBUG INFO) Executor start aborting (this does not indicate an error and you can ignore this message): INVALID_ARGUMENT: You must feed a value for placeholder tensor 'inputs_hoursperweek' with dtype int64 and shape [?,1]\n",
      "\t [[{{node inputs_hoursperweek}}]]\n",
      "2023-08-30 14:21:17.584162: I tensorflow/core/common_runtime/executor.cc:1197] [/device:CPU:0] (DEBUG INFO) Executor start aborting (this does not indicate an error and you can ignore this message): INVALID_ARGUMENT: You must feed a value for placeholder tensor 'inputs_fnlwgt' with dtype int64 and shape [?,1]\n",
      "\t [[{{node inputs_fnlwgt}}]]\n",
      "2023-08-30 14:21:17.944908: I tensorflow/core/common_runtime/executor.cc:1197] [/device:CPU:0] (DEBUG INFO) Executor start aborting (this does not indicate an error and you can ignore this message): INVALID_ARGUMENT: You must feed a value for placeholder tensor 'inputs' with dtype int64 and shape [?,1]\n",
      "\t [[{{node inputs}}]]\n",
      "2023-08-30 14:21:17.961672: I tensorflow/core/common_runtime/executor.cc:1197] [/device:CPU:0] (DEBUG INFO) Executor start aborting (this does not indicate an error and you can ignore this message): INVALID_ARGUMENT: You must feed a value for placeholder tensor 'inputs' with dtype int64 and shape [?,1]\n",
      "\t [[{{node inputs}}]]\n",
      "2023-08-30 14:21:17.977006: I tensorflow/core/common_runtime/executor.cc:1197] [/device:CPU:0] (DEBUG INFO) Executor start aborting (this does not indicate an error and you can ignore this message): INVALID_ARGUMENT: You must feed a value for placeholder tensor 'inputs' with dtype int64 and shape [?,1]\n",
      "\t [[{{node inputs}}]]\n",
      "2023-08-30 14:21:18.044523: I tensorflow/core/common_runtime/executor.cc:1197] [/device:CPU:0] (DEBUG INFO) Executor start aborting (this does not indicate an error and you can ignore this message): INVALID_ARGUMENT: You must feed a value for placeholder tensor 'inputs' with dtype int64 and shape [?,1]\n",
      "\t [[{{node inputs}}]]\n",
      "2023-08-30 14:21:18.110049: I tensorflow/core/common_runtime/executor.cc:1197] [/device:CPU:0] (DEBUG INFO) Executor start aborting (this does not indicate an error and you can ignore this message): INVALID_ARGUMENT: You must feed a value for placeholder tensor 'inputs' with dtype int64 and shape [?,1]\n",
      "\t [[{{node inputs}}]]\n",
      "2023-08-30 14:21:18.443326: I tensorflow/core/common_runtime/executor.cc:1197] [/device:CPU:0] (DEBUG INFO) Executor start aborting (this does not indicate an error and you can ignore this message): INVALID_ARGUMENT: You must feed a value for placeholder tensor 'inputs' with dtype int64 and shape [?,1]\n",
      "\t [[{{node inputs}}]]\n",
      "2023-08-30 14:21:18.647839: I tensorflow/core/common_runtime/executor.cc:1197] [/device:CPU:0] (DEBUG INFO) Executor start aborting (this does not indicate an error and you can ignore this message): INVALID_ARGUMENT: You must feed a value for placeholder tensor 'serving_default_Age' with dtype int64 and shape [?,1]\n",
      "\t [[{{node serving_default_Age}}]]\n",
      "2023-08-30 14:21:18.647993: I tensorflow/core/common_runtime/executor.cc:1197] [/device:CPU:0] (DEBUG INFO) Executor start aborting (this does not indicate an error and you can ignore this message): INVALID_ARGUMENT: You must feed a value for placeholder tensor 'serving_default_CapitalGain' with dtype int64 and shape [?,1]\n",
      "\t [[{{node serving_default_CapitalGain}}]]\n",
      "2023-08-30 14:21:18.648109: I tensorflow/core/common_runtime/executor.cc:1197] [/device:CPU:0] (DEBUG INFO) Executor start aborting (this does not indicate an error and you can ignore this message): INVALID_ARGUMENT: You must feed a value for placeholder tensor 'serving_default_CapitalLoss' with dtype int64 and shape [?,1]\n",
      "\t [[{{node serving_default_CapitalLoss}}]]\n",
      "2023-08-30 14:21:18.648222: I tensorflow/core/common_runtime/executor.cc:1197] [/device:CPU:0] (DEBUG INFO) Executor start aborting (this does not indicate an error and you can ignore this message): INVALID_ARGUMENT: You must feed a value for placeholder tensor 'serving_default_EducationNum' with dtype int64 and shape [?,1]\n",
      "\t [[{{node serving_default_EducationNum}}]]\n",
      "2023-08-30 14:21:18.648344: I tensorflow/core/common_runtime/executor.cc:1197] [/device:CPU:0] (DEBUG INFO) Executor start aborting (this does not indicate an error and you can ignore this message): INVALID_ARGUMENT: You must feed a value for placeholder tensor 'serving_default_HoursPerWeek' with dtype int64 and shape [?,1]\n",
      "\t [[{{node serving_default_HoursPerWeek}}]]\n",
      "2023-08-30 14:21:18.648473: I tensorflow/core/common_runtime/executor.cc:1197] [/device:CPU:0] (DEBUG INFO) Executor start aborting (this does not indicate an error and you can ignore this message): INVALID_ARGUMENT: You must feed a value for placeholder tensor 'serving_default_fnlwgt' with dtype int64 and shape [?,1]\n",
      "\t [[{{node serving_default_fnlwgt}}]]\n"
     ]
    },
    {
     "name": "stdout",
     "output_type": "stream",
     "text": [
      "INFO:tensorflow:Assets written to: /opt/atlassian/pipelines/agent/build/demo-notebooks/resources/workspaces/saveloadESM_adult_income/preprocessing/dataset_name=Dataset_56d209eb/assets\n"
     ]
    },
    {
     "data": {
      "text/plain": [
       "Dataset(id=aa99f238-65ee-4fb3-86ff-734093d7beff; name=Dataset_56d209eb; is_named=False; workspace_id=None)"
      ]
     },
     "execution_count": 8,
     "metadata": {},
     "output_type": "execute_result"
    }
   ],
   "source": [
    "from umnai.data.datasets import Dataset\n",
    "from umnai.data.enums import PredictionType\n",
    "\n",
    "dataset = Dataset.from_pandas(\n",
    "    dataset_df,\n",
    "    prediction_type=PredictionType.CLASSIFICATION,\n",
    "    features=list(dataset_df.drop(['Income'], axis=1).columns),    # All columns except 'Income' are features\n",
    "    targets=['Income'],\n",
    ")\n",
    "\n",
    "dataset # Prints dataset details to confirm created/opened"
   ]
  },
  {
   "cell_type": "markdown",
   "metadata": {
    "application/vnd.databricks.v1+cell": {
     "cellMetadata": {
      "byteLimit": 2048000,
      "rowLimit": 10000
     },
     "inputWidgets": {},
     "nuid": "e0341625-d221-4d80-bcfb-6e4209d8d3b8",
     "showTitle": false,
     "title": ""
    }
   },
   "source": [
    "# Induce a Hybrid Intelligence Model\n",
    "\n",
    "First create the ModelInducer to set up the induction parameters and settings. Then simply use the ModelInducer to induce the ESM from the onboarded dataset."
   ]
  },
  {
   "cell_type": "code",
   "execution_count": 9,
   "metadata": {
    "application/vnd.databricks.v1+cell": {
     "cellMetadata": {
      "byteLimit": 2048000,
      "rowLimit": 10000
     },
     "inputWidgets": {},
     "nuid": "6b4d4990-2ff9-4142-853e-5d66b316f527",
     "showTitle": false,
     "title": ""
    },
    "execution": {
     "iopub.execute_input": "2023-08-30T14:21:25.364026Z",
     "iopub.status.busy": "2023-08-30T14:21:25.363710Z",
     "iopub.status.idle": "2023-08-30T14:28:15.065224Z",
     "shell.execute_reply": "2023-08-30T14:28:15.064500Z"
    }
   },
   "outputs": [
    {
     "data": {
      "application/vnd.jupyter.widget-view+json": {
       "model_id": "0d61b9e0835646798f2a51c911386555",
       "version_major": 2,
       "version_minor": 0
      },
      "text/plain": [
       "[Modules] - MLFLOW Run ID: 2f2b63ca68b2492ab41b596df6ac85ea:   0%|          | 0/25 [00:00<?, ?it/s]"
      ]
     },
     "metadata": {},
     "output_type": "display_data"
    },
    {
     "name": "stderr",
     "output_type": "stream",
     "text": [
      "21/21 [==============================] - 0s 860us/step\n",
      "21/21 [==============================] - 0s 822us/step\n",
      "21/21 [==============================] - 0s 786us/step\n",
      "21/21 [==============================] - 0s 823us/step\n",
      "21/21 [==============================] - 0s 804us/step\n",
      "21/21 [==============================] - 0s 841us/step\n",
      "21/21 [==============================] - 0s 764us/step\n",
      "21/21 [==============================] - 0s 1ms/step\n",
      "21/21 [==============================] - 0s 1ms/step\n",
      "21/21 [==============================] - 0s 772us/step\n",
      "21/21 [==============================] - 0s 835us/step\n",
      "21/21 [==============================] - 0s 832us/step\n",
      "21/21 [==============================] - 0s 832us/step\n",
      "21/21 [==============================] - 0s 751us/step\n",
      "21/21 [==============================] - 0s 781us/step\n",
      "21/21 [==============================] - 0s 796us/step\n",
      "21/21 [==============================] - 0s 881us/step\n",
      "21/21 [==============================] - 0s 795us/step\n",
      "21/21 [==============================] - 0s 820us/step\n",
      "21/21 [==============================] - 0s 1ms/step\n",
      "21/21 [==============================] - 0s 748us/step\n",
      "21/21 [==============================] - 0s 748us/step\n",
      "21/21 [==============================] - 0s 769us/step\n",
      "21/21 [==============================] - 0s 764us/step\n",
      "21/21 [==============================] - 0s 825us/step\n",
      "21/21 [==============================] - 0s 793us/step\n",
      "21/21 [==============================] - 0s 790us/step\n",
      "21/21 [==============================] - 0s 794us/step\n",
      "21/21 [==============================] - 0s 874us/step\n",
      "21/21 [==============================] - 0s 839us/step\n",
      "21/21 [==============================] - 0s 849us/step\n",
      "21/21 [==============================] - 0s 1ms/step\n",
      "21/21 [==============================] - 0s 822us/step\n",
      "21/21 [==============================] - 0s 899us/step\n",
      "26/26 [==============================] - 1s 3ms/step\n",
      "26/26 [==============================] - 1s 3ms/step\n",
      "26/26 [==============================] - 1s 3ms/step\n",
      "26/26 [==============================] - 1s 3ms/step\n"
     ]
    },
    {
     "name": "stdout",
     "output_type": "stream",
     "text": [
      "WARNING:tensorflow:AutoGraph could not transform <bound method PolynomialTransformer.call of <umnai.models.xnn.layers.transformation.PolynomialTransformer object at 0x7f639a852ad0>> and will run it as-is.\n",
      "Please report this to the TensorFlow team. When filing the bug, set the verbosity to 10 (on Linux, `export AUTOGRAPH_VERBOSITY=10`) and attach the full output.\n",
      "Cause: module, class, method, function, traceback, frame, or code object was expected, got cython_function_or_method\n",
      "To silence this warning, decorate the function with @tf.autograph.experimental.do_not_convert\n",
      "WARNING:tensorflow:AutoGraph could not transform <bound method LinearEstimator.call of <umnai.models.xnn.layers.linear.LinearEstimator object at 0x7f639aabadd0>> and will run it as-is.\n",
      "Please report this to the TensorFlow team. When filing the bug, set the verbosity to 10 (on Linux, `export AUTOGRAPH_VERBOSITY=10`) and attach the full output.\n",
      "Cause: module, class, method, function, traceback, frame, or code object was expected, got cython_function_or_method\n",
      "To silence this warning, decorate the function with @tf.autograph.experimental.do_not_convert\n",
      "WARNING:tensorflow:AutoGraph could not transform <bound method LinearEstimator.call of <umnai.models.xnn.layers.linear.LinearEstimator object at 0x7f639a941850>> and will run it as-is.\n",
      "Please report this to the TensorFlow team. When filing the bug, set the verbosity to 10 (on Linux, `export AUTOGRAPH_VERBOSITY=10`) and attach the full output.\n",
      "Cause: module, class, method, function, traceback, frame, or code object was expected, got cython_function_or_method\n",
      "To silence this warning, decorate the function with @tf.autograph.experimental.do_not_convert\n",
      "WARNING:tensorflow:AutoGraph could not transform <bound method GraphPartitioner.call of <umnai.models.xnn.layers.partition.GraphPartitioner object at 0x7f639aa94d50>> and will run it as-is.\n",
      "Please report this to the TensorFlow team. When filing the bug, set the verbosity to 10 (on Linux, `export AUTOGRAPH_VERBOSITY=10`) and attach the full output.\n",
      "Cause: module, class, method, function, traceback, frame, or code object was expected, got cython_function_or_method\n",
      "To silence this warning, decorate the function with @tf.autograph.experimental.do_not_convert\n",
      "WARNING:tensorflow:AutoGraph could not transform <bound method PartitionAggregator.call of <umnai.models.xnn.layers.linear.PartitionAggregator object at 0x7f639aaab690>> and will run it as-is.\n",
      "Please report this to the TensorFlow team. When filing the bug, set the verbosity to 10 (on Linux, `export AUTOGRAPH_VERBOSITY=10`) and attach the full output.\n",
      "Cause: module, class, method, function, traceback, frame, or code object was expected, got cython_function_or_method\n",
      "To silence this warning, decorate the function with @tf.autograph.experimental.do_not_convert\n",
      "WARNING:tensorflow:AutoGraph could not transform <bound method PartitionAggregator.call of <umnai.models.xnn.layers.linear.PartitionAggregator object at 0x7f639aabb3d0>> and will run it as-is.\n",
      "Please report this to the TensorFlow team. When filing the bug, set the verbosity to 10 (on Linux, `export AUTOGRAPH_VERBOSITY=10`) and attach the full output.\n",
      "Cause: module, class, method, function, traceback, frame, or code object was expected, got cython_function_or_method\n",
      "To silence this warning, decorate the function with @tf.autograph.experimental.do_not_convert\n",
      "WARNING:tensorflow:AutoGraph could not transform <bound method PartitionAggregator.call of <umnai.models.xnn.layers.linear.PartitionAggregator object at 0x7f639a8fb3d0>> and will run it as-is.\n",
      "Please report this to the TensorFlow team. When filing the bug, set the verbosity to 10 (on Linux, `export AUTOGRAPH_VERBOSITY=10`) and attach the full output.\n",
      "Cause: module, class, method, function, traceback, frame, or code object was expected, got cython_function_or_method\n",
      "To silence this warning, decorate the function with @tf.autograph.experimental.do_not_convert\n",
      "WARNING:tensorflow:AutoGraph could not transform <bound method FeatureActivation.call of <umnai.models.xnn.layers.activations.FeatureActivation object at 0x7f639aa110d0>> and will run it as-is.\n",
      "Please report this to the TensorFlow team. When filing the bug, set the verbosity to 10 (on Linux, `export AUTOGRAPH_VERBOSITY=10`) and attach the full output.\n",
      "Cause: module, class, method, function, traceback, frame, or code object was expected, got cython_function_or_method\n",
      "To silence this warning, decorate the function with @tf.autograph.experimental.do_not_convert\n",
      "WARNING:tensorflow:AutoGraph could not transform <bound method LinearAggregator.call of <umnai.models.xnn.layers.linear.LinearAggregator object at 0x7f639eb23050>> and will run it as-is.\n",
      "Please report this to the TensorFlow team. When filing the bug, set the verbosity to 10 (on Linux, `export AUTOGRAPH_VERBOSITY=10`) and attach the full output.\n",
      "Cause: module, class, method, function, traceback, frame, or code object was expected, got cython_function_or_method\n",
      "To silence this warning, decorate the function with @tf.autograph.experimental.do_not_convert\n",
      "WARNING:tensorflow:AutoGraph could not transform <bound method XNNModule.call of <umnai.models.xnn.layers.module.XNNModule object at 0x7f639b5e8290>> and will run it as-is.\n",
      "Please report this to the TensorFlow team. When filing the bug, set the verbosity to 10 (on Linux, `export AUTOGRAPH_VERBOSITY=10`) and attach the full output.\n",
      "Cause: module, class, method, function, traceback, frame, or code object was expected, got cython_function_or_method\n",
      "To silence this warning, decorate the function with @tf.autograph.experimental.do_not_convert\n",
      "WARNING:tensorflow:AutoGraph could not transform <bound method XNNModel.call of <umnai.models.xnn.model.XNNModel object at 0x7f639b48f050>> and will run it as-is.\n",
      "Please report this to the TensorFlow team. When filing the bug, set the verbosity to 10 (on Linux, `export AUTOGRAPH_VERBOSITY=10`) and attach the full output.\n",
      "Cause: module, class, method, function, traceback, frame, or code object was expected, got cython_function_or_method\n",
      "To silence this warning, decorate the function with @tf.autograph.experimental.do_not_convert\n",
      "WARNING:tensorflow:Compiled the loaded model, but the compiled metrics have yet to be built. `model.compile_metrics` will be empty until you train or evaluate the model.\n",
      "WARNING:tensorflow:AutoGraph could not transform <bound method ESM.call of <umnai.esm.model.ESM object at 0x7f639b499ad0>> and will run it as-is.\n",
      "Please report this to the TensorFlow team. When filing the bug, set the verbosity to 10 (on Linux, `export AUTOGRAPH_VERBOSITY=10`) and attach the full output.\n",
      "Cause: module, class, method, function, traceback, frame, or code object was expected, got cython_function_or_method\n",
      "To silence this warning, decorate the function with @tf.autograph.experimental.do_not_convert\n"
     ]
    },
    {
     "name": "stderr",
     "output_type": "stream",
     "text": [
      "2023-08-30 14:27:29.853462: I tensorflow/core/common_runtime/executor.cc:1197] [/device:CPU:0] (DEBUG INFO) Executor start aborting (this does not indicate an error and you can ignore this message): INVALID_ARGUMENT: You must feed a value for placeholder tensor 'fnlwgt' with dtype int64 and shape [?,1]\n",
      "\t [[{{node fnlwgt}}]]\n",
      "2023-08-30 14:27:30.015671: I tensorflow/core/common_runtime/executor.cc:1197] [/device:CPU:0] (DEBUG INFO) Executor start aborting (this does not indicate an error and you can ignore this message): INVALID_ARGUMENT: You must feed a value for placeholder tensor 'HoursPerWeek' with dtype int64 and shape [?,1]\n",
      "\t [[{{node HoursPerWeek}}]]\n",
      "2023-08-30 14:27:30.053726: I tensorflow/core/common_runtime/executor.cc:1197] [/device:CPU:0] (DEBUG INFO) Executor start aborting (this does not indicate an error and you can ignore this message): INVALID_ARGUMENT: You must feed a value for placeholder tensor 'EducationNum' with dtype int64 and shape [?,1]\n",
      "\t [[{{node EducationNum}}]]\n",
      "2023-08-30 14:27:30.091527: I tensorflow/core/common_runtime/executor.cc:1197] [/device:CPU:0] (DEBUG INFO) Executor start aborting (this does not indicate an error and you can ignore this message): INVALID_ARGUMENT: You must feed a value for placeholder tensor 'CapitalLoss' with dtype int64 and shape [?,1]\n",
      "\t [[{{node CapitalLoss}}]]\n",
      "2023-08-30 14:27:30.107047: I tensorflow/core/common_runtime/executor.cc:1197] [/device:CPU:0] (DEBUG INFO) Executor start aborting (this does not indicate an error and you can ignore this message): INVALID_ARGUMENT: You must feed a value for placeholder tensor 'CapitalGain' with dtype int64 and shape [?,1]\n",
      "\t [[{{node CapitalGain}}]]\n",
      "2023-08-30 14:27:30.122197: I tensorflow/core/common_runtime/executor.cc:1197] [/device:CPU:0] (DEBUG INFO) Executor start aborting (this does not indicate an error and you can ignore this message): INVALID_ARGUMENT: You must feed a value for placeholder tensor 'Age' with dtype int64 and shape [?,1]\n",
      "\t [[{{node Age}}]]\n",
      "2023-08-30 14:27:30.274071: I tensorflow/core/common_runtime/executor.cc:1197] [/device:CPU:0] (DEBUG INFO) Executor start aborting (this does not indicate an error and you can ignore this message): INVALID_ARGUMENT: You must feed a value for placeholder tensor 'fnlwgt' with dtype int64 and shape [?,1]\n",
      "\t [[{{node fnlwgt}}]]\n",
      "2023-08-30 14:27:30.405891: I tensorflow/core/common_runtime/executor.cc:1197] [/device:CPU:0] (DEBUG INFO) Executor start aborting (this does not indicate an error and you can ignore this message): INVALID_ARGUMENT: You must feed a value for placeholder tensor 'HoursPerWeek' with dtype int64 and shape [?,1]\n",
      "\t [[{{node HoursPerWeek}}]]\n",
      "2023-08-30 14:27:30.428754: I tensorflow/core/common_runtime/executor.cc:1197] [/device:CPU:0] (DEBUG INFO) Executor start aborting (this does not indicate an error and you can ignore this message): INVALID_ARGUMENT: You must feed a value for placeholder tensor 'EducationNum' with dtype int64 and shape [?,1]\n",
      "\t [[{{node EducationNum}}]]\n",
      "2023-08-30 14:27:30.451623: I tensorflow/core/common_runtime/executor.cc:1197] [/device:CPU:0] (DEBUG INFO) Executor start aborting (this does not indicate an error and you can ignore this message): INVALID_ARGUMENT: You must feed a value for placeholder tensor 'CapitalLoss' with dtype int64 and shape [?,1]\n",
      "\t [[{{node CapitalLoss}}]]\n",
      "2023-08-30 14:27:30.453628: I tensorflow/core/common_runtime/executor.cc:1197] [/device:CPU:0] (DEBUG INFO) Executor start aborting (this does not indicate an error and you can ignore this message): INVALID_ARGUMENT: You must feed a value for placeholder tensor 'CapitalGain' with dtype int64 and shape [?,1]\n",
      "\t [[{{node CapitalGain}}]]\n",
      "2023-08-30 14:27:30.455625: I tensorflow/core/common_runtime/executor.cc:1197] [/device:CPU:0] (DEBUG INFO) Executor start aborting (this does not indicate an error and you can ignore this message): INVALID_ARGUMENT: You must feed a value for placeholder tensor 'Age' with dtype int64 and shape [?,1]\n",
      "\t [[{{node Age}}]]\n",
      "2023-08-30 14:27:30.611471: I tensorflow/core/common_runtime/executor.cc:1197] [/device:CPU:0] (DEBUG INFO) Executor start aborting (this does not indicate an error and you can ignore this message): INVALID_ARGUMENT: You must feed a value for placeholder tensor 'inputs_13' with dtype int64 and shape [?,1]\n",
      "\t [[{{node inputs_13}}]]\n",
      "2023-08-30 14:27:30.630739: I tensorflow/core/common_runtime/executor.cc:1197] [/device:CPU:0] (DEBUG INFO) Executor start aborting (this does not indicate an error and you can ignore this message): INVALID_ARGUMENT: You must feed a value for placeholder tensor 'inputs_6' with dtype int64 and shape [?,1]\n",
      "\t [[{{node inputs_6}}]]\n",
      "2023-08-30 14:27:30.635239: I tensorflow/core/common_runtime/executor.cc:1197] [/device:CPU:0] (DEBUG INFO) Executor start aborting (this does not indicate an error and you can ignore this message): INVALID_ARGUMENT: You must feed a value for placeholder tensor 'inputs_4' with dtype int64 and shape [?,1]\n",
      "\t [[{{node inputs_4}}]]\n",
      "2023-08-30 14:27:30.639707: I tensorflow/core/common_runtime/executor.cc:1197] [/device:CPU:0] (DEBUG INFO) Executor start aborting (this does not indicate an error and you can ignore this message): INVALID_ARGUMENT: You must feed a value for placeholder tensor 'inputs_2' with dtype int64 and shape [?,1]\n",
      "\t [[{{node inputs_2}}]]\n",
      "2023-08-30 14:27:30.641528: I tensorflow/core/common_runtime/executor.cc:1197] [/device:CPU:0] (DEBUG INFO) Executor start aborting (this does not indicate an error and you can ignore this message): INVALID_ARGUMENT: You must feed a value for placeholder tensor 'inputs_1' with dtype int64 and shape [?,1]\n",
      "\t [[{{node inputs_1}}]]\n",
      "2023-08-30 14:27:30.643293: I tensorflow/core/common_runtime/executor.cc:1197] [/device:CPU:0] (DEBUG INFO) Executor start aborting (this does not indicate an error and you can ignore this message): INVALID_ARGUMENT: You must feed a value for placeholder tensor 'inputs' with dtype int64 and shape [?,1]\n",
      "\t [[{{node inputs}}]]\n",
      "2023-08-30 14:27:31.232249: I tensorflow/core/common_runtime/executor.cc:1197] [/device:CPU:0] (DEBUG INFO) Executor start aborting (this does not indicate an error and you can ignore this message): INVALID_ARGUMENT: You must feed a value for placeholder tensor 'Age' with dtype int64 and shape [?,1]\n",
      "\t [[{{node Age}}]]\n",
      "2023-08-30 14:27:31.232390: I tensorflow/core/common_runtime/executor.cc:1197] [/device:CPU:0] (DEBUG INFO) Executor start aborting (this does not indicate an error and you can ignore this message): INVALID_ARGUMENT: You must feed a value for placeholder tensor 'CapitalGain' with dtype int64 and shape [?,1]\n",
      "\t [[{{node CapitalGain}}]]\n",
      "2023-08-30 14:27:31.232486: I tensorflow/core/common_runtime/executor.cc:1197] [/device:CPU:0] (DEBUG INFO) Executor start aborting (this does not indicate an error and you can ignore this message): INVALID_ARGUMENT: You must feed a value for placeholder tensor 'CapitalLoss' with dtype int64 and shape [?,1]\n",
      "\t [[{{node CapitalLoss}}]]\n",
      "2023-08-30 14:27:31.232588: I tensorflow/core/common_runtime/executor.cc:1197] [/device:CPU:0] (DEBUG INFO) Executor start aborting (this does not indicate an error and you can ignore this message): INVALID_ARGUMENT: You must feed a value for placeholder tensor 'EducationNum' with dtype int64 and shape [?,1]\n",
      "\t [[{{node EducationNum}}]]\n",
      "2023-08-30 14:27:31.232692: I tensorflow/core/common_runtime/executor.cc:1197] [/device:CPU:0] (DEBUG INFO) Executor start aborting (this does not indicate an error and you can ignore this message): INVALID_ARGUMENT: You must feed a value for placeholder tensor 'HoursPerWeek' with dtype int64 and shape [?,1]\n",
      "\t [[{{node HoursPerWeek}}]]\n",
      "2023-08-30 14:27:31.232810: I tensorflow/core/common_runtime/executor.cc:1197] [/device:CPU:0] (DEBUG INFO) Executor start aborting (this does not indicate an error and you can ignore this message): INVALID_ARGUMENT: You must feed a value for placeholder tensor 'fnlwgt' with dtype int64 and shape [?,1]\n",
      "\t [[{{node fnlwgt}}]]\n",
      "2023-08-30 14:27:31.324972: I tensorflow/core/common_runtime/executor.cc:1197] [/device:CPU:0] (DEBUG INFO) Executor start aborting (this does not indicate an error and you can ignore this message): INVALID_ARGUMENT: You must feed a value for placeholder tensor 'inputs_13' with dtype int64 and shape [?,1]\n",
      "\t [[{{node inputs_13}}]]\n",
      "2023-08-30 14:27:31.343525: I tensorflow/core/common_runtime/executor.cc:1197] [/device:CPU:0] (DEBUG INFO) Executor start aborting (this does not indicate an error and you can ignore this message): INVALID_ARGUMENT: You must feed a value for placeholder tensor 'inputs_6' with dtype int64 and shape [?,1]\n",
      "\t [[{{node inputs_6}}]]\n",
      "2023-08-30 14:27:31.348105: I tensorflow/core/common_runtime/executor.cc:1197] [/device:CPU:0] (DEBUG INFO) Executor start aborting (this does not indicate an error and you can ignore this message): INVALID_ARGUMENT: You must feed a value for placeholder tensor 'inputs_4' with dtype int64 and shape [?,1]\n",
      "\t [[{{node inputs_4}}]]\n",
      "2023-08-30 14:27:31.352656: I tensorflow/core/common_runtime/executor.cc:1197] [/device:CPU:0] (DEBUG INFO) Executor start aborting (this does not indicate an error and you can ignore this message): INVALID_ARGUMENT: You must feed a value for placeholder tensor 'inputs_2' with dtype int64 and shape [?,1]\n",
      "\t [[{{node inputs_2}}]]\n",
      "2023-08-30 14:27:31.354518: I tensorflow/core/common_runtime/executor.cc:1197] [/device:CPU:0] (DEBUG INFO) Executor start aborting (this does not indicate an error and you can ignore this message): INVALID_ARGUMENT: You must feed a value for placeholder tensor 'inputs_1' with dtype int64 and shape [?,1]\n",
      "\t [[{{node inputs_1}}]]\n",
      "2023-08-30 14:27:31.356269: I tensorflow/core/common_runtime/executor.cc:1197] [/device:CPU:0] (DEBUG INFO) Executor start aborting (this does not indicate an error and you can ignore this message): INVALID_ARGUMENT: You must feed a value for placeholder tensor 'inputs' with dtype int64 and shape [?,1]\n",
      "\t [[{{node inputs}}]]\n",
      "2023-08-30 14:27:31.551851: I tensorflow/core/common_runtime/executor.cc:1197] [/device:CPU:0] (DEBUG INFO) Executor start aborting (this does not indicate an error and you can ignore this message): INVALID_ARGUMENT: You must feed a value for placeholder tensor 'Age' with dtype int64 and shape [?,1]\n",
      "\t [[{{node Age}}]]\n",
      "2023-08-30 14:27:31.551995: I tensorflow/core/common_runtime/executor.cc:1197] [/device:CPU:0] (DEBUG INFO) Executor start aborting (this does not indicate an error and you can ignore this message): INVALID_ARGUMENT: You must feed a value for placeholder tensor 'CapitalGain' with dtype int64 and shape [?,1]\n",
      "\t [[{{node CapitalGain}}]]\n",
      "2023-08-30 14:27:31.552087: I tensorflow/core/common_runtime/executor.cc:1197] [/device:CPU:0] (DEBUG INFO) Executor start aborting (this does not indicate an error and you can ignore this message): INVALID_ARGUMENT: You must feed a value for placeholder tensor 'CapitalLoss' with dtype int64 and shape [?,1]\n",
      "\t [[{{node CapitalLoss}}]]\n",
      "2023-08-30 14:27:31.552171: I tensorflow/core/common_runtime/executor.cc:1197] [/device:CPU:0] (DEBUG INFO) Executor start aborting (this does not indicate an error and you can ignore this message): INVALID_ARGUMENT: You must feed a value for placeholder tensor 'EducationNum' with dtype int64 and shape [?,1]\n",
      "\t [[{{node EducationNum}}]]\n",
      "2023-08-30 14:27:31.552263: I tensorflow/core/common_runtime/executor.cc:1197] [/device:CPU:0] (DEBUG INFO) Executor start aborting (this does not indicate an error and you can ignore this message): INVALID_ARGUMENT: You must feed a value for placeholder tensor 'HoursPerWeek' with dtype int64 and shape [?,1]\n",
      "\t [[{{node HoursPerWeek}}]]\n",
      "2023-08-30 14:27:31.552363: I tensorflow/core/common_runtime/executor.cc:1197] [/device:CPU:0] (DEBUG INFO) Executor start aborting (this does not indicate an error and you can ignore this message): INVALID_ARGUMENT: You must feed a value for placeholder tensor 'fnlwgt' with dtype int64 and shape [?,1]\n",
      "\t [[{{node fnlwgt}}]]\n",
      "2023-08-30 14:27:31.625730: I tensorflow/core/common_runtime/executor.cc:1197] [/device:CPU:0] (DEBUG INFO) Executor start aborting (this does not indicate an error and you can ignore this message): INVALID_ARGUMENT: You must feed a value for placeholder tensor 'inputs' with dtype int64 and shape [?,1]\n",
      "\t [[{{node inputs}}]]\n",
      "2023-08-30 14:27:31.716221: I tensorflow/core/common_runtime/executor.cc:1197] [/device:CPU:0] (DEBUG INFO) Executor start aborting (this does not indicate an error and you can ignore this message): INVALID_ARGUMENT: You must feed a value for placeholder tensor 'inputs' with dtype int64 and shape [?,1]\n",
      "\t [[{{node inputs}}]]\n",
      "2023-08-30 14:27:31.735635: I tensorflow/core/common_runtime/executor.cc:1197] [/device:CPU:0] (DEBUG INFO) Executor start aborting (this does not indicate an error and you can ignore this message): INVALID_ARGUMENT: You must feed a value for placeholder tensor 'inputs' with dtype int64 and shape [?,1]\n",
      "\t [[{{node inputs}}]]\n",
      "2023-08-30 14:27:31.757490: I tensorflow/core/common_runtime/executor.cc:1197] [/device:CPU:0] (DEBUG INFO) Executor start aborting (this does not indicate an error and you can ignore this message): INVALID_ARGUMENT: You must feed a value for placeholder tensor 'inputs' with dtype int64 and shape [?,1]\n",
      "\t [[{{node inputs}}]]\n",
      "2023-08-30 14:27:31.763123: I tensorflow/core/common_runtime/executor.cc:1197] [/device:CPU:0] (DEBUG INFO) Executor start aborting (this does not indicate an error and you can ignore this message): INVALID_ARGUMENT: You must feed a value for placeholder tensor 'inputs' with dtype int64 and shape [?,1]\n",
      "\t [[{{node inputs}}]]\n",
      "2023-08-30 14:27:31.768068: I tensorflow/core/common_runtime/executor.cc:1197] [/device:CPU:0] (DEBUG INFO) Executor start aborting (this does not indicate an error and you can ignore this message): INVALID_ARGUMENT: You must feed a value for placeholder tensor 'inputs' with dtype int64 and shape [?,1]\n",
      "\t [[{{node inputs}}]]\n",
      "2023-08-30 14:27:31.847819: I tensorflow/core/common_runtime/executor.cc:1197] [/device:CPU:0] (DEBUG INFO) Executor start aborting (this does not indicate an error and you can ignore this message): INVALID_ARGUMENT: You must feed a value for placeholder tensor 'inputs' with dtype int64 and shape [?,1]\n",
      "\t [[{{node inputs}}]]\n",
      "2023-08-30 14:27:31.847967: I tensorflow/core/common_runtime/executor.cc:1197] [/device:CPU:0] (DEBUG INFO) Executor start aborting (this does not indicate an error and you can ignore this message): INVALID_ARGUMENT: You must feed a value for placeholder tensor 'inputs_1' with dtype int64 and shape [?,1]\n",
      "\t [[{{node inputs_1}}]]\n",
      "2023-08-30 14:27:31.848061: I tensorflow/core/common_runtime/executor.cc:1197] [/device:CPU:0] (DEBUG INFO) Executor start aborting (this does not indicate an error and you can ignore this message): INVALID_ARGUMENT: You must feed a value for placeholder tensor 'inputs_2' with dtype int64 and shape [?,1]\n",
      "\t [[{{node inputs_2}}]]\n",
      "2023-08-30 14:27:31.848153: I tensorflow/core/common_runtime/executor.cc:1197] [/device:CPU:0] (DEBUG INFO) Executor start aborting (this does not indicate an error and you can ignore this message): INVALID_ARGUMENT: You must feed a value for placeholder tensor 'inputs_4' with dtype int64 and shape [?,1]\n",
      "\t [[{{node inputs_4}}]]\n",
      "2023-08-30 14:27:31.848261: I tensorflow/core/common_runtime/executor.cc:1197] [/device:CPU:0] (DEBUG INFO) Executor start aborting (this does not indicate an error and you can ignore this message): INVALID_ARGUMENT: You must feed a value for placeholder tensor 'inputs_6' with dtype int64 and shape [?,1]\n",
      "\t [[{{node inputs_6}}]]\n",
      "2023-08-30 14:27:31.848371: I tensorflow/core/common_runtime/executor.cc:1197] [/device:CPU:0] (DEBUG INFO) Executor start aborting (this does not indicate an error and you can ignore this message): INVALID_ARGUMENT: You must feed a value for placeholder tensor 'inputs_13' with dtype int64 and shape [?,1]\n",
      "\t [[{{node inputs_13}}]]\n",
      "2023-08-30 14:27:31.976493: I tensorflow/core/common_runtime/executor.cc:1197] [/device:CPU:0] (DEBUG INFO) Executor start aborting (this does not indicate an error and you can ignore this message): INVALID_ARGUMENT: You must feed a value for placeholder tensor 'inputs' with dtype int64 and shape [?,1]\n",
      "\t [[{{node inputs}}]]\n",
      "2023-08-30 14:27:31.976640: I tensorflow/core/common_runtime/executor.cc:1197] [/device:CPU:0] (DEBUG INFO) Executor start aborting (this does not indicate an error and you can ignore this message): INVALID_ARGUMENT: You must feed a value for placeholder tensor 'inputs_1' with dtype int64 and shape [?,1]\n",
      "\t [[{{node inputs_1}}]]\n",
      "2023-08-30 14:27:31.976733: I tensorflow/core/common_runtime/executor.cc:1197] [/device:CPU:0] (DEBUG INFO) Executor start aborting (this does not indicate an error and you can ignore this message): INVALID_ARGUMENT: You must feed a value for placeholder tensor 'inputs_2' with dtype int64 and shape [?,1]\n",
      "\t [[{{node inputs_2}}]]\n",
      "2023-08-30 14:27:31.976847: I tensorflow/core/common_runtime/executor.cc:1197] [/device:CPU:0] (DEBUG INFO) Executor start aborting (this does not indicate an error and you can ignore this message): INVALID_ARGUMENT: You must feed a value for placeholder tensor 'inputs_4' with dtype int64 and shape [?,1]\n",
      "\t [[{{node inputs_4}}]]\n",
      "2023-08-30 14:27:31.976955: I tensorflow/core/common_runtime/executor.cc:1197] [/device:CPU:0] (DEBUG INFO) Executor start aborting (this does not indicate an error and you can ignore this message): INVALID_ARGUMENT: You must feed a value for placeholder tensor 'inputs_6' with dtype int64 and shape [?,1]\n",
      "\t [[{{node inputs_6}}]]\n",
      "2023-08-30 14:27:31.977060: I tensorflow/core/common_runtime/executor.cc:1197] [/device:CPU:0] (DEBUG INFO) Executor start aborting (this does not indicate an error and you can ignore this message): INVALID_ARGUMENT: You must feed a value for placeholder tensor 'inputs_13' with dtype int64 and shape [?,1]\n",
      "\t [[{{node inputs_13}}]]\n",
      "2023-08-30 14:27:35.117817: I tensorflow/core/common_runtime/executor.cc:1197] [/device:CPU:0] (DEBUG INFO) Executor start aborting (this does not indicate an error and you can ignore this message): INVALID_ARGUMENT: You must feed a value for placeholder tensor 'Age' with dtype int64 and shape [?,1]\n",
      "\t [[{{node Age}}]]\n",
      "2023-08-30 14:27:35.117973: I tensorflow/core/common_runtime/executor.cc:1197] [/device:CPU:0] (DEBUG INFO) Executor start aborting (this does not indicate an error and you can ignore this message): INVALID_ARGUMENT: You must feed a value for placeholder tensor 'CapitalGain' with dtype int64 and shape [?,1]\n",
      "\t [[{{node CapitalGain}}]]\n",
      "2023-08-30 14:27:35.118065: I tensorflow/core/common_runtime/executor.cc:1197] [/device:CPU:0] (DEBUG INFO) Executor start aborting (this does not indicate an error and you can ignore this message): INVALID_ARGUMENT: You must feed a value for placeholder tensor 'CapitalLoss' with dtype int64 and shape [?,1]\n",
      "\t [[{{node CapitalLoss}}]]\n",
      "2023-08-30 14:27:35.118147: I tensorflow/core/common_runtime/executor.cc:1197] [/device:CPU:0] (DEBUG INFO) Executor start aborting (this does not indicate an error and you can ignore this message): INVALID_ARGUMENT: You must feed a value for placeholder tensor 'EducationNum' with dtype int64 and shape [?,1]\n",
      "\t [[{{node EducationNum}}]]\n",
      "2023-08-30 14:27:35.118239: I tensorflow/core/common_runtime/executor.cc:1197] [/device:CPU:0] (DEBUG INFO) Executor start aborting (this does not indicate an error and you can ignore this message): INVALID_ARGUMENT: You must feed a value for placeholder tensor 'HoursPerWeek' with dtype int64 and shape [?,1]\n",
      "\t [[{{node HoursPerWeek}}]]\n",
      "2023-08-30 14:27:35.118339: I tensorflow/core/common_runtime/executor.cc:1197] [/device:CPU:0] (DEBUG INFO) Executor start aborting (this does not indicate an error and you can ignore this message): INVALID_ARGUMENT: You must feed a value for placeholder tensor 'fnlwgt' with dtype int64 and shape [?,1]\n",
      "\t [[{{node fnlwgt}}]]\n",
      "2023-08-30 14:27:35.436637: I tensorflow/core/common_runtime/executor.cc:1197] [/device:CPU:0] (DEBUG INFO) Executor start aborting (this does not indicate an error and you can ignore this message): INVALID_ARGUMENT: You must feed a value for placeholder tensor 'inputs_age' with dtype int64 and shape [?,1]\n",
      "\t [[{{node inputs_age}}]]\n",
      "2023-08-30 14:27:35.436810: I tensorflow/core/common_runtime/executor.cc:1197] [/device:CPU:0] (DEBUG INFO) Executor start aborting (this does not indicate an error and you can ignore this message): INVALID_ARGUMENT: You must feed a value for placeholder tensor 'inputs_capitalgain' with dtype int64 and shape [?,1]\n",
      "\t [[{{node inputs_capitalgain}}]]\n",
      "2023-08-30 14:27:35.436903: I tensorflow/core/common_runtime/executor.cc:1197] [/device:CPU:0] (DEBUG INFO) Executor start aborting (this does not indicate an error and you can ignore this message): INVALID_ARGUMENT: You must feed a value for placeholder tensor 'inputs_capitalloss' with dtype int64 and shape [?,1]\n",
      "\t [[{{node inputs_capitalloss}}]]\n",
      "2023-08-30 14:27:35.436992: I tensorflow/core/common_runtime/executor.cc:1197] [/device:CPU:0] (DEBUG INFO) Executor start aborting (this does not indicate an error and you can ignore this message): INVALID_ARGUMENT: You must feed a value for placeholder tensor 'inputs_educationnum' with dtype int64 and shape [?,1]\n",
      "\t [[{{node inputs_educationnum}}]]\n",
      "2023-08-30 14:27:35.437073: I tensorflow/core/common_runtime/executor.cc:1197] [/device:CPU:0] (DEBUG INFO) Executor start aborting (this does not indicate an error and you can ignore this message): INVALID_ARGUMENT: You must feed a value for placeholder tensor 'inputs_hoursperweek' with dtype int64 and shape [?,1]\n",
      "\t [[{{node inputs_hoursperweek}}]]\n",
      "2023-08-30 14:27:35.437175: I tensorflow/core/common_runtime/executor.cc:1197] [/device:CPU:0] (DEBUG INFO) Executor start aborting (this does not indicate an error and you can ignore this message): INVALID_ARGUMENT: You must feed a value for placeholder tensor 'inputs_fnlwgt' with dtype int64 and shape [?,1]\n",
      "\t [[{{node inputs_fnlwgt}}]]\n",
      "2023-08-30 14:27:35.586543: I tensorflow/core/common_runtime/executor.cc:1197] [/device:CPU:0] (DEBUG INFO) Executor start aborting (this does not indicate an error and you can ignore this message): INVALID_ARGUMENT: You must feed a value for placeholder tensor 'inputs_age' with dtype int64 and shape [?,1]\n",
      "\t [[{{node inputs_age}}]]\n",
      "2023-08-30 14:27:35.586694: I tensorflow/core/common_runtime/executor.cc:1197] [/device:CPU:0] (DEBUG INFO) Executor start aborting (this does not indicate an error and you can ignore this message): INVALID_ARGUMENT: You must feed a value for placeholder tensor 'inputs_capitalgain' with dtype int64 and shape [?,1]\n",
      "\t [[{{node inputs_capitalgain}}]]\n",
      "2023-08-30 14:27:35.586789: I tensorflow/core/common_runtime/executor.cc:1197] [/device:CPU:0] (DEBUG INFO) Executor start aborting (this does not indicate an error and you can ignore this message): INVALID_ARGUMENT: You must feed a value for placeholder tensor 'inputs_capitalloss' with dtype int64 and shape [?,1]\n",
      "\t [[{{node inputs_capitalloss}}]]\n",
      "2023-08-30 14:27:35.586882: I tensorflow/core/common_runtime/executor.cc:1197] [/device:CPU:0] (DEBUG INFO) Executor start aborting (this does not indicate an error and you can ignore this message): INVALID_ARGUMENT: You must feed a value for placeholder tensor 'inputs_educationnum' with dtype int64 and shape [?,1]\n",
      "\t [[{{node inputs_educationnum}}]]\n",
      "2023-08-30 14:27:35.586996: I tensorflow/core/common_runtime/executor.cc:1197] [/device:CPU:0] (DEBUG INFO) Executor start aborting (this does not indicate an error and you can ignore this message): INVALID_ARGUMENT: You must feed a value for placeholder tensor 'inputs_hoursperweek' with dtype int64 and shape [?,1]\n",
      "\t [[{{node inputs_hoursperweek}}]]\n",
      "2023-08-30 14:27:35.587113: I tensorflow/core/common_runtime/executor.cc:1197] [/device:CPU:0] (DEBUG INFO) Executor start aborting (this does not indicate an error and you can ignore this message): INVALID_ARGUMENT: You must feed a value for placeholder tensor 'inputs_fnlwgt' with dtype int64 and shape [?,1]\n",
      "\t [[{{node inputs_fnlwgt}}]]\n",
      "2023-08-30 14:27:39.164093: I tensorflow/core/common_runtime/executor.cc:1197] [/device:CPU:0] (DEBUG INFO) Executor start aborting (this does not indicate an error and you can ignore this message): INVALID_ARGUMENT: You must feed a value for placeholder tensor 'inputs' with dtype int64 and shape [?,1]\n",
      "\t [[{{node inputs}}]]\n",
      "2023-08-30 14:27:39.180688: I tensorflow/core/common_runtime/executor.cc:1197] [/device:CPU:0] (DEBUG INFO) Executor start aborting (this does not indicate an error and you can ignore this message): INVALID_ARGUMENT: You must feed a value for placeholder tensor 'inputs' with dtype int64 and shape [?,1]\n",
      "\t [[{{node inputs}}]]\n",
      "2023-08-30 14:27:39.196631: I tensorflow/core/common_runtime/executor.cc:1197] [/device:CPU:0] (DEBUG INFO) Executor start aborting (this does not indicate an error and you can ignore this message): INVALID_ARGUMENT: You must feed a value for placeholder tensor 'inputs' with dtype int64 and shape [?,1]\n",
      "\t [[{{node inputs}}]]\n",
      "2023-08-30 14:27:39.262445: I tensorflow/core/common_runtime/executor.cc:1197] [/device:CPU:0] (DEBUG INFO) Executor start aborting (this does not indicate an error and you can ignore this message): INVALID_ARGUMENT: You must feed a value for placeholder tensor 'inputs' with dtype int64 and shape [?,1]\n",
      "\t [[{{node inputs}}]]\n",
      "2023-08-30 14:27:39.324580: I tensorflow/core/common_runtime/executor.cc:1197] [/device:CPU:0] (DEBUG INFO) Executor start aborting (this does not indicate an error and you can ignore this message): INVALID_ARGUMENT: You must feed a value for placeholder tensor 'inputs' with dtype int64 and shape [?,1]\n",
      "\t [[{{node inputs}}]]\n",
      "2023-08-30 14:27:39.620548: I tensorflow/core/common_runtime/executor.cc:1197] [/device:CPU:0] (DEBUG INFO) Executor start aborting (this does not indicate an error and you can ignore this message): INVALID_ARGUMENT: You must feed a value for placeholder tensor 'inputs' with dtype int64 and shape [?,1]\n",
      "\t [[{{node inputs}}]]\n",
      "2023-08-30 14:27:47.365643: I tensorflow/core/common_runtime/executor.cc:1197] [/device:CPU:0] (DEBUG INFO) Executor start aborting (this does not indicate an error and you can ignore this message): INVALID_ARGUMENT: You must feed a value for placeholder tensor 'serving_default_Age' with dtype int64 and shape [?,1]\n",
      "\t [[{{node serving_default_Age}}]]\n",
      "2023-08-30 14:27:47.365792: I tensorflow/core/common_runtime/executor.cc:1197] [/device:CPU:0] (DEBUG INFO) Executor start aborting (this does not indicate an error and you can ignore this message): INVALID_ARGUMENT: You must feed a value for placeholder tensor 'serving_default_CapitalGain' with dtype int64 and shape [?,1]\n",
      "\t [[{{node serving_default_CapitalGain}}]]\n",
      "2023-08-30 14:27:47.365878: I tensorflow/core/common_runtime/executor.cc:1197] [/device:CPU:0] (DEBUG INFO) Executor start aborting (this does not indicate an error and you can ignore this message): INVALID_ARGUMENT: You must feed a value for placeholder tensor 'serving_default_CapitalLoss' with dtype int64 and shape [?,1]\n",
      "\t [[{{node serving_default_CapitalLoss}}]]\n",
      "2023-08-30 14:27:47.366150: I tensorflow/core/common_runtime/executor.cc:1197] [/device:CPU:0] (DEBUG INFO) Executor start aborting (this does not indicate an error and you can ignore this message): INVALID_ARGUMENT: You must feed a value for placeholder tensor 'serving_default_EducationNum' with dtype int64 and shape [?,1]\n",
      "\t [[{{node serving_default_EducationNum}}]]\n",
      "2023-08-30 14:27:47.366246: I tensorflow/core/common_runtime/executor.cc:1197] [/device:CPU:0] (DEBUG INFO) Executor start aborting (this does not indicate an error and you can ignore this message): INVALID_ARGUMENT: You must feed a value for placeholder tensor 'serving_default_HoursPerWeek' with dtype int64 and shape [?,1]\n",
      "\t [[{{node serving_default_HoursPerWeek}}]]\n",
      "2023-08-30 14:27:47.366466: I tensorflow/core/common_runtime/executor.cc:1197] [/device:CPU:0] (DEBUG INFO) Executor start aborting (this does not indicate an error and you can ignore this message): INVALID_ARGUMENT: You must feed a value for placeholder tensor 'serving_default_fnlwgt' with dtype int64 and shape [?,1]\n",
      "\t [[{{node serving_default_fnlwgt}}]]\n"
     ]
    },
    {
     "name": "stdout",
     "output_type": "stream",
     "text": [
      "INFO:tensorflow:Assets written to: /tmp/tmpvhdmrkga/model/data/model/assets\n"
     ]
    }
   ],
   "source": [
    "from umnai.induction.inducer import ModelInducer\n",
    "from umnai.esm.model import ESM\n",
    "\n",
    "# Induce a simple model quickly using fast execution parameters\n",
    "model_inducer = ModelInducer(\n",
    "    max_interactions=3,\n",
    "    max_interaction_degree=2,\n",
    "    max_polynomial_degree=2,\n",
    "    trials=2,\n",
    "    estimators=2,\n",
    "    batch_size=512,\n",
    "    iterations=2,\n",
    ")\n",
    "\n",
    "# # Induce a more realistic model using default Induction parameters:\n",
    "# model_inducer = ModelInducer()\n",
    "\n",
    "# Create an ESM using Induction\n",
    "esm = model_inducer.induce(dataset)"
   ]
  },
  {
   "cell_type": "markdown",
   "metadata": {
    "application/vnd.databricks.v1+cell": {
     "cellMetadata": {
      "byteLimit": 2048000,
      "rowLimit": 10000
     },
     "inputWidgets": {},
     "nuid": "8da5c43d-4767-4b15-8bd8-14c972db76aa",
     "showTitle": false,
     "title": ""
    }
   },
   "source": [
    "# Note ESM ID and MLflow run ID\n",
    "Note down:\n",
    "- ESM ID: needed to load a model from a workspace.\n",
    "- MLflow run ID: needed to load a model from an MLflow run."
   ]
  },
  {
   "cell_type": "code",
   "execution_count": 10,
   "metadata": {
    "application/vnd.databricks.v1+cell": {
     "cellMetadata": {
      "byteLimit": 2048000,
      "rowLimit": 10000
     },
     "inputWidgets": {},
     "nuid": "8934a8a6-dcce-408b-a8b0-02ba1f4e988d",
     "showTitle": false,
     "title": ""
    },
    "execution": {
     "iopub.execute_input": "2023-08-30T14:28:15.068730Z",
     "iopub.status.busy": "2023-08-30T14:28:15.068505Z",
     "iopub.status.idle": "2023-08-30T14:28:15.073112Z",
     "shell.execute_reply": "2023-08-30T14:28:15.072218Z"
    }
   },
   "outputs": [
    {
     "name": "stdout",
     "output_type": "stream",
     "text": [
      "MLflow Run ID:  2f2b63ca68b2492ab41b596df6ac85ea\n",
      "ESM ID:  Dataset_56d209eb_2f2b63ca68b2492ab41b596df6ac85ea\n"
     ]
    }
   ],
   "source": [
    "# Save ESM ID and MLFLow Run ID for use in this notebook session\n",
    "MLflow_Run_ID = esm.producer_run_id\n",
    "ESM_ID = esm.id\n",
    "\n",
    "# Note ESM ID and MLFLow Run ID for use in another notebook or session\n",
    "print(\"MLflow Run ID: \", esm.producer_run_id)\n",
    "print(\"ESM ID: \", esm.id)"
   ]
  },
  {
   "cell_type": "markdown",
   "metadata": {
    "application/vnd.databricks.v1+cell": {
     "cellMetadata": {
      "byteLimit": 2048000,
      "rowLimit": 10000
     },
     "inputWidgets": {},
     "nuid": "82479bce-d80f-47a5-a975-7f187544a7d3",
     "showTitle": false,
     "title": ""
    }
   },
   "source": [
    "# Note ESM ID and MLflow run ID\n",
    "Note down:\n",
    "- ESM ID: needed to load a model from a workspace.\n",
    "- MLflow run ID: needed to load a model from an MLflow run."
   ]
  },
  {
   "cell_type": "code",
   "execution_count": 11,
   "metadata": {
    "application/vnd.databricks.v1+cell": {
     "cellMetadata": {
      "byteLimit": 2048000,
      "rowLimit": 10000
     },
     "inputWidgets": {},
     "nuid": "9f97181d-ef36-491d-b906-7a2fb4c0ca3f",
     "showTitle": false,
     "title": ""
    },
    "execution": {
     "iopub.execute_input": "2023-08-30T14:28:15.076033Z",
     "iopub.status.busy": "2023-08-30T14:28:15.075724Z",
     "iopub.status.idle": "2023-08-30T14:28:15.079877Z",
     "shell.execute_reply": "2023-08-30T14:28:15.079015Z"
    }
   },
   "outputs": [
    {
     "name": "stdout",
     "output_type": "stream",
     "text": [
      "MLflow Run ID:  2f2b63ca68b2492ab41b596df6ac85ea\n",
      "ESM ID:  Dataset_56d209eb_2f2b63ca68b2492ab41b596df6ac85ea\n"
     ]
    }
   ],
   "source": [
    "# Save ESM ID and MLFLow Run ID for use in this notebook session\n",
    "MLflow_Run_ID = esm.producer_run_id\n",
    "ESM_ID = esm.id\n",
    "\n",
    "# Note ESM ID and MLFLow Run ID for use in another notebook or session\n",
    "print(\"MLflow Run ID: \", esm.producer_run_id)\n",
    "print(\"ESM ID: \", esm.id)"
   ]
  },
  {
   "cell_type": "markdown",
   "metadata": {
    "application/vnd.databricks.v1+cell": {
     "cellMetadata": {
      "byteLimit": 2048000,
      "rowLimit": 10000
     },
     "inputWidgets": {},
     "nuid": "59e91042-81ec-458f-97a2-459b43ac8dbe",
     "showTitle": false,
     "title": ""
    }
   },
   "source": [
    "# Model Save Options\n",
    "\n",
    "## Save a model to a workspace"
   ]
  },
  {
   "cell_type": "code",
   "execution_count": 12,
   "metadata": {
    "application/vnd.databricks.v1+cell": {
     "cellMetadata": {
      "byteLimit": 2048000,
      "rowLimit": 10000
     },
     "inputWidgets": {},
     "nuid": "4a6f89e5-7c4b-40b7-9799-f58ff7e22018",
     "showTitle": false,
     "title": ""
    },
    "execution": {
     "iopub.execute_input": "2023-08-30T14:28:15.083125Z",
     "iopub.status.busy": "2023-08-30T14:28:15.082445Z",
     "iopub.status.idle": "2023-08-30T14:29:08.799785Z",
     "shell.execute_reply": "2023-08-30T14:29:08.799028Z"
    }
   },
   "outputs": [
    {
     "name": "stdout",
     "output_type": "stream",
     "text": [
      "WARNING:tensorflow:Compiled the loaded model, but the compiled metrics have yet to be built. `model.compile_metrics` will be empty until you train or evaluate the model.\n"
     ]
    },
    {
     "name": "stderr",
     "output_type": "stream",
     "text": [
      "2023-08-30 14:28:23.634512: I tensorflow/core/common_runtime/executor.cc:1197] [/device:CPU:0] (DEBUG INFO) Executor start aborting (this does not indicate an error and you can ignore this message): INVALID_ARGUMENT: You must feed a value for placeholder tensor 'fnlwgt' with dtype int64 and shape [?,1]\n",
      "\t [[{{node fnlwgt}}]]\n",
      "2023-08-30 14:28:23.783604: I tensorflow/core/common_runtime/executor.cc:1197] [/device:CPU:0] (DEBUG INFO) Executor start aborting (this does not indicate an error and you can ignore this message): INVALID_ARGUMENT: You must feed a value for placeholder tensor 'HoursPerWeek' with dtype int64 and shape [?,1]\n",
      "\t [[{{node HoursPerWeek}}]]\n",
      "2023-08-30 14:28:23.820532: I tensorflow/core/common_runtime/executor.cc:1197] [/device:CPU:0] (DEBUG INFO) Executor start aborting (this does not indicate an error and you can ignore this message): INVALID_ARGUMENT: You must feed a value for placeholder tensor 'EducationNum' with dtype int64 and shape [?,1]\n",
      "\t [[{{node EducationNum}}]]\n",
      "2023-08-30 14:28:23.860732: I tensorflow/core/common_runtime/executor.cc:1197] [/device:CPU:0] (DEBUG INFO) Executor start aborting (this does not indicate an error and you can ignore this message): INVALID_ARGUMENT: You must feed a value for placeholder tensor 'CapitalLoss' with dtype int64 and shape [?,1]\n",
      "\t [[{{node CapitalLoss}}]]\n",
      "2023-08-30 14:28:23.874507: I tensorflow/core/common_runtime/executor.cc:1197] [/device:CPU:0] (DEBUG INFO) Executor start aborting (this does not indicate an error and you can ignore this message): INVALID_ARGUMENT: You must feed a value for placeholder tensor 'CapitalGain' with dtype int64 and shape [?,1]\n",
      "\t [[{{node CapitalGain}}]]\n",
      "2023-08-30 14:28:23.888278: I tensorflow/core/common_runtime/executor.cc:1197] [/device:CPU:0] (DEBUG INFO) Executor start aborting (this does not indicate an error and you can ignore this message): INVALID_ARGUMENT: You must feed a value for placeholder tensor 'Age' with dtype int64 and shape [?,1]\n",
      "\t [[{{node Age}}]]\n",
      "2023-08-30 14:28:24.029717: I tensorflow/core/common_runtime/executor.cc:1197] [/device:CPU:0] (DEBUG INFO) Executor start aborting (this does not indicate an error and you can ignore this message): INVALID_ARGUMENT: You must feed a value for placeholder tensor 'fnlwgt' with dtype int64 and shape [?,1]\n",
      "\t [[{{node fnlwgt}}]]\n",
      "2023-08-30 14:28:24.165928: I tensorflow/core/common_runtime/executor.cc:1197] [/device:CPU:0] (DEBUG INFO) Executor start aborting (this does not indicate an error and you can ignore this message): INVALID_ARGUMENT: You must feed a value for placeholder tensor 'HoursPerWeek' with dtype int64 and shape [?,1]\n",
      "\t [[{{node HoursPerWeek}}]]\n",
      "2023-08-30 14:28:24.190005: I tensorflow/core/common_runtime/executor.cc:1197] [/device:CPU:0] (DEBUG INFO) Executor start aborting (this does not indicate an error and you can ignore this message): INVALID_ARGUMENT: You must feed a value for placeholder tensor 'EducationNum' with dtype int64 and shape [?,1]\n",
      "\t [[{{node EducationNum}}]]\n",
      "2023-08-30 14:28:24.214199: I tensorflow/core/common_runtime/executor.cc:1197] [/device:CPU:0] (DEBUG INFO) Executor start aborting (this does not indicate an error and you can ignore this message): INVALID_ARGUMENT: You must feed a value for placeholder tensor 'CapitalLoss' with dtype int64 and shape [?,1]\n",
      "\t [[{{node CapitalLoss}}]]\n",
      "2023-08-30 14:28:24.216058: I tensorflow/core/common_runtime/executor.cc:1197] [/device:CPU:0] (DEBUG INFO) Executor start aborting (this does not indicate an error and you can ignore this message): INVALID_ARGUMENT: You must feed a value for placeholder tensor 'CapitalGain' with dtype int64 and shape [?,1]\n",
      "\t [[{{node CapitalGain}}]]\n",
      "2023-08-30 14:28:24.217780: I tensorflow/core/common_runtime/executor.cc:1197] [/device:CPU:0] (DEBUG INFO) Executor start aborting (this does not indicate an error and you can ignore this message): INVALID_ARGUMENT: You must feed a value for placeholder tensor 'Age' with dtype int64 and shape [?,1]\n",
      "\t [[{{node Age}}]]\n",
      "2023-08-30 14:28:24.370126: I tensorflow/core/common_runtime/executor.cc:1197] [/device:CPU:0] (DEBUG INFO) Executor start aborting (this does not indicate an error and you can ignore this message): INVALID_ARGUMENT: You must feed a value for placeholder tensor 'inputs_13' with dtype int64 and shape [?,1]\n",
      "\t [[{{node inputs_13}}]]\n",
      "2023-08-30 14:28:24.389231: I tensorflow/core/common_runtime/executor.cc:1197] [/device:CPU:0] (DEBUG INFO) Executor start aborting (this does not indicate an error and you can ignore this message): INVALID_ARGUMENT: You must feed a value for placeholder tensor 'inputs_6' with dtype int64 and shape [?,1]\n",
      "\t [[{{node inputs_6}}]]\n",
      "2023-08-30 14:28:24.394054: I tensorflow/core/common_runtime/executor.cc:1197] [/device:CPU:0] (DEBUG INFO) Executor start aborting (this does not indicate an error and you can ignore this message): INVALID_ARGUMENT: You must feed a value for placeholder tensor 'inputs_4' with dtype int64 and shape [?,1]\n",
      "\t [[{{node inputs_4}}]]\n",
      "2023-08-30 14:28:24.398901: I tensorflow/core/common_runtime/executor.cc:1197] [/device:CPU:0] (DEBUG INFO) Executor start aborting (this does not indicate an error and you can ignore this message): INVALID_ARGUMENT: You must feed a value for placeholder tensor 'inputs_2' with dtype int64 and shape [?,1]\n",
      "\t [[{{node inputs_2}}]]\n",
      "2023-08-30 14:28:24.401035: I tensorflow/core/common_runtime/executor.cc:1197] [/device:CPU:0] (DEBUG INFO) Executor start aborting (this does not indicate an error and you can ignore this message): INVALID_ARGUMENT: You must feed a value for placeholder tensor 'inputs_1' with dtype int64 and shape [?,1]\n",
      "\t [[{{node inputs_1}}]]\n",
      "2023-08-30 14:28:24.402991: I tensorflow/core/common_runtime/executor.cc:1197] [/device:CPU:0] (DEBUG INFO) Executor start aborting (this does not indicate an error and you can ignore this message): INVALID_ARGUMENT: You must feed a value for placeholder tensor 'inputs' with dtype int64 and shape [?,1]\n",
      "\t [[{{node inputs}}]]\n",
      "2023-08-30 14:28:24.617589: I tensorflow/core/common_runtime/executor.cc:1197] [/device:CPU:0] (DEBUG INFO) Executor start aborting (this does not indicate an error and you can ignore this message): INVALID_ARGUMENT: You must feed a value for placeholder tensor 'Age' with dtype int64 and shape [?,1]\n",
      "\t [[{{node Age}}]]\n",
      "2023-08-30 14:28:24.617746: I tensorflow/core/common_runtime/executor.cc:1197] [/device:CPU:0] (DEBUG INFO) Executor start aborting (this does not indicate an error and you can ignore this message): INVALID_ARGUMENT: You must feed a value for placeholder tensor 'CapitalGain' with dtype int64 and shape [?,1]\n",
      "\t [[{{node CapitalGain}}]]\n",
      "2023-08-30 14:28:24.617834: I tensorflow/core/common_runtime/executor.cc:1197] [/device:CPU:0] (DEBUG INFO) Executor start aborting (this does not indicate an error and you can ignore this message): INVALID_ARGUMENT: You must feed a value for placeholder tensor 'CapitalLoss' with dtype int64 and shape [?,1]\n",
      "\t [[{{node CapitalLoss}}]]\n",
      "2023-08-30 14:28:24.617918: I tensorflow/core/common_runtime/executor.cc:1197] [/device:CPU:0] (DEBUG INFO) Executor start aborting (this does not indicate an error and you can ignore this message): INVALID_ARGUMENT: You must feed a value for placeholder tensor 'EducationNum' with dtype int64 and shape [?,1]\n",
      "\t [[{{node EducationNum}}]]\n",
      "2023-08-30 14:28:24.618002: I tensorflow/core/common_runtime/executor.cc:1197] [/device:CPU:0] (DEBUG INFO) Executor start aborting (this does not indicate an error and you can ignore this message): INVALID_ARGUMENT: You must feed a value for placeholder tensor 'HoursPerWeek' with dtype int64 and shape [?,1]\n",
      "\t [[{{node HoursPerWeek}}]]\n",
      "2023-08-30 14:28:24.618110: I tensorflow/core/common_runtime/executor.cc:1197] [/device:CPU:0] (DEBUG INFO) Executor start aborting (this does not indicate an error and you can ignore this message): INVALID_ARGUMENT: You must feed a value for placeholder tensor 'fnlwgt' with dtype int64 and shape [?,1]\n",
      "\t [[{{node fnlwgt}}]]\n",
      "2023-08-30 14:28:24.709597: I tensorflow/core/common_runtime/executor.cc:1197] [/device:CPU:0] (DEBUG INFO) Executor start aborting (this does not indicate an error and you can ignore this message): INVALID_ARGUMENT: You must feed a value for placeholder tensor 'inputs_13' with dtype int64 and shape [?,1]\n",
      "\t [[{{node inputs_13}}]]\n",
      "2023-08-30 14:28:24.728582: I tensorflow/core/common_runtime/executor.cc:1197] [/device:CPU:0] (DEBUG INFO) Executor start aborting (this does not indicate an error and you can ignore this message): INVALID_ARGUMENT: You must feed a value for placeholder tensor 'inputs_6' with dtype int64 and shape [?,1]\n",
      "\t [[{{node inputs_6}}]]\n",
      "2023-08-30 14:28:24.733624: I tensorflow/core/common_runtime/executor.cc:1197] [/device:CPU:0] (DEBUG INFO) Executor start aborting (this does not indicate an error and you can ignore this message): INVALID_ARGUMENT: You must feed a value for placeholder tensor 'inputs_4' with dtype int64 and shape [?,1]\n",
      "\t [[{{node inputs_4}}]]\n",
      "2023-08-30 14:28:24.738681: I tensorflow/core/common_runtime/executor.cc:1197] [/device:CPU:0] (DEBUG INFO) Executor start aborting (this does not indicate an error and you can ignore this message): INVALID_ARGUMENT: You must feed a value for placeholder tensor 'inputs_2' with dtype int64 and shape [?,1]\n",
      "\t [[{{node inputs_2}}]]\n",
      "2023-08-30 14:28:24.740877: I tensorflow/core/common_runtime/executor.cc:1197] [/device:CPU:0] (DEBUG INFO) Executor start aborting (this does not indicate an error and you can ignore this message): INVALID_ARGUMENT: You must feed a value for placeholder tensor 'inputs_1' with dtype int64 and shape [?,1]\n",
      "\t [[{{node inputs_1}}]]\n",
      "2023-08-30 14:28:24.743070: I tensorflow/core/common_runtime/executor.cc:1197] [/device:CPU:0] (DEBUG INFO) Executor start aborting (this does not indicate an error and you can ignore this message): INVALID_ARGUMENT: You must feed a value for placeholder tensor 'inputs' with dtype int64 and shape [?,1]\n",
      "\t [[{{node inputs}}]]\n",
      "2023-08-30 14:28:24.936876: I tensorflow/core/common_runtime/executor.cc:1197] [/device:CPU:0] (DEBUG INFO) Executor start aborting (this does not indicate an error and you can ignore this message): INVALID_ARGUMENT: You must feed a value for placeholder tensor 'Age' with dtype int64 and shape [?,1]\n",
      "\t [[{{node Age}}]]\n",
      "2023-08-30 14:28:24.937015: I tensorflow/core/common_runtime/executor.cc:1197] [/device:CPU:0] (DEBUG INFO) Executor start aborting (this does not indicate an error and you can ignore this message): INVALID_ARGUMENT: You must feed a value for placeholder tensor 'CapitalGain' with dtype int64 and shape [?,1]\n",
      "\t [[{{node CapitalGain}}]]\n",
      "2023-08-30 14:28:24.937102: I tensorflow/core/common_runtime/executor.cc:1197] [/device:CPU:0] (DEBUG INFO) Executor start aborting (this does not indicate an error and you can ignore this message): INVALID_ARGUMENT: You must feed a value for placeholder tensor 'CapitalLoss' with dtype int64 and shape [?,1]\n",
      "\t [[{{node CapitalLoss}}]]\n",
      "2023-08-30 14:28:24.937186: I tensorflow/core/common_runtime/executor.cc:1197] [/device:CPU:0] (DEBUG INFO) Executor start aborting (this does not indicate an error and you can ignore this message): INVALID_ARGUMENT: You must feed a value for placeholder tensor 'EducationNum' with dtype int64 and shape [?,1]\n",
      "\t [[{{node EducationNum}}]]\n",
      "2023-08-30 14:28:24.937282: I tensorflow/core/common_runtime/executor.cc:1197] [/device:CPU:0] (DEBUG INFO) Executor start aborting (this does not indicate an error and you can ignore this message): INVALID_ARGUMENT: You must feed a value for placeholder tensor 'HoursPerWeek' with dtype int64 and shape [?,1]\n",
      "\t [[{{node HoursPerWeek}}]]\n",
      "2023-08-30 14:28:24.937390: I tensorflow/core/common_runtime/executor.cc:1197] [/device:CPU:0] (DEBUG INFO) Executor start aborting (this does not indicate an error and you can ignore this message): INVALID_ARGUMENT: You must feed a value for placeholder tensor 'fnlwgt' with dtype int64 and shape [?,1]\n",
      "\t [[{{node fnlwgt}}]]\n",
      "2023-08-30 14:28:25.009643: I tensorflow/core/common_runtime/executor.cc:1197] [/device:CPU:0] (DEBUG INFO) Executor start aborting (this does not indicate an error and you can ignore this message): INVALID_ARGUMENT: You must feed a value for placeholder tensor 'inputs' with dtype int64 and shape [?,1]\n",
      "\t [[{{node inputs}}]]\n",
      "2023-08-30 14:28:25.100362: I tensorflow/core/common_runtime/executor.cc:1197] [/device:CPU:0] (DEBUG INFO) Executor start aborting (this does not indicate an error and you can ignore this message): INVALID_ARGUMENT: You must feed a value for placeholder tensor 'inputs' with dtype int64 and shape [?,1]\n",
      "\t [[{{node inputs}}]]\n",
      "2023-08-30 14:28:25.119936: I tensorflow/core/common_runtime/executor.cc:1197] [/device:CPU:0] (DEBUG INFO) Executor start aborting (this does not indicate an error and you can ignore this message): INVALID_ARGUMENT: You must feed a value for placeholder tensor 'inputs' with dtype int64 and shape [?,1]\n",
      "\t [[{{node inputs}}]]\n",
      "2023-08-30 14:28:25.139973: I tensorflow/core/common_runtime/executor.cc:1197] [/device:CPU:0] (DEBUG INFO) Executor start aborting (this does not indicate an error and you can ignore this message): INVALID_ARGUMENT: You must feed a value for placeholder tensor 'inputs' with dtype int64 and shape [?,1]\n",
      "\t [[{{node inputs}}]]\n",
      "2023-08-30 14:28:25.147992: I tensorflow/core/common_runtime/executor.cc:1197] [/device:CPU:0] (DEBUG INFO) Executor start aborting (this does not indicate an error and you can ignore this message): INVALID_ARGUMENT: You must feed a value for placeholder tensor 'inputs' with dtype int64 and shape [?,1]\n",
      "\t [[{{node inputs}}]]\n",
      "2023-08-30 14:28:25.153891: I tensorflow/core/common_runtime/executor.cc:1197] [/device:CPU:0] (DEBUG INFO) Executor start aborting (this does not indicate an error and you can ignore this message): INVALID_ARGUMENT: You must feed a value for placeholder tensor 'inputs' with dtype int64 and shape [?,1]\n",
      "\t [[{{node inputs}}]]\n",
      "2023-08-30 14:28:25.233547: I tensorflow/core/common_runtime/executor.cc:1197] [/device:CPU:0] (DEBUG INFO) Executor start aborting (this does not indicate an error and you can ignore this message): INVALID_ARGUMENT: You must feed a value for placeholder tensor 'inputs' with dtype int64 and shape [?,1]\n",
      "\t [[{{node inputs}}]]\n",
      "2023-08-30 14:28:25.233695: I tensorflow/core/common_runtime/executor.cc:1197] [/device:CPU:0] (DEBUG INFO) Executor start aborting (this does not indicate an error and you can ignore this message): INVALID_ARGUMENT: You must feed a value for placeholder tensor 'inputs_1' with dtype int64 and shape [?,1]\n",
      "\t [[{{node inputs_1}}]]\n",
      "2023-08-30 14:28:25.233787: I tensorflow/core/common_runtime/executor.cc:1197] [/device:CPU:0] (DEBUG INFO) Executor start aborting (this does not indicate an error and you can ignore this message): INVALID_ARGUMENT: You must feed a value for placeholder tensor 'inputs_2' with dtype int64 and shape [?,1]\n",
      "\t [[{{node inputs_2}}]]\n",
      "2023-08-30 14:28:25.233881: I tensorflow/core/common_runtime/executor.cc:1197] [/device:CPU:0] (DEBUG INFO) Executor start aborting (this does not indicate an error and you can ignore this message): INVALID_ARGUMENT: You must feed a value for placeholder tensor 'inputs_4' with dtype int64 and shape [?,1]\n",
      "\t [[{{node inputs_4}}]]\n",
      "2023-08-30 14:28:25.233983: I tensorflow/core/common_runtime/executor.cc:1197] [/device:CPU:0] (DEBUG INFO) Executor start aborting (this does not indicate an error and you can ignore this message): INVALID_ARGUMENT: You must feed a value for placeholder tensor 'inputs_6' with dtype int64 and shape [?,1]\n",
      "\t [[{{node inputs_6}}]]\n",
      "2023-08-30 14:28:25.234092: I tensorflow/core/common_runtime/executor.cc:1197] [/device:CPU:0] (DEBUG INFO) Executor start aborting (this does not indicate an error and you can ignore this message): INVALID_ARGUMENT: You must feed a value for placeholder tensor 'inputs_13' with dtype int64 and shape [?,1]\n",
      "\t [[{{node inputs_13}}]]\n",
      "2023-08-30 14:28:25.366252: I tensorflow/core/common_runtime/executor.cc:1197] [/device:CPU:0] (DEBUG INFO) Executor start aborting (this does not indicate an error and you can ignore this message): INVALID_ARGUMENT: You must feed a value for placeholder tensor 'inputs' with dtype int64 and shape [?,1]\n",
      "\t [[{{node inputs}}]]\n",
      "2023-08-30 14:28:25.366400: I tensorflow/core/common_runtime/executor.cc:1197] [/device:CPU:0] (DEBUG INFO) Executor start aborting (this does not indicate an error and you can ignore this message): INVALID_ARGUMENT: You must feed a value for placeholder tensor 'inputs_1' with dtype int64 and shape [?,1]\n",
      "\t [[{{node inputs_1}}]]\n",
      "2023-08-30 14:28:25.366498: I tensorflow/core/common_runtime/executor.cc:1197] [/device:CPU:0] (DEBUG INFO) Executor start aborting (this does not indicate an error and you can ignore this message): INVALID_ARGUMENT: You must feed a value for placeholder tensor 'inputs_2' with dtype int64 and shape [?,1]\n",
      "\t [[{{node inputs_2}}]]\n",
      "2023-08-30 14:28:25.366620: I tensorflow/core/common_runtime/executor.cc:1197] [/device:CPU:0] (DEBUG INFO) Executor start aborting (this does not indicate an error and you can ignore this message): INVALID_ARGUMENT: You must feed a value for placeholder tensor 'inputs_4' with dtype int64 and shape [?,1]\n",
      "\t [[{{node inputs_4}}]]\n",
      "2023-08-30 14:28:25.366729: I tensorflow/core/common_runtime/executor.cc:1197] [/device:CPU:0] (DEBUG INFO) Executor start aborting (this does not indicate an error and you can ignore this message): INVALID_ARGUMENT: You must feed a value for placeholder tensor 'inputs_6' with dtype int64 and shape [?,1]\n",
      "\t [[{{node inputs_6}}]]\n",
      "2023-08-30 14:28:25.366839: I tensorflow/core/common_runtime/executor.cc:1197] [/device:CPU:0] (DEBUG INFO) Executor start aborting (this does not indicate an error and you can ignore this message): INVALID_ARGUMENT: You must feed a value for placeholder tensor 'inputs_13' with dtype int64 and shape [?,1]\n",
      "\t [[{{node inputs_13}}]]\n",
      "2023-08-30 14:28:28.401949: I tensorflow/core/common_runtime/executor.cc:1197] [/device:CPU:0] (DEBUG INFO) Executor start aborting (this does not indicate an error and you can ignore this message): INVALID_ARGUMENT: You must feed a value for placeholder tensor 'Age' with dtype int64 and shape [?,1]\n",
      "\t [[{{node Age}}]]\n",
      "2023-08-30 14:28:28.402099: I tensorflow/core/common_runtime/executor.cc:1197] [/device:CPU:0] (DEBUG INFO) Executor start aborting (this does not indicate an error and you can ignore this message): INVALID_ARGUMENT: You must feed a value for placeholder tensor 'CapitalGain' with dtype int64 and shape [?,1]\n",
      "\t [[{{node CapitalGain}}]]\n",
      "2023-08-30 14:28:28.402190: I tensorflow/core/common_runtime/executor.cc:1197] [/device:CPU:0] (DEBUG INFO) Executor start aborting (this does not indicate an error and you can ignore this message): INVALID_ARGUMENT: You must feed a value for placeholder tensor 'CapitalLoss' with dtype int64 and shape [?,1]\n",
      "\t [[{{node CapitalLoss}}]]\n",
      "2023-08-30 14:28:28.402339: I tensorflow/core/common_runtime/executor.cc:1197] [/device:CPU:0] (DEBUG INFO) Executor start aborting (this does not indicate an error and you can ignore this message): INVALID_ARGUMENT: You must feed a value for placeholder tensor 'EducationNum' with dtype int64 and shape [?,1]\n",
      "\t [[{{node EducationNum}}]]\n",
      "2023-08-30 14:28:28.402449: I tensorflow/core/common_runtime/executor.cc:1197] [/device:CPU:0] (DEBUG INFO) Executor start aborting (this does not indicate an error and you can ignore this message): INVALID_ARGUMENT: You must feed a value for placeholder tensor 'HoursPerWeek' with dtype int64 and shape [?,1]\n",
      "\t [[{{node HoursPerWeek}}]]\n",
      "2023-08-30 14:28:28.402539: I tensorflow/core/common_runtime/executor.cc:1197] [/device:CPU:0] (DEBUG INFO) Executor start aborting (this does not indicate an error and you can ignore this message): INVALID_ARGUMENT: You must feed a value for placeholder tensor 'fnlwgt' with dtype int64 and shape [?,1]\n",
      "\t [[{{node fnlwgt}}]]\n",
      "2023-08-30 14:28:28.685294: I tensorflow/core/common_runtime/executor.cc:1197] [/device:CPU:0] (DEBUG INFO) Executor start aborting (this does not indicate an error and you can ignore this message): INVALID_ARGUMENT: You must feed a value for placeholder tensor 'inputs_age' with dtype int64 and shape [?,1]\n",
      "\t [[{{node inputs_age}}]]\n",
      "2023-08-30 14:28:28.685449: I tensorflow/core/common_runtime/executor.cc:1197] [/device:CPU:0] (DEBUG INFO) Executor start aborting (this does not indicate an error and you can ignore this message): INVALID_ARGUMENT: You must feed a value for placeholder tensor 'inputs_capitalgain' with dtype int64 and shape [?,1]\n",
      "\t [[{{node inputs_capitalgain}}]]\n",
      "2023-08-30 14:28:28.685545: I tensorflow/core/common_runtime/executor.cc:1197] [/device:CPU:0] (DEBUG INFO) Executor start aborting (this does not indicate an error and you can ignore this message): INVALID_ARGUMENT: You must feed a value for placeholder tensor 'inputs_capitalloss' with dtype int64 and shape [?,1]\n",
      "\t [[{{node inputs_capitalloss}}]]\n",
      "2023-08-30 14:28:28.685631: I tensorflow/core/common_runtime/executor.cc:1197] [/device:CPU:0] (DEBUG INFO) Executor start aborting (this does not indicate an error and you can ignore this message): INVALID_ARGUMENT: You must feed a value for placeholder tensor 'inputs_educationnum' with dtype int64 and shape [?,1]\n",
      "\t [[{{node inputs_educationnum}}]]\n",
      "2023-08-30 14:28:28.685732: I tensorflow/core/common_runtime/executor.cc:1197] [/device:CPU:0] (DEBUG INFO) Executor start aborting (this does not indicate an error and you can ignore this message): INVALID_ARGUMENT: You must feed a value for placeholder tensor 'inputs_hoursperweek' with dtype int64 and shape [?,1]\n",
      "\t [[{{node inputs_hoursperweek}}]]\n",
      "2023-08-30 14:28:28.685830: I tensorflow/core/common_runtime/executor.cc:1197] [/device:CPU:0] (DEBUG INFO) Executor start aborting (this does not indicate an error and you can ignore this message): INVALID_ARGUMENT: You must feed a value for placeholder tensor 'inputs_fnlwgt' with dtype int64 and shape [?,1]\n",
      "\t [[{{node inputs_fnlwgt}}]]\n",
      "2023-08-30 14:28:28.810803: I tensorflow/core/common_runtime/executor.cc:1197] [/device:CPU:0] (DEBUG INFO) Executor start aborting (this does not indicate an error and you can ignore this message): INVALID_ARGUMENT: You must feed a value for placeholder tensor 'inputs_age' with dtype int64 and shape [?,1]\n",
      "\t [[{{node inputs_age}}]]\n",
      "2023-08-30 14:28:28.810954: I tensorflow/core/common_runtime/executor.cc:1197] [/device:CPU:0] (DEBUG INFO) Executor start aborting (this does not indicate an error and you can ignore this message): INVALID_ARGUMENT: You must feed a value for placeholder tensor 'inputs_capitalgain' with dtype int64 and shape [?,1]\n",
      "\t [[{{node inputs_capitalgain}}]]\n",
      "2023-08-30 14:28:28.811043: I tensorflow/core/common_runtime/executor.cc:1197] [/device:CPU:0] (DEBUG INFO) Executor start aborting (this does not indicate an error and you can ignore this message): INVALID_ARGUMENT: You must feed a value for placeholder tensor 'inputs_capitalloss' with dtype int64 and shape [?,1]\n",
      "\t [[{{node inputs_capitalloss}}]]\n",
      "2023-08-30 14:28:28.811141: I tensorflow/core/common_runtime/executor.cc:1197] [/device:CPU:0] (DEBUG INFO) Executor start aborting (this does not indicate an error and you can ignore this message): INVALID_ARGUMENT: You must feed a value for placeholder tensor 'inputs_educationnum' with dtype int64 and shape [?,1]\n",
      "\t [[{{node inputs_educationnum}}]]\n",
      "2023-08-30 14:28:28.811247: I tensorflow/core/common_runtime/executor.cc:1197] [/device:CPU:0] (DEBUG INFO) Executor start aborting (this does not indicate an error and you can ignore this message): INVALID_ARGUMENT: You must feed a value for placeholder tensor 'inputs_hoursperweek' with dtype int64 and shape [?,1]\n",
      "\t [[{{node inputs_hoursperweek}}]]\n",
      "2023-08-30 14:28:28.811361: I tensorflow/core/common_runtime/executor.cc:1197] [/device:CPU:0] (DEBUG INFO) Executor start aborting (this does not indicate an error and you can ignore this message): INVALID_ARGUMENT: You must feed a value for placeholder tensor 'inputs_fnlwgt' with dtype int64 and shape [?,1]\n",
      "\t [[{{node inputs_fnlwgt}}]]\n",
      "2023-08-30 14:28:32.733787: I tensorflow/core/common_runtime/executor.cc:1197] [/device:CPU:0] (DEBUG INFO) Executor start aborting (this does not indicate an error and you can ignore this message): INVALID_ARGUMENT: You must feed a value for placeholder tensor 'inputs' with dtype int64 and shape [?,1]\n",
      "\t [[{{node inputs}}]]\n",
      "2023-08-30 14:28:32.749574: I tensorflow/core/common_runtime/executor.cc:1197] [/device:CPU:0] (DEBUG INFO) Executor start aborting (this does not indicate an error and you can ignore this message): INVALID_ARGUMENT: You must feed a value for placeholder tensor 'inputs' with dtype int64 and shape [?,1]\n",
      "\t [[{{node inputs}}]]\n",
      "2023-08-30 14:28:32.764457: I tensorflow/core/common_runtime/executor.cc:1197] [/device:CPU:0] (DEBUG INFO) Executor start aborting (this does not indicate an error and you can ignore this message): INVALID_ARGUMENT: You must feed a value for placeholder tensor 'inputs' with dtype int64 and shape [?,1]\n",
      "\t [[{{node inputs}}]]\n",
      "2023-08-30 14:28:32.825491: I tensorflow/core/common_runtime/executor.cc:1197] [/device:CPU:0] (DEBUG INFO) Executor start aborting (this does not indicate an error and you can ignore this message): INVALID_ARGUMENT: You must feed a value for placeholder tensor 'inputs' with dtype int64 and shape [?,1]\n",
      "\t [[{{node inputs}}]]\n",
      "2023-08-30 14:28:32.888691: I tensorflow/core/common_runtime/executor.cc:1197] [/device:CPU:0] (DEBUG INFO) Executor start aborting (this does not indicate an error and you can ignore this message): INVALID_ARGUMENT: You must feed a value for placeholder tensor 'inputs' with dtype int64 and shape [?,1]\n",
      "\t [[{{node inputs}}]]\n",
      "2023-08-30 14:28:33.190309: I tensorflow/core/common_runtime/executor.cc:1197] [/device:CPU:0] (DEBUG INFO) Executor start aborting (this does not indicate an error and you can ignore this message): INVALID_ARGUMENT: You must feed a value for placeholder tensor 'inputs' with dtype int64 and shape [?,1]\n",
      "\t [[{{node inputs}}]]\n",
      "2023-08-30 14:28:40.760583: I tensorflow/core/common_runtime/executor.cc:1197] [/device:CPU:0] (DEBUG INFO) Executor start aborting (this does not indicate an error and you can ignore this message): INVALID_ARGUMENT: You must feed a value for placeholder tensor 'serving_default_Age' with dtype int64 and shape [?,1]\n",
      "\t [[{{node serving_default_Age}}]]\n",
      "2023-08-30 14:28:40.760734: I tensorflow/core/common_runtime/executor.cc:1197] [/device:CPU:0] (DEBUG INFO) Executor start aborting (this does not indicate an error and you can ignore this message): INVALID_ARGUMENT: You must feed a value for placeholder tensor 'serving_default_CapitalGain' with dtype int64 and shape [?,1]\n",
      "\t [[{{node serving_default_CapitalGain}}]]\n",
      "2023-08-30 14:28:40.760835: I tensorflow/core/common_runtime/executor.cc:1197] [/device:CPU:0] (DEBUG INFO) Executor start aborting (this does not indicate an error and you can ignore this message): INVALID_ARGUMENT: You must feed a value for placeholder tensor 'serving_default_CapitalLoss' with dtype int64 and shape [?,1]\n",
      "\t [[{{node serving_default_CapitalLoss}}]]\n",
      "2023-08-30 14:28:40.760917: I tensorflow/core/common_runtime/executor.cc:1197] [/device:CPU:0] (DEBUG INFO) Executor start aborting (this does not indicate an error and you can ignore this message): INVALID_ARGUMENT: You must feed a value for placeholder tensor 'serving_default_EducationNum' with dtype int64 and shape [?,1]\n",
      "\t [[{{node serving_default_EducationNum}}]]\n",
      "2023-08-30 14:28:40.760993: I tensorflow/core/common_runtime/executor.cc:1197] [/device:CPU:0] (DEBUG INFO) Executor start aborting (this does not indicate an error and you can ignore this message): INVALID_ARGUMENT: You must feed a value for placeholder tensor 'serving_default_HoursPerWeek' with dtype int64 and shape [?,1]\n",
      "\t [[{{node serving_default_HoursPerWeek}}]]\n",
      "2023-08-30 14:28:40.761070: I tensorflow/core/common_runtime/executor.cc:1197] [/device:CPU:0] (DEBUG INFO) Executor start aborting (this does not indicate an error and you can ignore this message): INVALID_ARGUMENT: You must feed a value for placeholder tensor 'serving_default_fnlwgt' with dtype int64 and shape [?,1]\n",
      "\t [[{{node serving_default_fnlwgt}}]]\n"
     ]
    },
    {
     "name": "stdout",
     "output_type": "stream",
     "text": [
      "INFO:tensorflow:Assets written to: /opt/atlassian/pipelines/agent/build/demo-notebooks/resources/workspaces/saveloadESM_adult_income/models/Dataset_56d209eb_2f2b63ca68b2492ab41b596df6ac85ea/assets\n"
     ]
    }
   ],
   "source": [
    "# Save the ESM to your workspace\n",
    "esm.save_to_workspace()"
   ]
  },
  {
   "cell_type": "markdown",
   "metadata": {
    "application/vnd.databricks.v1+cell": {
     "cellMetadata": {
      "byteLimit": 2048000,
      "rowLimit": 10000
     },
     "inputWidgets": {},
     "nuid": "98bd49b6-19bd-4d33-963f-1e471ef4e342",
     "showTitle": false,
     "title": ""
    }
   },
   "source": [
    "## Register a Model on MLflow Registry\n",
    "\n",
    "**NOTE:** MLflow Registry is on only supported on Databricks. This cell will only run on Databricks.\n",
    "\n",
    "You can register an ESM on the MLflow Model Registry using `register_mlflow()` and passing the desired ESM name. If the `name` is unspecified, the experiment run name will be used. If a model with the same name is already registered, then a new version will be created."
   ]
  },
  {
   "cell_type": "code",
   "execution_count": 13,
   "metadata": {
    "application/vnd.databricks.v1+cell": {
     "cellMetadata": {
      "byteLimit": 2048000,
      "rowLimit": 10000
     },
     "inputWidgets": {},
     "nuid": "8511d820-4633-4c19-8c45-70a1e9a1695f",
     "showTitle": false,
     "title": ""
    },
    "execution": {
     "iopub.execute_input": "2023-08-30T14:29:08.804082Z",
     "iopub.status.busy": "2023-08-30T14:29:08.803547Z",
     "iopub.status.idle": "2023-08-30T14:29:08.808481Z",
     "shell.execute_reply": "2023-08-30T14:29:08.807794Z"
    }
   },
   "outputs": [],
   "source": [
    "# Only runs on Databricks\n",
    "import os\n",
    "\n",
    "if os.environ.get('DATABRICKS_RUNTIME_VERSION') is not None:\n",
    "    # Register ESM on MLflow Registry\n",
    "    esm.register_mlflow(name='AdultIncome')\n"
   ]
  },
  {
   "cell_type": "markdown",
   "metadata": {
    "application/vnd.databricks.v1+cell": {
     "cellMetadata": {
      "byteLimit": 2048000,
      "rowLimit": 10000
     },
     "inputWidgets": {},
     "nuid": "67518063-699e-409c-9619-ad07cd1dda3b",
     "showTitle": false,
     "title": ""
    }
   },
   "source": [
    "# Model Load Options\n",
    "\n",
    "## Load a model from a workspace\n",
    "\n",
    "To load an ESM from your workspace, you will need the ESM ID."
   ]
  },
  {
   "cell_type": "code",
   "execution_count": 14,
   "metadata": {
    "application/vnd.databricks.v1+cell": {
     "cellMetadata": {
      "byteLimit": 2048000,
      "rowLimit": 10000
     },
     "inputWidgets": {},
     "nuid": "ef192412-123e-4cc7-94bd-46a9c5de3a13",
     "showTitle": false,
     "title": ""
    },
    "execution": {
     "iopub.execute_input": "2023-08-30T14:29:08.811597Z",
     "iopub.status.busy": "2023-08-30T14:29:08.811368Z",
     "iopub.status.idle": "2023-08-30T14:29:51.156692Z",
     "shell.execute_reply": "2023-08-30T14:29:51.155906Z"
    }
   },
   "outputs": [
    {
     "name": "stdout",
     "output_type": "stream",
     "text": [
      "WARNING:tensorflow:No training configuration found in save file, so the model was *not* compiled. Compile it manually.\n",
      "WARNING:tensorflow:No training configuration found in save file, so the model was *not* compiled. Compile it manually.\n",
      "\n",
      "Load from Workspace SUCCESSFUL.\n"
     ]
    }
   ],
   "source": [
    "# Use the ESM_ID previously obtained after the induction step above\n",
    "esm_ws = ESM.from_workspace(id=ESM_ID)\n",
    "\n",
    "# Check ESM was loaded by comparing its ID\n",
    "if esm_ws.id == ESM_ID: \n",
    "    print(\"\\nLoad from Workspace SUCCESSFUL.\")\n",
    "else:\n",
    "    print(\"\\nLoad from Workspace NOT SUCCESSFUL.\")"
   ]
  },
  {
   "cell_type": "markdown",
   "metadata": {
    "application/vnd.databricks.v1+cell": {
     "cellMetadata": {
      "byteLimit": 2048000,
      "rowLimit": 10000
     },
     "inputWidgets": {},
     "nuid": "c3c497b9-f40a-4303-8673-24c7770fa59c",
     "showTitle": false,
     "title": ""
    }
   },
   "source": [
    "## Load a model from an MLflow Run\n",
    "\n",
    "To load an ESM from an MLflow Run, you will need the MLflow Run ID."
   ]
  },
  {
   "cell_type": "code",
   "execution_count": 15,
   "metadata": {
    "application/vnd.databricks.v1+cell": {
     "cellMetadata": {
      "byteLimit": 2048000,
      "rowLimit": 10000
     },
     "inputWidgets": {},
     "nuid": "4b4ebf81-77e6-49a1-834c-94d6902428aa",
     "showTitle": false,
     "title": ""
    },
    "execution": {
     "iopub.execute_input": "2023-08-30T14:29:51.159794Z",
     "iopub.status.busy": "2023-08-30T14:29:51.159558Z",
     "iopub.status.idle": "2023-08-30T14:30:31.228606Z",
     "shell.execute_reply": "2023-08-30T14:30:31.227603Z"
    }
   },
   "outputs": [
    {
     "name": "stdout",
     "output_type": "stream",
     "text": [
      "WARNING:tensorflow:No training configuration found in save file, so the model was *not* compiled. Compile it manually.\n",
      "WARNING:tensorflow:No training configuration found in save file, so the model was *not* compiled. Compile it manually.\n",
      "\n",
      "Load from MLflow run SUCCESSFUL.\n"
     ]
    }
   ],
   "source": [
    "# Use the MLflow_Run_ID previously obtained after the induction step above\n",
    "esm_mlrun = ESM.from_mlflow_run(run_id=MLflow_Run_ID)\n",
    "\n",
    "# Check ESM was loaded by comparing its ID\n",
    "if esm_mlrun.id == ESM_ID: \n",
    "    print(\"\\nLoad from MLflow run SUCCESSFUL.\")\n",
    "else:\n",
    "    print(\"\\nLoad from MLflow run NOT SUCCESSFUL.\")"
   ]
  },
  {
   "cell_type": "markdown",
   "metadata": {
    "application/vnd.databricks.v1+cell": {
     "cellMetadata": {
      "byteLimit": 2048000,
      "rowLimit": 10000
     },
     "inputWidgets": {},
     "nuid": "0f6cb0d1-bce8-446d-b6a3-eb63f290e753",
     "showTitle": false,
     "title": ""
    }
   },
   "source": [
    "## Load a model from the MLflow Registry \n",
    "\n",
    "**NOTE:** MLflow Registry is on only supported on Databricks. This cell will only run on Databricks.\n",
    "\n",
    "You can load an ESM from the MLflow Model Registry using `from_mlflow_registry()` and passing the desired model name and version. \n",
    "\n",
    "The code below automatically detects the latest model version and loads it."
   ]
  },
  {
   "cell_type": "code",
   "execution_count": 16,
   "metadata": {
    "application/vnd.databricks.v1+cell": {
     "cellMetadata": {
      "byteLimit": 2048000,
      "rowLimit": 10000
     },
     "inputWidgets": {},
     "nuid": "86dd9122-8d95-4a79-804e-e7df14b56e2e",
     "showTitle": false,
     "title": ""
    },
    "execution": {
     "iopub.execute_input": "2023-08-30T14:30:31.232045Z",
     "iopub.status.busy": "2023-08-30T14:30:31.231762Z",
     "iopub.status.idle": "2023-08-30T14:30:31.237220Z",
     "shell.execute_reply": "2023-08-30T14:30:31.236317Z"
    }
   },
   "outputs": [],
   "source": [
    "import mlflow\n",
    "from mlflow import MlflowClient\n",
    "\n",
    "# Only runs on Databricks\n",
    "import os\n",
    "\n",
    "if os.environ.get('DATABRICKS_RUNTIME_VERSION') is not None:\n",
    "    \n",
    "    # Get the latest version name of a registered model.\n",
    "    client = MlflowClient()\n",
    "    # Get all model versions\n",
    "    model_versions = client.search_registered_models(filter_string=\"name='AdultIncome'\")\n",
    "    # Find the latest version\n",
    "    latest_version = max(model_versions[0].latest_versions, key = lambda v: v.version).version\n",
    "\n",
    "    # Load latest version\n",
    "    esm_mlreg = ESM.from_mlflow_registry(model_name='AdultIncome', model_version=latest_version)\n",
    "\n",
    "    # Check ESM was loaded by comparing its ID\n",
    "    if esm_mlreg.id == ESM_ID:\n",
    "        print(\"\\nLoad from MLflow Registry SUCCESSFUL.\")\n",
    "    else:\n",
    "        print(\"\\nLoad from MLflow Registry NOT SUCCESSFUL.\")\n"
   ]
  }
 ],
 "metadata": {
  "application/vnd.databricks.v1+notebook": {
   "dashboards": [],
   "language": "python",
   "notebookMetadata": {
    "pythonIndentUnit": 4
   },
   "notebookName": "Save-Load-Register-ESM",
   "widgets": {}
  },
  "kernelspec": {
   "display_name": "Python 3 (ipykernel)",
   "language": "python",
   "name": "python3"
  },
  "language_info": {
   "codemirror_mode": {
    "name": "ipython",
    "version": 3
   },
   "file_extension": ".py",
   "mimetype": "text/x-python",
   "name": "python",
   "nbconvert_exporter": "python",
   "pygments_lexer": "ipython3",
   "version": "3.11.5"
  },
  "widgets": {
   "application/vnd.jupyter.widget-state+json": {
    "state": {
     "0d61b9e0835646798f2a51c911386555": {
      "model_module": "@jupyter-widgets/controls",
      "model_module_version": "2.0.0",
      "model_name": "HBoxModel",
      "state": {
       "_dom_classes": [],
       "_model_module": "@jupyter-widgets/controls",
       "_model_module_version": "2.0.0",
       "_model_name": "HBoxModel",
       "_view_count": null,
       "_view_module": "@jupyter-widgets/controls",
       "_view_module_version": "2.0.0",
       "_view_name": "HBoxView",
       "box_style": "",
       "children": [
        "IPY_MODEL_a0dd9714fc194c74b01461e0bec56a67",
        "IPY_MODEL_4a7d5e43207b466abd6d895e7390f77c",
        "IPY_MODEL_f1885869462b443e8507b28ea51ce06e"
       ],
       "layout": "IPY_MODEL_3e173b297e50469886fc172d5f4992f9",
       "tabbable": null,
       "tooltip": null
      }
     },
     "1be037ed3b534a499022bc050fbce999": {
      "model_module": "@jupyter-widgets/base",
      "model_module_version": "2.0.0",
      "model_name": "LayoutModel",
      "state": {
       "_model_module": "@jupyter-widgets/base",
       "_model_module_version": "2.0.0",
       "_model_name": "LayoutModel",
       "_view_count": null,
       "_view_module": "@jupyter-widgets/base",
       "_view_module_version": "2.0.0",
       "_view_name": "LayoutView",
       "align_content": null,
       "align_items": null,
       "align_self": null,
       "border_bottom": null,
       "border_left": null,
       "border_right": null,
       "border_top": null,
       "bottom": null,
       "display": null,
       "flex": null,
       "flex_flow": null,
       "grid_area": null,
       "grid_auto_columns": null,
       "grid_auto_flow": null,
       "grid_auto_rows": null,
       "grid_column": null,
       "grid_gap": null,
       "grid_row": null,
       "grid_template_areas": null,
       "grid_template_columns": null,
       "grid_template_rows": null,
       "height": null,
       "justify_content": null,
       "justify_items": null,
       "left": null,
       "margin": null,
       "max_height": null,
       "max_width": null,
       "min_height": null,
       "min_width": null,
       "object_fit": null,
       "object_position": null,
       "order": null,
       "overflow": null,
       "padding": null,
       "right": null,
       "top": null,
       "visibility": null,
       "width": null
      }
     },
     "255cb8fe264e461aab57d58bbe76d30b": {
      "model_module": "@jupyter-widgets/controls",
      "model_module_version": "2.0.0",
      "model_name": "HTMLStyleModel",
      "state": {
       "_model_module": "@jupyter-widgets/controls",
       "_model_module_version": "2.0.0",
       "_model_name": "HTMLStyleModel",
       "_view_count": null,
       "_view_module": "@jupyter-widgets/base",
       "_view_module_version": "2.0.0",
       "_view_name": "StyleView",
       "background": null,
       "description_width": "",
       "font_size": null,
       "text_color": null
      }
     },
     "36fb3030339b4401975b008edbefd900": {
      "model_module": "@jupyter-widgets/controls",
      "model_module_version": "2.0.0",
      "model_name": "HTMLStyleModel",
      "state": {
       "_model_module": "@jupyter-widgets/controls",
       "_model_module_version": "2.0.0",
       "_model_name": "HTMLStyleModel",
       "_view_count": null,
       "_view_module": "@jupyter-widgets/base",
       "_view_module_version": "2.0.0",
       "_view_name": "StyleView",
       "background": null,
       "description_width": "",
       "font_size": null,
       "text_color": null
      }
     },
     "3cb70f5ddfa44d169c8c14d7617a9941": {
      "model_module": "@jupyter-widgets/controls",
      "model_module_version": "2.0.0",
      "model_name": "HTMLModel",
      "state": {
       "_dom_classes": [],
       "_model_module": "@jupyter-widgets/controls",
       "_model_module_version": "2.0.0",
       "_model_name": "HTMLModel",
       "_view_count": null,
       "_view_module": "@jupyter-widgets/controls",
       "_view_module_version": "2.0.0",
       "_view_name": "HTMLView",
       "description": "",
       "description_allow_html": false,
       "layout": "IPY_MODEL_1be037ed3b534a499022bc050fbce999",
       "placeholder": "​",
       "style": "IPY_MODEL_97bb3c659b744fd6a57203752f0dff3a",
       "tabbable": null,
       "tooltip": null,
       "value": " 0/1 [00:00&lt;?, ?it/s]"
      }
     },
     "3e173b297e50469886fc172d5f4992f9": {
      "model_module": "@jupyter-widgets/base",
      "model_module_version": "2.0.0",
      "model_name": "LayoutModel",
      "state": {
       "_model_module": "@jupyter-widgets/base",
       "_model_module_version": "2.0.0",
       "_model_name": "LayoutModel",
       "_view_count": null,
       "_view_module": "@jupyter-widgets/base",
       "_view_module_version": "2.0.0",
       "_view_name": "LayoutView",
       "align_content": null,
       "align_items": null,
       "align_self": null,
       "border_bottom": null,
       "border_left": null,
       "border_right": null,
       "border_top": null,
       "bottom": null,
       "display": null,
       "flex": null,
       "flex_flow": null,
       "grid_area": null,
       "grid_auto_columns": null,
       "grid_auto_flow": null,
       "grid_auto_rows": null,
       "grid_column": null,
       "grid_gap": null,
       "grid_row": null,
       "grid_template_areas": null,
       "grid_template_columns": null,
       "grid_template_rows": null,
       "height": null,
       "justify_content": null,
       "justify_items": null,
       "left": null,
       "margin": null,
       "max_height": null,
       "max_width": null,
       "min_height": null,
       "min_width": null,
       "object_fit": null,
       "object_position": null,
       "order": null,
       "overflow": null,
       "padding": null,
       "right": null,
       "top": null,
       "visibility": "hidden",
       "width": null
      }
     },
     "434d81653b984a16b9301f4391d8b1c2": {
      "model_module": "@jupyter-widgets/base",
      "model_module_version": "2.0.0",
      "model_name": "LayoutModel",
      "state": {
       "_model_module": "@jupyter-widgets/base",
       "_model_module_version": "2.0.0",
       "_model_name": "LayoutModel",
       "_view_count": null,
       "_view_module": "@jupyter-widgets/base",
       "_view_module_version": "2.0.0",
       "_view_name": "LayoutView",
       "align_content": null,
       "align_items": null,
       "align_self": null,
       "border_bottom": null,
       "border_left": null,
       "border_right": null,
       "border_top": null,
       "bottom": null,
       "display": null,
       "flex": null,
       "flex_flow": null,
       "grid_area": null,
       "grid_auto_columns": null,
       "grid_auto_flow": null,
       "grid_auto_rows": null,
       "grid_column": null,
       "grid_gap": null,
       "grid_row": null,
       "grid_template_areas": null,
       "grid_template_columns": null,
       "grid_template_rows": null,
       "height": null,
       "justify_content": null,
       "justify_items": null,
       "left": null,
       "margin": null,
       "max_height": null,
       "max_width": null,
       "min_height": null,
       "min_width": null,
       "object_fit": null,
       "object_position": null,
       "order": null,
       "overflow": null,
       "padding": null,
       "right": null,
       "top": null,
       "visibility": null,
       "width": null
      }
     },
     "48d96d90455f4dd58557aad6fb38d4d5": {
      "model_module": "@jupyter-widgets/base",
      "model_module_version": "2.0.0",
      "model_name": "LayoutModel",
      "state": {
       "_model_module": "@jupyter-widgets/base",
       "_model_module_version": "2.0.0",
       "_model_name": "LayoutModel",
       "_view_count": null,
       "_view_module": "@jupyter-widgets/base",
       "_view_module_version": "2.0.0",
       "_view_name": "LayoutView",
       "align_content": null,
       "align_items": null,
       "align_self": null,
       "border_bottom": null,
       "border_left": null,
       "border_right": null,
       "border_top": null,
       "bottom": null,
       "display": null,
       "flex": null,
       "flex_flow": null,
       "grid_area": null,
       "grid_auto_columns": null,
       "grid_auto_flow": null,
       "grid_auto_rows": null,
       "grid_column": null,
       "grid_gap": null,
       "grid_row": null,
       "grid_template_areas": null,
       "grid_template_columns": null,
       "grid_template_rows": null,
       "height": null,
       "justify_content": null,
       "justify_items": null,
       "left": null,
       "margin": null,
       "max_height": null,
       "max_width": null,
       "min_height": null,
       "min_width": null,
       "object_fit": null,
       "object_position": null,
       "order": null,
       "overflow": null,
       "padding": null,
       "right": null,
       "top": null,
       "visibility": null,
       "width": null
      }
     },
     "4a7d5e43207b466abd6d895e7390f77c": {
      "model_module": "@jupyter-widgets/controls",
      "model_module_version": "2.0.0",
      "model_name": "FloatProgressModel",
      "state": {
       "_dom_classes": [],
       "_model_module": "@jupyter-widgets/controls",
       "_model_module_version": "2.0.0",
       "_model_name": "FloatProgressModel",
       "_view_count": null,
       "_view_module": "@jupyter-widgets/controls",
       "_view_module_version": "2.0.0",
       "_view_name": "ProgressView",
       "bar_style": "",
       "description": "",
       "description_allow_html": false,
       "layout": "IPY_MODEL_843cb14331c546bd9dd08d88415dd793",
       "max": 1.0,
       "min": 0.0,
       "orientation": "horizontal",
       "style": "IPY_MODEL_de60faaacc6b46f4ae74497063cf4fec",
       "tabbable": null,
       "tooltip": null,
       "value": 1.0
      }
     },
     "571dfc029ca34bc19364d4bec46f86c2": {
      "model_module": "@jupyter-widgets/controls",
      "model_module_version": "2.0.0",
      "model_name": "FloatProgressModel",
      "state": {
       "_dom_classes": [],
       "_model_module": "@jupyter-widgets/controls",
       "_model_module_version": "2.0.0",
       "_model_name": "FloatProgressModel",
       "_view_count": null,
       "_view_module": "@jupyter-widgets/controls",
       "_view_module_version": "2.0.0",
       "_view_name": "ProgressView",
       "bar_style": "",
       "description": "",
       "description_allow_html": false,
       "layout": "IPY_MODEL_434d81653b984a16b9301f4391d8b1c2",
       "max": 1.0,
       "min": 0.0,
       "orientation": "horizontal",
       "style": "IPY_MODEL_afde818dc9ae49a7984c10386f647280",
       "tabbable": null,
       "tooltip": null,
       "value": 1.0
      }
     },
     "73a985deb8ce41b6b8bc247ad7c91078": {
      "model_module": "@jupyter-widgets/controls",
      "model_module_version": "2.0.0",
      "model_name": "HTMLModel",
      "state": {
       "_dom_classes": [],
       "_model_module": "@jupyter-widgets/controls",
       "_model_module_version": "2.0.0",
       "_model_name": "HTMLModel",
       "_view_count": null,
       "_view_module": "@jupyter-widgets/controls",
       "_view_module_version": "2.0.0",
       "_view_name": "HTMLView",
       "description": "",
       "description_allow_html": false,
       "layout": "IPY_MODEL_90d28b5e36084711b712b5c2239aa7fd",
       "placeholder": "​",
       "style": "IPY_MODEL_a6ab8a6674254f2d850f6f17be8f28c3",
       "tabbable": null,
       "tooltip": null,
       "value": "[Persistence] - MLFLOW Run ID: 9ffa04600c3c48b1bac60746220d0a1d:   0%"
      }
     },
     "81d1ba66fd25474fa06dd9ef4d465f7e": {
      "model_module": "@jupyter-widgets/base",
      "model_module_version": "2.0.0",
      "model_name": "LayoutModel",
      "state": {
       "_model_module": "@jupyter-widgets/base",
       "_model_module_version": "2.0.0",
       "_model_name": "LayoutModel",
       "_view_count": null,
       "_view_module": "@jupyter-widgets/base",
       "_view_module_version": "2.0.0",
       "_view_name": "LayoutView",
       "align_content": null,
       "align_items": null,
       "align_self": null,
       "border_bottom": null,
       "border_left": null,
       "border_right": null,
       "border_top": null,
       "bottom": null,
       "display": null,
       "flex": null,
       "flex_flow": null,
       "grid_area": null,
       "grid_auto_columns": null,
       "grid_auto_flow": null,
       "grid_auto_rows": null,
       "grid_column": null,
       "grid_gap": null,
       "grid_row": null,
       "grid_template_areas": null,
       "grid_template_columns": null,
       "grid_template_rows": null,
       "height": null,
       "justify_content": null,
       "justify_items": null,
       "left": null,
       "margin": null,
       "max_height": null,
       "max_width": null,
       "min_height": null,
       "min_width": null,
       "object_fit": null,
       "object_position": null,
       "order": null,
       "overflow": null,
       "padding": null,
       "right": null,
       "top": null,
       "visibility": null,
       "width": null
      }
     },
     "82630b1eccaf4a55ab684d440ce499e4": {
      "model_module": "@jupyter-widgets/controls",
      "model_module_version": "2.0.0",
      "model_name": "HBoxModel",
      "state": {
       "_dom_classes": [],
       "_model_module": "@jupyter-widgets/controls",
       "_model_module_version": "2.0.0",
       "_model_name": "HBoxModel",
       "_view_count": null,
       "_view_module": "@jupyter-widgets/controls",
       "_view_module_version": "2.0.0",
       "_view_name": "HBoxView",
       "box_style": "",
       "children": [
        "IPY_MODEL_73a985deb8ce41b6b8bc247ad7c91078",
        "IPY_MODEL_571dfc029ca34bc19364d4bec46f86c2",
        "IPY_MODEL_3cb70f5ddfa44d169c8c14d7617a9941"
       ],
       "layout": "IPY_MODEL_d9efb5f8799144f6a31a99d37a2997cb",
       "tabbable": null,
       "tooltip": null
      }
     },
     "843cb14331c546bd9dd08d88415dd793": {
      "model_module": "@jupyter-widgets/base",
      "model_module_version": "2.0.0",
      "model_name": "LayoutModel",
      "state": {
       "_model_module": "@jupyter-widgets/base",
       "_model_module_version": "2.0.0",
       "_model_name": "LayoutModel",
       "_view_count": null,
       "_view_module": "@jupyter-widgets/base",
       "_view_module_version": "2.0.0",
       "_view_name": "LayoutView",
       "align_content": null,
       "align_items": null,
       "align_self": null,
       "border_bottom": null,
       "border_left": null,
       "border_right": null,
       "border_top": null,
       "bottom": null,
       "display": null,
       "flex": null,
       "flex_flow": null,
       "grid_area": null,
       "grid_auto_columns": null,
       "grid_auto_flow": null,
       "grid_auto_rows": null,
       "grid_column": null,
       "grid_gap": null,
       "grid_row": null,
       "grid_template_areas": null,
       "grid_template_columns": null,
       "grid_template_rows": null,
       "height": null,
       "justify_content": null,
       "justify_items": null,
       "left": null,
       "margin": null,
       "max_height": null,
       "max_width": null,
       "min_height": null,
       "min_width": null,
       "object_fit": null,
       "object_position": null,
       "order": null,
       "overflow": null,
       "padding": null,
       "right": null,
       "top": null,
       "visibility": null,
       "width": null
      }
     },
     "90d28b5e36084711b712b5c2239aa7fd": {
      "model_module": "@jupyter-widgets/base",
      "model_module_version": "2.0.0",
      "model_name": "LayoutModel",
      "state": {
       "_model_module": "@jupyter-widgets/base",
       "_model_module_version": "2.0.0",
       "_model_name": "LayoutModel",
       "_view_count": null,
       "_view_module": "@jupyter-widgets/base",
       "_view_module_version": "2.0.0",
       "_view_name": "LayoutView",
       "align_content": null,
       "align_items": null,
       "align_self": null,
       "border_bottom": null,
       "border_left": null,
       "border_right": null,
       "border_top": null,
       "bottom": null,
       "display": null,
       "flex": null,
       "flex_flow": null,
       "grid_area": null,
       "grid_auto_columns": null,
       "grid_auto_flow": null,
       "grid_auto_rows": null,
       "grid_column": null,
       "grid_gap": null,
       "grid_row": null,
       "grid_template_areas": null,
       "grid_template_columns": null,
       "grid_template_rows": null,
       "height": null,
       "justify_content": null,
       "justify_items": null,
       "left": null,
       "margin": null,
       "max_height": null,
       "max_width": null,
       "min_height": null,
       "min_width": null,
       "object_fit": null,
       "object_position": null,
       "order": null,
       "overflow": null,
       "padding": null,
       "right": null,
       "top": null,
       "visibility": null,
       "width": null
      }
     },
     "97bb3c659b744fd6a57203752f0dff3a": {
      "model_module": "@jupyter-widgets/controls",
      "model_module_version": "2.0.0",
      "model_name": "HTMLStyleModel",
      "state": {
       "_model_module": "@jupyter-widgets/controls",
       "_model_module_version": "2.0.0",
       "_model_name": "HTMLStyleModel",
       "_view_count": null,
       "_view_module": "@jupyter-widgets/base",
       "_view_module_version": "2.0.0",
       "_view_name": "StyleView",
       "background": null,
       "description_width": "",
       "font_size": null,
       "text_color": null
      }
     },
     "a0dd9714fc194c74b01461e0bec56a67": {
      "model_module": "@jupyter-widgets/controls",
      "model_module_version": "2.0.0",
      "model_name": "HTMLModel",
      "state": {
       "_dom_classes": [],
       "_model_module": "@jupyter-widgets/controls",
       "_model_module_version": "2.0.0",
       "_model_name": "HTMLModel",
       "_view_count": null,
       "_view_module": "@jupyter-widgets/controls",
       "_view_module_version": "2.0.0",
       "_view_name": "HTMLView",
       "description": "",
       "description_allow_html": false,
       "layout": "IPY_MODEL_48d96d90455f4dd58557aad6fb38d4d5",
       "placeholder": "​",
       "style": "IPY_MODEL_255cb8fe264e461aab57d58bbe76d30b",
       "tabbable": null,
       "tooltip": null,
       "value": "[ESM] - MLFLOW Run ID: 2f2b63ca68b2492ab41b596df6ac85ea:   0%"
      }
     },
     "a6ab8a6674254f2d850f6f17be8f28c3": {
      "model_module": "@jupyter-widgets/controls",
      "model_module_version": "2.0.0",
      "model_name": "HTMLStyleModel",
      "state": {
       "_model_module": "@jupyter-widgets/controls",
       "_model_module_version": "2.0.0",
       "_model_name": "HTMLStyleModel",
       "_view_count": null,
       "_view_module": "@jupyter-widgets/base",
       "_view_module_version": "2.0.0",
       "_view_name": "StyleView",
       "background": null,
       "description_width": "",
       "font_size": null,
       "text_color": null
      }
     },
     "afde818dc9ae49a7984c10386f647280": {
      "model_module": "@jupyter-widgets/controls",
      "model_module_version": "2.0.0",
      "model_name": "ProgressStyleModel",
      "state": {
       "_model_module": "@jupyter-widgets/controls",
       "_model_module_version": "2.0.0",
       "_model_name": "ProgressStyleModel",
       "_view_count": null,
       "_view_module": "@jupyter-widgets/base",
       "_view_module_version": "2.0.0",
       "_view_name": "StyleView",
       "bar_color": null,
       "description_width": ""
      }
     },
     "d9efb5f8799144f6a31a99d37a2997cb": {
      "model_module": "@jupyter-widgets/base",
      "model_module_version": "2.0.0",
      "model_name": "LayoutModel",
      "state": {
       "_model_module": "@jupyter-widgets/base",
       "_model_module_version": "2.0.0",
       "_model_name": "LayoutModel",
       "_view_count": null,
       "_view_module": "@jupyter-widgets/base",
       "_view_module_version": "2.0.0",
       "_view_name": "LayoutView",
       "align_content": null,
       "align_items": null,
       "align_self": null,
       "border_bottom": null,
       "border_left": null,
       "border_right": null,
       "border_top": null,
       "bottom": null,
       "display": null,
       "flex": null,
       "flex_flow": null,
       "grid_area": null,
       "grid_auto_columns": null,
       "grid_auto_flow": null,
       "grid_auto_rows": null,
       "grid_column": null,
       "grid_gap": null,
       "grid_row": null,
       "grid_template_areas": null,
       "grid_template_columns": null,
       "grid_template_rows": null,
       "height": null,
       "justify_content": null,
       "justify_items": null,
       "left": null,
       "margin": null,
       "max_height": null,
       "max_width": null,
       "min_height": null,
       "min_width": null,
       "object_fit": null,
       "object_position": null,
       "order": null,
       "overflow": null,
       "padding": null,
       "right": null,
       "top": null,
       "visibility": "hidden",
       "width": null
      }
     },
     "de60faaacc6b46f4ae74497063cf4fec": {
      "model_module": "@jupyter-widgets/controls",
      "model_module_version": "2.0.0",
      "model_name": "ProgressStyleModel",
      "state": {
       "_model_module": "@jupyter-widgets/controls",
       "_model_module_version": "2.0.0",
       "_model_name": "ProgressStyleModel",
       "_view_count": null,
       "_view_module": "@jupyter-widgets/base",
       "_view_module_version": "2.0.0",
       "_view_name": "StyleView",
       "bar_color": null,
       "description_width": ""
      }
     },
     "f1885869462b443e8507b28ea51ce06e": {
      "model_module": "@jupyter-widgets/controls",
      "model_module_version": "2.0.0",
      "model_name": "HTMLModel",
      "state": {
       "_dom_classes": [],
       "_model_module": "@jupyter-widgets/controls",
       "_model_module_version": "2.0.0",
       "_model_name": "HTMLModel",
       "_view_count": null,
       "_view_module": "@jupyter-widgets/controls",
       "_view_module_version": "2.0.0",
       "_view_name": "HTMLView",
       "description": "",
       "description_allow_html": false,
       "layout": "IPY_MODEL_81d1ba66fd25474fa06dd9ef4d465f7e",
       "placeholder": "​",
       "style": "IPY_MODEL_36fb3030339b4401975b008edbefd900",
       "tabbable": null,
       "tooltip": null,
       "value": " 0/1 [00:00&lt;?, ?it/s]"
      }
     }
    },
    "version_major": 2,
    "version_minor": 0
   }
  }
 },
 "nbformat": 4,
 "nbformat_minor": 1
}
