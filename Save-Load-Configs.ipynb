{
 "cells": [
  {
   "cell_type": "markdown",
   "metadata": {
    "application/vnd.databricks.v1+cell": {
     "cellMetadata": {
      "byteLimit": 2048000,
      "rowLimit": 10000
     },
     "inputWidgets": {},
     "nuid": "67c54459-673c-47c4-abd4-0931a18c6d93",
     "showTitle": false,
     "title": ""
    }
   },
   "source": [
    "# Saving and Loading ModelInducer() Configs\n",
    "\n",
    "You can save your induction configurations and load them in another workspace to replicate a setup. \n",
    "\n",
    "In this notebook we will save and load an inducer config and replicate the setup in a different workspace."
   ]
  },
  {
   "cell_type": "markdown",
   "metadata": {
    "application/vnd.databricks.v1+cell": {
     "cellMetadata": {
      "byteLimit": 2048000,
      "rowLimit": 10000
     },
     "inputWidgets": {},
     "nuid": "221246f5-abd3-4714-9727-ee919d9b2fc2",
     "showTitle": false,
     "title": ""
    }
   },
   "source": [
    "# Check Environment Variables\n",
    "Before installing Hybrid Intelligence in the notebook you need to set these Environment Variables externally as described in the User Guide https://docs.umnai.com/set-up-your-environment. \n",
    "This section checks that the environment variables have been set correctly and throws an error if not."
   ]
  },
  {
   "cell_type": "code",
   "execution_count": 1,
   "metadata": {
    "application/vnd.databricks.v1+cell": {
     "cellMetadata": {
      "byteLimit": 2048000,
      "rowLimit": 10000
     },
     "inputWidgets": {},
     "nuid": "aba19fbd-3a0c-4b4c-a85e-561918ca974e",
     "showTitle": false,
     "title": ""
    },
    "execution": {
     "iopub.execute_input": "2023-08-30T14:30:33.947681Z",
     "iopub.status.busy": "2023-08-30T14:30:33.946322Z",
     "iopub.status.idle": "2023-08-30T14:30:33.955982Z",
     "shell.execute_reply": "2023-08-30T14:30:33.955476Z"
    }
   },
   "outputs": [],
   "source": [
    "import os\n",
    "\n",
    "umnai_env_vars = {\n",
    "    'UMNAI_CLIENT_ID',\n",
    "    'UMNAI_CLIENT_SECRET',\n",
    "    'PIP_EXTRA_INDEX_URL',\n",
    "}\n",
    "\n",
    "if not umnai_env_vars.issubset(os.environ.keys()):\n",
    "    raise ValueError(\n",
    "        'UMNAI environment variables not set correctly. They need to be set before using the Umnai library.'\n",
    "    )"
   ]
  },
  {
   "cell_type": "markdown",
   "metadata": {
    "application/vnd.databricks.v1+cell": {
     "cellMetadata": {
      "byteLimit": 2048000,
      "rowLimit": 10000
     },
     "inputWidgets": {},
     "nuid": "e64748fa-8167-40a9-9761-58386c596e0e",
     "showTitle": false,
     "title": ""
    }
   },
   "source": [
    "# Install Hybrid Intelligence\n",
    "Next we install the UMNAI Platform."
   ]
  },
  {
   "cell_type": "code",
   "execution_count": 2,
   "metadata": {
    "application/vnd.databricks.v1+cell": {
     "cellMetadata": {
      "byteLimit": 2048000,
      "rowLimit": 10000
     },
     "inputWidgets": {},
     "nuid": "3e77a2d3-c292-4886-8330-fbad027b28dd",
     "showTitle": false,
     "title": ""
    },
    "execution": {
     "iopub.execute_input": "2023-08-30T14:30:33.960534Z",
     "iopub.status.busy": "2023-08-30T14:30:33.959500Z",
     "iopub.status.idle": "2023-08-30T14:30:39.063247Z",
     "shell.execute_reply": "2023-08-30T14:30:39.062339Z"
    }
   },
   "outputs": [
    {
     "name": "stdout",
     "output_type": "stream",
     "text": [
      "\u001b[33mWARNING: Running pip as the 'root' user can result in broken permissions and conflicting behaviour with the system package manager. It is recommended to use a virtual environment instead: https://pip.pypa.io/warnings/venv\u001b[0m\u001b[33m\r\n",
      "\u001b[0mNote: you may need to restart the kernel to use updated packages.\n"
     ]
    }
   ],
   "source": [
    "%pip install umnai-platform --quiet"
   ]
  },
  {
   "cell_type": "markdown",
   "metadata": {
    "application/vnd.databricks.v1+cell": {
     "cellMetadata": {
      "byteLimit": 2048000,
      "rowLimit": 10000
     },
     "inputWidgets": {},
     "nuid": "d3b40332-9637-452e-b88e-6ea75e882385",
     "showTitle": false,
     "title": ""
    }
   },
   "source": [
    "# Set Workspace Paths According to Your Environment\n",
    "Now we will set the workspace path and the experiment path automatically. They will be set to a local path if you are using a local machine environment or to a Databricks path if you are using a Databricks environment."
   ]
  },
  {
   "cell_type": "markdown",
   "metadata": {
    "application/vnd.databricks.v1+cell": {
     "cellMetadata": {
      "byteLimit": 2048000,
      "rowLimit": 10000
     },
     "inputWidgets": {},
     "nuid": "81a7b822-3077-4d95-be37-dd60aa486cdb",
     "showTitle": false,
     "title": ""
    }
   },
   "source": [
    "## Install Databricks SDK\n",
    "\n",
    "This checks if you are running on Databricks and installs their SDK if you are."
   ]
  },
  {
   "cell_type": "code",
   "execution_count": 3,
   "metadata": {
    "application/vnd.databricks.v1+cell": {
     "cellMetadata": {
      "byteLimit": 2048000,
      "rowLimit": 10000
     },
     "inputWidgets": {},
     "nuid": "63f186cb-5a7f-4a29-bdfc-d5c89dd7db35",
     "showTitle": false,
     "title": ""
    },
    "execution": {
     "iopub.execute_input": "2023-08-30T14:30:39.066508Z",
     "iopub.status.busy": "2023-08-30T14:30:39.066306Z",
     "iopub.status.idle": "2023-08-30T14:30:39.070291Z",
     "shell.execute_reply": "2023-08-30T14:30:39.069562Z"
    }
   },
   "outputs": [],
   "source": [
    "import os\n",
    "if os.environ.get('DATABRICKS_RUNTIME_VERSION') is not None:\n",
    "    %pip install databricks-sdk --quiet"
   ]
  },
  {
   "cell_type": "markdown",
   "metadata": {
    "application/vnd.databricks.v1+cell": {
     "cellMetadata": {
      "byteLimit": 2048000,
      "rowLimit": 10000
     },
     "inputWidgets": {},
     "nuid": "2aadad15-a261-4950-ba46-a9daf68aa757",
     "showTitle": false,
     "title": ""
    }
   },
   "source": [
    "If you are on Databricks, you can select whether you would like the workspace to be created in the shared area (available to all users in your account) or in your personal user account area. You can ignore this if you are running on a local environment."
   ]
  },
  {
   "cell_type": "code",
   "execution_count": 4,
   "metadata": {
    "application/vnd.databricks.v1+cell": {
     "cellMetadata": {
      "byteLimit": 2048000,
      "rowLimit": 10000
     },
     "inputWidgets": {},
     "nuid": "700fed9d-e59d-4217-b86c-104e55f75387",
     "showTitle": false,
     "title": ""
    },
    "execution": {
     "iopub.execute_input": "2023-08-30T14:30:39.073595Z",
     "iopub.status.busy": "2023-08-30T14:30:39.073161Z",
     "iopub.status.idle": "2023-08-30T14:30:39.076282Z",
     "shell.execute_reply": "2023-08-30T14:30:39.075406Z"
    }
   },
   "outputs": [],
   "source": [
    "# Set to 1 if you want to use shared or 0 to use personal user account area.\n",
    "USE_SHARED_WORKSPACE = 1 "
   ]
  },
  {
   "cell_type": "markdown",
   "metadata": {
    "application/vnd.databricks.v1+cell": {
     "cellMetadata": {
      "byteLimit": 2048000,
      "rowLimit": 10000
     },
     "inputWidgets": {},
     "nuid": "a630b48f-02b4-4605-9ec8-6aa0782ccd68",
     "showTitle": false,
     "title": ""
    }
   },
   "source": [
    "## Set Paths\n",
    "Next the workspace and experiment paths are set automatically. In this case we will create two workspaces so we need to create both paths."
   ]
  },
  {
   "cell_type": "code",
   "execution_count": 5,
   "metadata": {
    "application/vnd.databricks.v1+cell": {
     "cellMetadata": {
      "byteLimit": 2048000,
      "rowLimit": 10000
     },
     "inputWidgets": {},
     "nuid": "c68a5038-1d8d-427b-978b-696b6490d9ac",
     "showTitle": false,
     "title": ""
    },
    "execution": {
     "iopub.execute_input": "2023-08-30T14:30:39.079120Z",
     "iopub.status.busy": "2023-08-30T14:30:39.078687Z",
     "iopub.status.idle": "2023-08-30T14:30:39.083903Z",
     "shell.execute_reply": "2023-08-30T14:30:39.083078Z"
    }
   },
   "outputs": [],
   "source": [
    "import os\n",
    "\n",
    "EXP_NAME = 'saveloadConfig_adult_income'\n",
    "EXP2_NAME = 'saveloadConfig_new_adult_income'\n",
    "\n",
    "if os.environ.get('DATABRICKS_RUNTIME_VERSION') is not None:\n",
    "    from databricks.sdk import WorkspaceClient\n",
    "    w = WorkspaceClient()\n",
    "\n",
    "    # # For a Databricks Environment\n",
    "    WS_PATH = '/dbfs/FileStore/workspaces/'+EXP_NAME\n",
    "    WS2_PATH = '/dbfs/FileStore/workspaces/'+EXP2_NAME\n",
    "    if USE_SHARED_WORKSPACE:\n",
    "        EXP_PREFIX = f'/Shared/experiments/'\n",
    "    else:\n",
    "        USERNAME = dbutils.notebook.entry_point.getDbutils().notebook().getContext().userName().get()\n",
    "        EXP_PREFIX = f'/Users/{USERNAME}/experiments/'\n",
    "    w.workspace.mkdirs(EXP_PREFIX)\n",
    "    EXP_PATH = EXP_PREFIX + EXP_NAME\n",
    "    EXP2_PATH = EXP_PREFIX + EXP2_NAME\n",
    "else:\n",
    "    # For a Local Machine Environment\n",
    "    WS_PATH = 'resources/workspaces/'+EXP_NAME\n",
    "    EXP_PATH = EXP_NAME\n",
    "    WS2_PATH = 'resources/workspaces/'+EXP2_NAME\n",
    "    EXP2_PATH = EXP2_NAME"
   ]
  },
  {
   "cell_type": "markdown",
   "metadata": {
    "application/vnd.databricks.v1+cell": {
     "cellMetadata": {
      "byteLimit": 2048000,
      "rowLimit": 10000
     },
     "inputWidgets": {},
     "nuid": "e1e7dcbf-1bba-44cb-9740-bb60b8a5eead",
     "showTitle": false,
     "title": ""
    }
   },
   "source": [
    "# Create or Open a Hybrid Intelligence Workspace\n",
    "Workspaces are used by the Hybrid Intelligence framework to organize your data and models together in one place."
   ]
  },
  {
   "cell_type": "code",
   "execution_count": 6,
   "metadata": {
    "application/vnd.databricks.v1+cell": {
     "cellMetadata": {
      "byteLimit": 2048000,
      "rowLimit": 10000
     },
     "inputWidgets": {},
     "nuid": "5ca97889-a32e-4ca7-bd3e-2d1813baf737",
     "showTitle": false,
     "title": ""
    },
    "execution": {
     "iopub.execute_input": "2023-08-30T14:30:39.086500Z",
     "iopub.status.busy": "2023-08-30T14:30:39.086312Z",
     "iopub.status.idle": "2023-08-30T14:30:44.496545Z",
     "shell.execute_reply": "2023-08-30T14:30:44.495844Z"
    }
   },
   "outputs": [
    {
     "name": "stderr",
     "output_type": "stream",
     "text": [
      "2023-08-30 14:30:39.400236: I tensorflow/tsl/cuda/cudart_stub.cc:28] Could not find cuda drivers on your machine, GPU will not be used.\n",
      "2023-08-30 14:30:39.451715: I tensorflow/tsl/cuda/cudart_stub.cc:28] Could not find cuda drivers on your machine, GPU will not be used.\n",
      "2023-08-30 14:30:39.452705: I tensorflow/core/platform/cpu_feature_guard.cc:182] This TensorFlow binary is optimized to use available CPU instructions in performance-critical operations.\n",
      "To enable the following instructions: AVX2 FMA, in other operations, rebuild TensorFlow with the appropriate compiler flags.\n",
      "2023-08-30 14:30:40.578236: W tensorflow/compiler/tf2tensorrt/utils/py_utils.cc:38] TF-TRT Warning: Could not find TensorRT\n",
      "/tmp/ipykernel_12598/1204024393.py:4: DeprecationWarning: setDaemon() is deprecated, set the daemon attribute instead\n",
      "  ws = Workspace.open(\n"
     ]
    },
    {
     "data": {
      "text/plain": [
       "<umnai.workspaces.context.WorkspaceContext at 0x7f8e1af23c10>"
      ]
     },
     "execution_count": 6,
     "metadata": {},
     "output_type": "execute_result"
    }
   ],
   "source": [
    "from umnai.workspaces.context import Workspace\n",
    "\n",
    "# Open a workspace\n",
    "ws = Workspace.open(\n",
    "    path = WS_PATH,\n",
    "    experiment = EXP_PATH\n",
    ")\n",
    "\n",
    "ws # Prints workspace details to confirm created/opened"
   ]
  },
  {
   "cell_type": "markdown",
   "metadata": {},
   "source": [
    "# Create ModelInducer Config"
   ]
  },
  {
   "cell_type": "code",
   "execution_count": 7,
   "metadata": {
    "execution": {
     "iopub.execute_input": "2023-08-30T14:30:44.501379Z",
     "iopub.status.busy": "2023-08-30T14:30:44.500813Z",
     "iopub.status.idle": "2023-08-30T14:30:44.757281Z",
     "shell.execute_reply": "2023-08-30T14:30:44.756339Z"
    }
   },
   "outputs": [],
   "source": [
    "from umnai.induction.inducer import ModelInducer\n",
    "\n",
    "# Simple model inducer using fast execution parameters\n",
    "model_inducer = ModelInducer(\n",
    "    max_interactions=3,\n",
    "    max_interaction_degree=2,\n",
    "    max_polynomial_degree=2,\n",
    "    trials=2,\n",
    "    estimators=2,\n",
    "    batch_size=512,\n",
    "    iterations=2,\n",
    ")"
   ]
  },
  {
   "cell_type": "markdown",
   "metadata": {},
   "source": [
    "#### You can now use this Model Inducer to induce a Model."
   ]
  },
  {
   "cell_type": "markdown",
   "metadata": {
    "application/vnd.databricks.v1+cell": {
     "cellMetadata": {
      "byteLimit": 2048000,
      "rowLimit": 10000
     },
     "inputWidgets": {},
     "nuid": "a706df99-b33b-428f-a876-769ac19506a4",
     "showTitle": false,
     "title": ""
    }
   },
   "source": [
    "# Save ModelInducer Config"
   ]
  },
  {
   "cell_type": "code",
   "execution_count": 8,
   "metadata": {
    "application/vnd.databricks.v1+cell": {
     "cellMetadata": {
      "byteLimit": 2048000,
      "rowLimit": 10000
     },
     "inputWidgets": {},
     "nuid": "fa5a1d25-bcf9-40f9-bc0b-a1e5ff156905",
     "showTitle": false,
     "title": ""
    },
    "execution": {
     "iopub.execute_input": "2023-08-30T14:30:44.761130Z",
     "iopub.status.busy": "2023-08-30T14:30:44.760842Z",
     "iopub.status.idle": "2023-08-30T14:30:44.765837Z",
     "shell.execute_reply": "2023-08-30T14:30:44.765106Z"
    }
   },
   "outputs": [],
   "source": [
    "# Save ModelInducer config\n",
    "model_inducer.save_config(f'{WS_PATH}/{\"resources/configs/inducer_config.json\"}')"
   ]
  },
  {
   "cell_type": "markdown",
   "metadata": {
    "application/vnd.databricks.v1+cell": {
     "cellMetadata": {
      "byteLimit": 2048000,
      "rowLimit": 10000
     },
     "inputWidgets": {},
     "nuid": "06679c33-e009-4bb8-b4e2-79751d12be96",
     "showTitle": false,
     "title": ""
    }
   },
   "source": [
    "# Reuse the Config in a New Workspace\n",
    "Next we will use the JSON file we just saved to recreate the induction setup in a new workspace."
   ]
  },
  {
   "cell_type": "markdown",
   "metadata": {
    "application/vnd.databricks.v1+cell": {
     "cellMetadata": {
      "byteLimit": 2048000,
      "rowLimit": 10000
     },
     "inputWidgets": {},
     "nuid": "cc357456-e6c2-49f5-955e-109149f53c57",
     "showTitle": false,
     "title": ""
    }
   },
   "source": [
    "# Create a New Hybrid Intelligence Workspace"
   ]
  },
  {
   "cell_type": "code",
   "execution_count": 9,
   "metadata": {
    "application/vnd.databricks.v1+cell": {
     "cellMetadata": {
      "byteLimit": 2048000,
      "rowLimit": 10000
     },
     "inputWidgets": {},
     "nuid": "2ac9eaff-ea26-4a97-9c65-1f135ec00174",
     "showTitle": false,
     "title": ""
    },
    "execution": {
     "iopub.execute_input": "2023-08-30T14:30:44.768665Z",
     "iopub.status.busy": "2023-08-30T14:30:44.768459Z",
     "iopub.status.idle": "2023-08-30T14:30:45.929058Z",
     "shell.execute_reply": "2023-08-30T14:30:45.928338Z"
    }
   },
   "outputs": [
    {
     "data": {
      "text/plain": [
       "<umnai.workspaces.context.WorkspaceContext at 0x7f8e02c29110>"
      ]
     },
     "execution_count": 9,
     "metadata": {},
     "output_type": "execute_result"
    }
   ],
   "source": [
    "# Close the open workspace as you can only have one workspace open at a time\n",
    "ws.close()\n",
    "\n",
    "# On a local machine environment:\n",
    "ws2 = Workspace.open(\n",
    "    path = WS2_PATH,\n",
    "    experiment = EXP2_PATH\n",
    ")\n",
    "\n",
    "ws2 # Prints workspace details to confirm created/opened"
   ]
  },
  {
   "cell_type": "markdown",
   "metadata": {
    "application/vnd.databricks.v1+cell": {
     "cellMetadata": {
      "byteLimit": 2048000,
      "rowLimit": 10000
     },
     "inputWidgets": {},
     "nuid": "1166dec9-93d1-4650-ba62-2eb9dd3eae03",
     "showTitle": false,
     "title": ""
    }
   },
   "source": [
    "# Load ModelInducer Config\n",
    "Load the config from the JSON file saved from another workspace."
   ]
  },
  {
   "cell_type": "code",
   "execution_count": 10,
   "metadata": {
    "application/vnd.databricks.v1+cell": {
     "cellMetadata": {
      "byteLimit": 2048000,
      "rowLimit": 10000
     },
     "inputWidgets": {},
     "nuid": "1c1961af-ba04-45d8-b716-8538d8bfd418",
     "showTitle": false,
     "title": ""
    },
    "execution": {
     "iopub.execute_input": "2023-08-30T14:30:45.932453Z",
     "iopub.status.busy": "2023-08-30T14:30:45.932067Z",
     "iopub.status.idle": "2023-08-30T14:30:45.937425Z",
     "shell.execute_reply": "2023-08-30T14:30:45.936671Z"
    }
   },
   "outputs": [],
   "source": [
    "# Load Model Inducer config from previous workspace\n",
    "model_inducer_replicated = ModelInducer.load_config(file_path=f'{WS_PATH}/{\"resources/configs/inducer_config.json\"}')"
   ]
  },
  {
   "cell_type": "markdown",
   "metadata": {},
   "source": [
    "Check parameters are same as those saved earlier:"
   ]
  },
  {
   "cell_type": "code",
   "execution_count": 11,
   "metadata": {
    "execution": {
     "iopub.execute_input": "2023-08-30T14:30:45.940485Z",
     "iopub.status.busy": "2023-08-30T14:30:45.940251Z",
     "iopub.status.idle": "2023-08-30T14:30:45.947107Z",
     "shell.execute_reply": "2023-08-30T14:30:45.946465Z"
    }
   },
   "outputs": [
    {
     "name": "stdout",
     "output_type": "stream",
     "text": [
      "max_interactions :  3\n",
      "max_interaction_degree :  2\n",
      "max_polynomial_degree :  2\n",
      "trials :  2\n",
      "estimators :  2\n",
      "batch_size :  512\n",
      "iterations :  2\n"
     ]
    }
   ],
   "source": [
    "# Confirm parameters as same:\n",
    "print(\"max_interactions : \", model_inducer_replicated.max_interactions)\n",
    "print(\"max_interaction_degree : \", model_inducer_replicated.max_interaction_degree)\n",
    "print(\"max_polynomial_degree : \", model_inducer_replicated.max_polynomial_degree)\n",
    "print(\"trials : \", model_inducer_replicated.trials)\n",
    "print(\"estimators : \", model_inducer_replicated.estimators)\n",
    "print(\"batch_size : \", model_inducer_replicated.batch_size)\n",
    "print(\"iterations : \", model_inducer_replicated.iterations)"
   ]
  },
  {
   "cell_type": "markdown",
   "metadata": {
    "application/vnd.databricks.v1+cell": {
     "cellMetadata": {
      "byteLimit": 2048000,
      "rowLimit": 10000
     },
     "inputWidgets": {},
     "nuid": "8537c1eb-0958-4a63-a6f3-7e79acd9a93e",
     "showTitle": false,
     "title": ""
    }
   },
   "source": [
    "#### You can now use the replicated model inducer to induce a model."
   ]
  }
 ],
 "metadata": {
  "application/vnd.databricks.v1+notebook": {
   "dashboards": [],
   "language": "python",
   "notebookMetadata": {
    "pythonIndentUnit": 4
   },
   "notebookName": "Save-Load-Configs",
   "widgets": {}
  },
  "kernelspec": {
   "display_name": "Python 3 (ipykernel)",
   "language": "python",
   "name": "python3"
  },
  "language_info": {
   "codemirror_mode": {
    "name": "ipython",
    "version": 3
   },
   "file_extension": ".py",
   "mimetype": "text/x-python",
   "name": "python",
   "nbconvert_exporter": "python",
   "pygments_lexer": "ipython3",
   "version": "3.11.5"
  }
 },
 "nbformat": 4,
 "nbformat_minor": 1
}
