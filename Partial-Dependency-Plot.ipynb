{
 "cells": [
  {
   "cell_type": "markdown",
   "metadata": {
    "application/vnd.databricks.v1+cell": {
     "cellMetadata": {
      "byteLimit": 2048000,
      "rowLimit": 10000
     },
     "inputWidgets": {},
     "nuid": "3fc1a248-e01e-499e-b3e7-057e09bac6e1",
     "showTitle": false,
     "title": ""
    }
   },
   "source": [
    "# Partial Dependency Plot Examples Notebook\n",
    "\n",
    "The partial dependency plot is useful to understand how a model behaves and to gain insights into how the different features and feature interactions affect predictions. Each plot shows the exact transfer function of a module i.e. the attributions from the module vs the input feature values.\n",
    "\n",
    "In this example, we will show partial dependency plots for various modules with different numbers and types of input features."
   ]
  },
  {
   "cell_type": "markdown",
   "metadata": {
    "application/vnd.databricks.v1+cell": {
     "cellMetadata": {
      "byteLimit": 2048000,
      "rowLimit": 10000
     },
     "inputWidgets": {},
     "nuid": "cfcbaf98-b742-45f0-8471-ad3625783fab",
     "showTitle": false,
     "title": ""
    }
   },
   "source": [
    "# Check Environment Variables\n",
    "Before installing Hybrid Intelligence in the notebook you need to set these Environment Variables externally as described in the User Guide https://docs.umnai.com/set-up-your-environment. \n",
    "This section checks that the environment variables have been set correctly and throws an error if not."
   ]
  },
  {
   "cell_type": "code",
   "execution_count": 1,
   "metadata": {
    "application/vnd.databricks.v1+cell": {
     "cellMetadata": {
      "byteLimit": 2048000,
      "rowLimit": 10000
     },
     "inputWidgets": {},
     "nuid": "0c53f098-51a9-4b81-b5ec-0ebdb2e3e4b8",
     "showTitle": false,
     "title": ""
    },
    "execution": {
     "iopub.execute_input": "2023-08-30T14:33:09.980198Z",
     "iopub.status.busy": "2023-08-30T14:33:09.979995Z",
     "iopub.status.idle": "2023-08-30T14:33:09.987703Z",
     "shell.execute_reply": "2023-08-30T14:33:09.987075Z"
    }
   },
   "outputs": [],
   "source": [
    "import os\n",
    "\n",
    "umnai_env_vars = {\n",
    "    'UMNAI_CLIENT_ID',\n",
    "    'UMNAI_CLIENT_SECRET',\n",
    "    'PIP_EXTRA_INDEX_URL',\n",
    "}\n",
    "\n",
    "if not umnai_env_vars.issubset(os.environ.keys()):\n",
    "    raise ValueError(\n",
    "        'UMNAI environment variables not set correctly. They need to be set before using the Umnai library.'\n",
    "    )"
   ]
  },
  {
   "cell_type": "markdown",
   "metadata": {
    "application/vnd.databricks.v1+cell": {
     "cellMetadata": {
      "byteLimit": 2048000,
      "rowLimit": 10000
     },
     "inputWidgets": {},
     "nuid": "cb55b605-883d-437a-af41-a39471925b5a",
     "showTitle": false,
     "title": ""
    }
   },
   "source": [
    "# Install Hybrid Intelligence\n",
    "Next we install the UMNAI Platform."
   ]
  },
  {
   "cell_type": "code",
   "execution_count": 2,
   "metadata": {
    "application/vnd.databricks.v1+cell": {
     "cellMetadata": {
      "byteLimit": 2048000,
      "rowLimit": 10000
     },
     "inputWidgets": {},
     "nuid": "c385856f-53b3-4526-934d-afdc919cb32f",
     "showTitle": false,
     "title": ""
    },
    "execution": {
     "iopub.execute_input": "2023-08-30T14:33:09.990570Z",
     "iopub.status.busy": "2023-08-30T14:33:09.990368Z",
     "iopub.status.idle": "2023-08-30T14:33:15.048628Z",
     "shell.execute_reply": "2023-08-30T14:33:15.047814Z"
    }
   },
   "outputs": [
    {
     "name": "stdout",
     "output_type": "stream",
     "text": [
      "\u001b[33mWARNING: Running pip as the 'root' user can result in broken permissions and conflicting behaviour with the system package manager. It is recommended to use a virtual environment instead: https://pip.pypa.io/warnings/venv\u001b[0m\u001b[33m\r\n",
      "\u001b[0mNote: you may need to restart the kernel to use updated packages.\n"
     ]
    }
   ],
   "source": [
    "%pip install umnai-platform --quiet"
   ]
  },
  {
   "cell_type": "markdown",
   "metadata": {
    "application/vnd.databricks.v1+cell": {
     "cellMetadata": {
      "byteLimit": 2048000,
      "rowLimit": 10000
     },
     "inputWidgets": {},
     "nuid": "d3ec785a-3ee3-4627-a8c9-efb0e860e2b1",
     "showTitle": false,
     "title": ""
    }
   },
   "source": [
    "# Set Workspace Paths According to Your Environment\n",
    "Now we will set the workspace path and the experiment path automatically. They will be set to a local path if you are using a local machine environment or to a Databricks path if you are using a Databricks environment."
   ]
  },
  {
   "cell_type": "markdown",
   "metadata": {
    "application/vnd.databricks.v1+cell": {
     "cellMetadata": {
      "byteLimit": 2048000,
      "rowLimit": 10000
     },
     "inputWidgets": {},
     "nuid": "9073992d-be13-43d6-911a-ba13ecfd7657",
     "showTitle": false,
     "title": ""
    }
   },
   "source": [
    "## Install Databricks SDK\n",
    "\n",
    "This checks if you are running on Databricks and installs their SDK if you are."
   ]
  },
  {
   "cell_type": "code",
   "execution_count": 3,
   "metadata": {
    "application/vnd.databricks.v1+cell": {
     "cellMetadata": {
      "byteLimit": 2048000,
      "rowLimit": 10000
     },
     "inputWidgets": {},
     "nuid": "825be3fe-cefd-4685-a597-7f44d1c8c0bf",
     "showTitle": false,
     "title": ""
    },
    "execution": {
     "iopub.execute_input": "2023-08-30T14:33:15.051923Z",
     "iopub.status.busy": "2023-08-30T14:33:15.051702Z",
     "iopub.status.idle": "2023-08-30T14:33:15.055848Z",
     "shell.execute_reply": "2023-08-30T14:33:15.055052Z"
    }
   },
   "outputs": [],
   "source": [
    "import os\n",
    "if os.environ.get('DATABRICKS_RUNTIME_VERSION') is not None:\n",
    "    %pip install databricks-sdk --quiet"
   ]
  },
  {
   "cell_type": "markdown",
   "metadata": {
    "application/vnd.databricks.v1+cell": {
     "cellMetadata": {
      "byteLimit": 2048000,
      "rowLimit": 10000
     },
     "inputWidgets": {},
     "nuid": "5862a0ee-060f-4b37-b053-6ffac7feb4e4",
     "showTitle": false,
     "title": ""
    }
   },
   "source": [
    "If you are on Databricks, you can select whether you would like the workspace to be created in the shared area (available to all users in your account) or in your personal user account area. You can ignore this if you are running on a local environment."
   ]
  },
  {
   "cell_type": "code",
   "execution_count": 4,
   "metadata": {
    "application/vnd.databricks.v1+cell": {
     "cellMetadata": {
      "byteLimit": 2048000,
      "rowLimit": 10000
     },
     "inputWidgets": {},
     "nuid": "fad26a01-b3da-42d7-b8f4-0ba731a20b02",
     "showTitle": false,
     "title": ""
    },
    "execution": {
     "iopub.execute_input": "2023-08-30T14:33:15.059141Z",
     "iopub.status.busy": "2023-08-30T14:33:15.058727Z",
     "iopub.status.idle": "2023-08-30T14:33:15.062059Z",
     "shell.execute_reply": "2023-08-30T14:33:15.061195Z"
    }
   },
   "outputs": [],
   "source": [
    "# Set to 1 if you want to use shared or 0 to use personal user account area.\n",
    "USE_SHARED_WORKSPACE = 1 "
   ]
  },
  {
   "cell_type": "markdown",
   "metadata": {
    "application/vnd.databricks.v1+cell": {
     "cellMetadata": {
      "byteLimit": 2048000,
      "rowLimit": 10000
     },
     "inputWidgets": {},
     "nuid": "800d0bdd-9757-415f-9581-b23b0ac26802",
     "showTitle": false,
     "title": ""
    }
   },
   "source": [
    "## Set Paths\n",
    "Next the workspace and experiment paths are set automatically."
   ]
  },
  {
   "cell_type": "code",
   "execution_count": 5,
   "metadata": {
    "application/vnd.databricks.v1+cell": {
     "cellMetadata": {
      "byteLimit": 2048000,
      "rowLimit": 10000
     },
     "inputWidgets": {},
     "nuid": "2ac37228-4f58-453e-9058-0a4038f07d83",
     "showTitle": false,
     "title": ""
    },
    "execution": {
     "iopub.execute_input": "2023-08-30T14:33:15.065179Z",
     "iopub.status.busy": "2023-08-30T14:33:15.064657Z",
     "iopub.status.idle": "2023-08-30T14:33:15.069445Z",
     "shell.execute_reply": "2023-08-30T14:33:15.068815Z"
    }
   },
   "outputs": [],
   "source": [
    "import os\n",
    "\n",
    "EXP_NAME = 'pdplot_adult_income'\n",
    "if os.environ.get('DATABRICKS_RUNTIME_VERSION') is not None:\n",
    "    from databricks.sdk import WorkspaceClient\n",
    "    w = WorkspaceClient()\n",
    "\n",
    "    # # For a Databricks Environment\n",
    "    WS_PATH = '/dbfs/FileStore/workspaces/'+EXP_NAME\n",
    "    if USE_SHARED_WORKSPACE:\n",
    "        EXP_PREFIX = f'/Shared/experiments/'\n",
    "    else:\n",
    "        USERNAME = dbutils.notebook.entry_point.getDbutils().notebook().getContext().userName().get()\n",
    "        EXP_PREFIX = f'/Users/{USERNAME}/experiments/'\n",
    "    w.workspace.mkdirs(EXP_PREFIX)\n",
    "    EXP_PATH = EXP_PREFIX + EXP_NAME\n",
    "else:\n",
    "    # For a Local Machine Environment\n",
    "    WS_PATH = 'resources/workspaces/'+EXP_NAME\n",
    "    EXP_PATH = EXP_NAME"
   ]
  },
  {
   "cell_type": "markdown",
   "metadata": {
    "application/vnd.databricks.v1+cell": {
     "cellMetadata": {
      "byteLimit": 2048000,
      "rowLimit": 10000
     },
     "inputWidgets": {},
     "nuid": "0ca9910c-dab3-45bd-87f1-4637e311536d",
     "showTitle": false,
     "title": ""
    }
   },
   "source": [
    "# Import and Prepare Dataset\n",
    "Import the dataset to a Pandas DataFrame and the clean data in preparation for onboarding into Hybrid Intelligence."
   ]
  },
  {
   "cell_type": "code",
   "execution_count": 6,
   "metadata": {
    "application/vnd.databricks.v1+cell": {
     "cellMetadata": {
      "byteLimit": 2048000,
      "rowLimit": 10000
     },
     "inputWidgets": {},
     "nuid": "068d8488-b888-4520-97c2-aabe0fdcda38",
     "showTitle": false,
     "title": ""
    },
    "execution": {
     "iopub.execute_input": "2023-08-30T14:33:15.072280Z",
     "iopub.status.busy": "2023-08-30T14:33:15.071839Z",
     "iopub.status.idle": "2023-08-30T14:33:15.713114Z",
     "shell.execute_reply": "2023-08-30T14:33:15.712417Z"
    }
   },
   "outputs": [
    {
     "data": {
      "text/html": [
       "<div>\n",
       "<style scoped>\n",
       "    .dataframe tbody tr th:only-of-type {\n",
       "        vertical-align: middle;\n",
       "    }\n",
       "\n",
       "    .dataframe tbody tr th {\n",
       "        vertical-align: top;\n",
       "    }\n",
       "\n",
       "    .dataframe thead th {\n",
       "        text-align: right;\n",
       "    }\n",
       "</style>\n",
       "<table border=\"1\" class=\"dataframe\">\n",
       "  <thead>\n",
       "    <tr style=\"text-align: right;\">\n",
       "      <th></th>\n",
       "      <th>Age</th>\n",
       "      <th>WorkClass</th>\n",
       "      <th>fnlwgt</th>\n",
       "      <th>Education</th>\n",
       "      <th>EducationNum</th>\n",
       "      <th>MaritalStatus</th>\n",
       "      <th>Occupation</th>\n",
       "      <th>Relationship</th>\n",
       "      <th>Race</th>\n",
       "      <th>Gender</th>\n",
       "      <th>CapitalGain</th>\n",
       "      <th>CapitalLoss</th>\n",
       "      <th>HoursPerWeek</th>\n",
       "      <th>NativeCountry</th>\n",
       "      <th>Income</th>\n",
       "    </tr>\n",
       "  </thead>\n",
       "  <tbody>\n",
       "    <tr>\n",
       "      <th>32556</th>\n",
       "      <td>27</td>\n",
       "      <td>Private</td>\n",
       "      <td>257302</td>\n",
       "      <td>Assoc-acdm</td>\n",
       "      <td>12</td>\n",
       "      <td>Married-civ-spouse</td>\n",
       "      <td>Tech-support</td>\n",
       "      <td>Wife</td>\n",
       "      <td>White</td>\n",
       "      <td>Female</td>\n",
       "      <td>0</td>\n",
       "      <td>0</td>\n",
       "      <td>38</td>\n",
       "      <td>United-States</td>\n",
       "      <td>0</td>\n",
       "    </tr>\n",
       "    <tr>\n",
       "      <th>32557</th>\n",
       "      <td>40</td>\n",
       "      <td>Private</td>\n",
       "      <td>154374</td>\n",
       "      <td>HS-grad</td>\n",
       "      <td>9</td>\n",
       "      <td>Married-civ-spouse</td>\n",
       "      <td>Machine-op-inspct</td>\n",
       "      <td>Husband</td>\n",
       "      <td>White</td>\n",
       "      <td>Male</td>\n",
       "      <td>0</td>\n",
       "      <td>0</td>\n",
       "      <td>40</td>\n",
       "      <td>United-States</td>\n",
       "      <td>1</td>\n",
       "    </tr>\n",
       "    <tr>\n",
       "      <th>32558</th>\n",
       "      <td>58</td>\n",
       "      <td>Private</td>\n",
       "      <td>151910</td>\n",
       "      <td>HS-grad</td>\n",
       "      <td>9</td>\n",
       "      <td>Widowed</td>\n",
       "      <td>Adm-clerical</td>\n",
       "      <td>Unmarried</td>\n",
       "      <td>White</td>\n",
       "      <td>Female</td>\n",
       "      <td>0</td>\n",
       "      <td>0</td>\n",
       "      <td>40</td>\n",
       "      <td>United-States</td>\n",
       "      <td>0</td>\n",
       "    </tr>\n",
       "    <tr>\n",
       "      <th>32559</th>\n",
       "      <td>22</td>\n",
       "      <td>Private</td>\n",
       "      <td>201490</td>\n",
       "      <td>HS-grad</td>\n",
       "      <td>9</td>\n",
       "      <td>Never-married</td>\n",
       "      <td>Adm-clerical</td>\n",
       "      <td>Own-child</td>\n",
       "      <td>White</td>\n",
       "      <td>Male</td>\n",
       "      <td>0</td>\n",
       "      <td>0</td>\n",
       "      <td>20</td>\n",
       "      <td>United-States</td>\n",
       "      <td>0</td>\n",
       "    </tr>\n",
       "    <tr>\n",
       "      <th>32560</th>\n",
       "      <td>52</td>\n",
       "      <td>Self-emp-inc</td>\n",
       "      <td>287927</td>\n",
       "      <td>HS-grad</td>\n",
       "      <td>9</td>\n",
       "      <td>Married-civ-spouse</td>\n",
       "      <td>Exec-managerial</td>\n",
       "      <td>Wife</td>\n",
       "      <td>White</td>\n",
       "      <td>Female</td>\n",
       "      <td>15024</td>\n",
       "      <td>0</td>\n",
       "      <td>40</td>\n",
       "      <td>United-States</td>\n",
       "      <td>1</td>\n",
       "    </tr>\n",
       "  </tbody>\n",
       "</table>\n",
       "</div>"
      ],
      "text/plain": [
       "       Age     WorkClass  fnlwgt   Education  EducationNum  \\\n",
       "32556   27       Private  257302  Assoc-acdm            12   \n",
       "32557   40       Private  154374     HS-grad             9   \n",
       "32558   58       Private  151910     HS-grad             9   \n",
       "32559   22       Private  201490     HS-grad             9   \n",
       "32560   52  Self-emp-inc  287927     HS-grad             9   \n",
       "\n",
       "            MaritalStatus         Occupation Relationship   Race  Gender  \\\n",
       "32556  Married-civ-spouse       Tech-support         Wife  White  Female   \n",
       "32557  Married-civ-spouse  Machine-op-inspct      Husband  White    Male   \n",
       "32558             Widowed       Adm-clerical    Unmarried  White  Female   \n",
       "32559       Never-married       Adm-clerical    Own-child  White    Male   \n",
       "32560  Married-civ-spouse    Exec-managerial         Wife  White  Female   \n",
       "\n",
       "       CapitalGain  CapitalLoss  HoursPerWeek  NativeCountry  Income  \n",
       "32556            0            0            38  United-States       0  \n",
       "32557            0            0            40  United-States       1  \n",
       "32558            0            0            40  United-States       0  \n",
       "32559            0            0            20  United-States       0  \n",
       "32560        15024            0            40  United-States       1  "
      ]
     },
     "execution_count": 6,
     "metadata": {},
     "output_type": "execute_result"
    }
   ],
   "source": [
    "import pandas as pd\n",
    "import numpy as np\n",
    "\n",
    "# Import Adult Income Dataset to pandas dataframe: \n",
    "# This dataset can be downloaded from https://archive.ics.uci.edu/dataset/2/adult \n",
    "column_names = [\"Age\", \"WorkClass\", \"fnlwgt\", \"Education\", \"EducationNum\", \"MaritalStatus\", \"Occupation\", \"Relationship\", \"Race\", \"Gender\", \"CapitalGain\", \"CapitalLoss\", \"HoursPerWeek\", \"NativeCountry\", \"Income\"]\n",
    "dataset_df = pd.read_csv('https://raw.githubusercontent.com/umnaibase/umnai-examples/main/data/adult.data', names = column_names)\n",
    "\n",
    "# Data Preparation:\n",
    "dataset_df = dataset_df.apply(lambda x: x.str.strip() if x.dtype == 'object' else x)    # Remove whitespaces\n",
    "dataset_df[\"Income\"] = np.where((dataset_df[\"Income\"] == '<=50K'), 0, 1)                # Replace Target values with [0,1]\n",
    "dataset_df.tail(5)"
   ]
  },
  {
   "cell_type": "markdown",
   "metadata": {
    "application/vnd.databricks.v1+cell": {
     "cellMetadata": {
      "byteLimit": 2048000,
      "rowLimit": 10000
     },
     "inputWidgets": {},
     "nuid": "2df30742-24b9-4150-bb90-327ed10ea04f",
     "showTitle": false,
     "title": ""
    }
   },
   "source": [
    "# Create or Open a Hybrid Intelligence Workspace\n",
    "Workspaces are used by the Hybrid Intelligence framework to organize your data and models together in one place."
   ]
  },
  {
   "cell_type": "code",
   "execution_count": 7,
   "metadata": {
    "application/vnd.databricks.v1+cell": {
     "cellMetadata": {
      "byteLimit": 2048000,
      "rowLimit": 10000
     },
     "inputWidgets": {},
     "nuid": "3617aea0-f354-4f04-b1b1-c0bb17f8646b",
     "showTitle": false,
     "title": ""
    },
    "execution": {
     "iopub.execute_input": "2023-08-30T14:33:15.716607Z",
     "iopub.status.busy": "2023-08-30T14:33:15.716387Z",
     "iopub.status.idle": "2023-08-30T14:33:20.641695Z",
     "shell.execute_reply": "2023-08-30T14:33:20.640998Z"
    }
   },
   "outputs": [
    {
     "name": "stderr",
     "output_type": "stream",
     "text": [
      "2023-08-30 14:33:16.038100: I tensorflow/tsl/cuda/cudart_stub.cc:28] Could not find cuda drivers on your machine, GPU will not be used.\n",
      "2023-08-30 14:33:16.070687: I tensorflow/tsl/cuda/cudart_stub.cc:28] Could not find cuda drivers on your machine, GPU will not be used.\n",
      "2023-08-30 14:33:16.071696: I tensorflow/core/platform/cpu_feature_guard.cc:182] This TensorFlow binary is optimized to use available CPU instructions in performance-critical operations.\n",
      "To enable the following instructions: AVX2 FMA, in other operations, rebuild TensorFlow with the appropriate compiler flags.\n",
      "2023-08-30 14:33:17.115185: W tensorflow/compiler/tf2tensorrt/utils/py_utils.cc:38] TF-TRT Warning: Could not find TensorRT\n",
      "/tmp/ipykernel_13504/1204024393.py:4: DeprecationWarning: setDaemon() is deprecated, set the daemon attribute instead\n",
      "  ws = Workspace.open(\n"
     ]
    },
    {
     "data": {
      "text/plain": [
       "<umnai.workspaces.context.WorkspaceContext at 0x7f47a704f610>"
      ]
     },
     "execution_count": 7,
     "metadata": {},
     "output_type": "execute_result"
    }
   ],
   "source": [
    "from umnai.workspaces.context import Workspace\n",
    "\n",
    "# Open a workspace\n",
    "ws = Workspace.open(\n",
    "    path = WS_PATH,\n",
    "    experiment = EXP_PATH\n",
    ")\n",
    "\n",
    "ws # Prints workspace details to confirm created/opened"
   ]
  },
  {
   "cell_type": "markdown",
   "metadata": {
    "application/vnd.databricks.v1+cell": {
     "cellMetadata": {
      "byteLimit": 2048000,
      "rowLimit": 10000
     },
     "inputWidgets": {},
     "nuid": "9ac93e6e-4b8d-49c9-acc1-6ad5421b1c0e",
     "showTitle": false,
     "title": ""
    }
   },
   "source": [
    "# Onboard Hybrid Intelligence Dataset\n",
    "\n",
    "Onboard the Pandas DataFrame into a Hybrid Intelligence dataset."
   ]
  },
  {
   "cell_type": "code",
   "execution_count": 8,
   "metadata": {
    "application/vnd.databricks.v1+cell": {
     "cellMetadata": {
      "byteLimit": 2048000,
      "rowLimit": 10000
     },
     "inputWidgets": {},
     "nuid": "91f8adb2-8673-4553-bcf1-d93f08a05497",
     "showTitle": false,
     "title": ""
    },
    "execution": {
     "iopub.execute_input": "2023-08-30T14:33:20.645430Z",
     "iopub.status.busy": "2023-08-30T14:33:20.644679Z",
     "iopub.status.idle": "2023-08-30T14:34:40.519601Z",
     "shell.execute_reply": "2023-08-30T14:34:40.518796Z"
    }
   },
   "outputs": [
    {
     "name": "stderr",
     "output_type": "stream",
     "text": [
      "Setting default log level to \"WARN\".\n",
      "To adjust logging level use sc.setLogLevel(newLevel). For SparkR, use setLogLevel(newLevel).\n",
      "23/08/30 14:33:22 WARN NativeCodeLoader: Unable to load native-hadoop library for your platform... using builtin-java classes where applicable\n"
     ]
    },
    {
     "data": {
      "application/vnd.jupyter.widget-view+json": {
       "model_id": "e68f5397ce124233b871c041bdffbadd",
       "version_major": 2,
       "version_minor": 0
      },
      "text/plain": [
       "[ObservationSpec] - MLFLOW Run ID: e29260f4792a4f44858628c6225b9b81:   0%|          | 0/60 [00:00<?, ?it/s]"
      ]
     },
     "metadata": {},
     "output_type": "display_data"
    },
    {
     "name": "stderr",
     "output_type": "stream",
     "text": [
      "23/08/30 14:34:10 WARN package: Truncated the string representation of a plan since it was too large. This behavior can be adjusted by setting 'spark.sql.debug.maxToStringFields'.\n"
     ]
    },
    {
     "name": "stdout",
     "output_type": "stream",
     "text": [
      "WARNING:tensorflow:AutoGraph could not transform <bound method OneHotEncoder.call of <umnai.operations.functions.one_hot_encoding.OneHotEncoder object at 0x7f47850ec450>> and will run it as-is.\n",
      "Please report this to the TensorFlow team. When filing the bug, set the verbosity to 10 (on Linux, `export AUTOGRAPH_VERBOSITY=10`) and attach the full output.\n",
      "Cause: module, class, method, function, traceback, frame, or code object was expected, got cython_function_or_method\n",
      "To silence this warning, decorate the function with @tf.autograph.experimental.do_not_convert\n",
      "WARNING:tensorflow:AutoGraph could not transform <bound method StringIndex.call of <umnai.operations.functions.string_lookup.StringIndex object at 0x7f4784fdf310>> and will run it as-is.\n",
      "Please report this to the TensorFlow team. When filing the bug, set the verbosity to 10 (on Linux, `export AUTOGRAPH_VERBOSITY=10`) and attach the full output.\n",
      "Cause: module, class, method, function, traceback, frame, or code object was expected, got cython_function_or_method\n",
      "To silence this warning, decorate the function with @tf.autograph.experimental.do_not_convert\n",
      "WARNING:tensorflow:Compiled the loaded model, but the compiled metrics have yet to be built. `model.compile_metrics` will be empty until you train or evaluate the model.\n"
     ]
    },
    {
     "name": "stderr",
     "output_type": "stream",
     "text": [
      "2023-08-30 14:34:34.561436: I tensorflow/core/common_runtime/executor.cc:1197] [/device:CPU:0] (DEBUG INFO) Executor start aborting (this does not indicate an error and you can ignore this message): INVALID_ARGUMENT: You must feed a value for placeholder tensor 'fnlwgt' with dtype int64 and shape [?,1]\n",
      "\t [[{{node fnlwgt}}]]\n",
      "2023-08-30 14:34:34.714985: I tensorflow/core/common_runtime/executor.cc:1197] [/device:CPU:0] (DEBUG INFO) Executor start aborting (this does not indicate an error and you can ignore this message): INVALID_ARGUMENT: You must feed a value for placeholder tensor 'HoursPerWeek' with dtype int64 and shape [?,1]\n",
      "\t [[{{node HoursPerWeek}}]]\n",
      "2023-08-30 14:34:34.751660: I tensorflow/core/common_runtime/executor.cc:1197] [/device:CPU:0] (DEBUG INFO) Executor start aborting (this does not indicate an error and you can ignore this message): INVALID_ARGUMENT: You must feed a value for placeholder tensor 'EducationNum' with dtype int64 and shape [?,1]\n",
      "\t [[{{node EducationNum}}]]\n",
      "2023-08-30 14:34:34.791087: I tensorflow/core/common_runtime/executor.cc:1197] [/device:CPU:0] (DEBUG INFO) Executor start aborting (this does not indicate an error and you can ignore this message): INVALID_ARGUMENT: You must feed a value for placeholder tensor 'CapitalLoss' with dtype int64 and shape [?,1]\n",
      "\t [[{{node CapitalLoss}}]]\n",
      "2023-08-30 14:34:34.806662: I tensorflow/core/common_runtime/executor.cc:1197] [/device:CPU:0] (DEBUG INFO) Executor start aborting (this does not indicate an error and you can ignore this message): INVALID_ARGUMENT: You must feed a value for placeholder tensor 'CapitalGain' with dtype int64 and shape [?,1]\n",
      "\t [[{{node CapitalGain}}]]\n",
      "2023-08-30 14:34:34.821555: I tensorflow/core/common_runtime/executor.cc:1197] [/device:CPU:0] (DEBUG INFO) Executor start aborting (this does not indicate an error and you can ignore this message): INVALID_ARGUMENT: You must feed a value for placeholder tensor 'Age' with dtype int64 and shape [?,1]\n",
      "\t [[{{node Age}}]]\n",
      "2023-08-30 14:34:34.865018: I tensorflow/core/common_runtime/executor.cc:1197] [/device:CPU:0] (DEBUG INFO) Executor start aborting (this does not indicate an error and you can ignore this message): INVALID_ARGUMENT: You must feed a value for placeholder tensor 'fnlwgt' with dtype int64 and shape [?,1]\n",
      "\t [[{{node fnlwgt}}]]\n",
      "2023-08-30 14:34:35.006397: I tensorflow/core/common_runtime/executor.cc:1197] [/device:CPU:0] (DEBUG INFO) Executor start aborting (this does not indicate an error and you can ignore this message): INVALID_ARGUMENT: You must feed a value for placeholder tensor 'HoursPerWeek' with dtype int64 and shape [?,1]\n",
      "\t [[{{node HoursPerWeek}}]]\n",
      "2023-08-30 14:34:35.037080: I tensorflow/core/common_runtime/executor.cc:1197] [/device:CPU:0] (DEBUG INFO) Executor start aborting (this does not indicate an error and you can ignore this message): INVALID_ARGUMENT: You must feed a value for placeholder tensor 'EducationNum' with dtype int64 and shape [?,1]\n",
      "\t [[{{node EducationNum}}]]\n",
      "2023-08-30 14:34:35.063466: I tensorflow/core/common_runtime/executor.cc:1197] [/device:CPU:0] (DEBUG INFO) Executor start aborting (this does not indicate an error and you can ignore this message): INVALID_ARGUMENT: You must feed a value for placeholder tensor 'CapitalLoss' with dtype int64 and shape [?,1]\n",
      "\t [[{{node CapitalLoss}}]]\n",
      "2023-08-30 14:34:35.065264: I tensorflow/core/common_runtime/executor.cc:1197] [/device:CPU:0] (DEBUG INFO) Executor start aborting (this does not indicate an error and you can ignore this message): INVALID_ARGUMENT: You must feed a value for placeholder tensor 'CapitalGain' with dtype int64 and shape [?,1]\n",
      "\t [[{{node CapitalGain}}]]\n",
      "2023-08-30 14:34:35.067090: I tensorflow/core/common_runtime/executor.cc:1197] [/device:CPU:0] (DEBUG INFO) Executor start aborting (this does not indicate an error and you can ignore this message): INVALID_ARGUMENT: You must feed a value for placeholder tensor 'Age' with dtype int64 and shape [?,1]\n",
      "\t [[{{node Age}}]]\n",
      "2023-08-30 14:34:35.131978: I tensorflow/core/common_runtime/executor.cc:1197] [/device:CPU:0] (DEBUG INFO) Executor start aborting (this does not indicate an error and you can ignore this message): INVALID_ARGUMENT: You must feed a value for placeholder tensor 'inputs_2' with dtype int64 and shape [?,1]\n",
      "\t [[{{node inputs_2}}]]\n",
      "2023-08-30 14:34:35.163053: I tensorflow/core/common_runtime/executor.cc:1197] [/device:CPU:0] (DEBUG INFO) Executor start aborting (this does not indicate an error and you can ignore this message): INVALID_ARGUMENT: You must feed a value for placeholder tensor 'inputs_12' with dtype int64 and shape [?,1]\n",
      "\t [[{{node inputs_12}}]]\n",
      "2023-08-30 14:34:35.167893: I tensorflow/core/common_runtime/executor.cc:1197] [/device:CPU:0] (DEBUG INFO) Executor start aborting (this does not indicate an error and you can ignore this message): INVALID_ARGUMENT: You must feed a value for placeholder tensor 'inputs_4' with dtype int64 and shape [?,1]\n",
      "\t [[{{node inputs_4}}]]\n",
      "2023-08-30 14:34:35.172944: I tensorflow/core/common_runtime/executor.cc:1197] [/device:CPU:0] (DEBUG INFO) Executor start aborting (this does not indicate an error and you can ignore this message): INVALID_ARGUMENT: You must feed a value for placeholder tensor 'inputs_11' with dtype int64 and shape [?,1]\n",
      "\t [[{{node inputs_11}}]]\n",
      "2023-08-30 14:34:35.174890: I tensorflow/core/common_runtime/executor.cc:1197] [/device:CPU:0] (DEBUG INFO) Executor start aborting (this does not indicate an error and you can ignore this message): INVALID_ARGUMENT: You must feed a value for placeholder tensor 'inputs_10' with dtype int64 and shape [?,1]\n",
      "\t [[{{node inputs_10}}]]\n",
      "2023-08-30 14:34:35.176823: I tensorflow/core/common_runtime/executor.cc:1197] [/device:CPU:0] (DEBUG INFO) Executor start aborting (this does not indicate an error and you can ignore this message): INVALID_ARGUMENT: You must feed a value for placeholder tensor 'inputs' with dtype int64 and shape [?,1]\n",
      "\t [[{{node inputs}}]]\n",
      "2023-08-30 14:34:35.242128: I tensorflow/core/common_runtime/executor.cc:1197] [/device:CPU:0] (DEBUG INFO) Executor start aborting (this does not indicate an error and you can ignore this message): INVALID_ARGUMENT: You must feed a value for placeholder tensor 'Age' with dtype int64 and shape [?,1]\n",
      "\t [[{{node Age}}]]\n",
      "2023-08-30 14:34:35.242282: I tensorflow/core/common_runtime/executor.cc:1197] [/device:CPU:0] (DEBUG INFO) Executor start aborting (this does not indicate an error and you can ignore this message): INVALID_ARGUMENT: You must feed a value for placeholder tensor 'CapitalGain' with dtype int64 and shape [?,1]\n",
      "\t [[{{node CapitalGain}}]]\n",
      "2023-08-30 14:34:35.242384: I tensorflow/core/common_runtime/executor.cc:1197] [/device:CPU:0] (DEBUG INFO) Executor start aborting (this does not indicate an error and you can ignore this message): INVALID_ARGUMENT: You must feed a value for placeholder tensor 'CapitalLoss' with dtype int64 and shape [?,1]\n",
      "\t [[{{node CapitalLoss}}]]\n",
      "2023-08-30 14:34:35.242492: I tensorflow/core/common_runtime/executor.cc:1197] [/device:CPU:0] (DEBUG INFO) Executor start aborting (this does not indicate an error and you can ignore this message): INVALID_ARGUMENT: You must feed a value for placeholder tensor 'EducationNum' with dtype int64 and shape [?,1]\n",
      "\t [[{{node EducationNum}}]]\n",
      "2023-08-30 14:34:35.242603: I tensorflow/core/common_runtime/executor.cc:1197] [/device:CPU:0] (DEBUG INFO) Executor start aborting (this does not indicate an error and you can ignore this message): INVALID_ARGUMENT: You must feed a value for placeholder tensor 'HoursPerWeek' with dtype int64 and shape [?,1]\n",
      "\t [[{{node HoursPerWeek}}]]\n",
      "2023-08-30 14:34:35.242730: I tensorflow/core/common_runtime/executor.cc:1197] [/device:CPU:0] (DEBUG INFO) Executor start aborting (this does not indicate an error and you can ignore this message): INVALID_ARGUMENT: You must feed a value for placeholder tensor 'fnlwgt' with dtype int64 and shape [?,1]\n",
      "\t [[{{node fnlwgt}}]]\n",
      "2023-08-30 14:34:35.280961: I tensorflow/core/common_runtime/executor.cc:1197] [/device:CPU:0] (DEBUG INFO) Executor start aborting (this does not indicate an error and you can ignore this message): INVALID_ARGUMENT: You must feed a value for placeholder tensor 'inputs_2' with dtype int64 and shape [?,1]\n",
      "\t [[{{node inputs_2}}]]\n",
      "2023-08-30 14:34:35.308480: I tensorflow/core/common_runtime/executor.cc:1197] [/device:CPU:0] (DEBUG INFO) Executor start aborting (this does not indicate an error and you can ignore this message): INVALID_ARGUMENT: You must feed a value for placeholder tensor 'inputs_12' with dtype int64 and shape [?,1]\n",
      "\t [[{{node inputs_12}}]]\n",
      "2023-08-30 14:34:35.314332: I tensorflow/core/common_runtime/executor.cc:1197] [/device:CPU:0] (DEBUG INFO) Executor start aborting (this does not indicate an error and you can ignore this message): INVALID_ARGUMENT: You must feed a value for placeholder tensor 'inputs_4' with dtype int64 and shape [?,1]\n",
      "\t [[{{node inputs_4}}]]\n",
      "2023-08-30 14:34:35.320002: I tensorflow/core/common_runtime/executor.cc:1197] [/device:CPU:0] (DEBUG INFO) Executor start aborting (this does not indicate an error and you can ignore this message): INVALID_ARGUMENT: You must feed a value for placeholder tensor 'inputs_11' with dtype int64 and shape [?,1]\n",
      "\t [[{{node inputs_11}}]]\n",
      "2023-08-30 14:34:35.322230: I tensorflow/core/common_runtime/executor.cc:1197] [/device:CPU:0] (DEBUG INFO) Executor start aborting (this does not indicate an error and you can ignore this message): INVALID_ARGUMENT: You must feed a value for placeholder tensor 'inputs_10' with dtype int64 and shape [?,1]\n",
      "\t [[{{node inputs_10}}]]\n",
      "2023-08-30 14:34:35.324273: I tensorflow/core/common_runtime/executor.cc:1197] [/device:CPU:0] (DEBUG INFO) Executor start aborting (this does not indicate an error and you can ignore this message): INVALID_ARGUMENT: You must feed a value for placeholder tensor 'inputs' with dtype int64 and shape [?,1]\n",
      "\t [[{{node inputs}}]]\n",
      "2023-08-30 14:34:35.380056: I tensorflow/core/common_runtime/executor.cc:1197] [/device:CPU:0] (DEBUG INFO) Executor start aborting (this does not indicate an error and you can ignore this message): INVALID_ARGUMENT: You must feed a value for placeholder tensor 'Age' with dtype int64 and shape [?,1]\n",
      "\t [[{{node Age}}]]\n",
      "2023-08-30 14:34:35.380214: I tensorflow/core/common_runtime/executor.cc:1197] [/device:CPU:0] (DEBUG INFO) Executor start aborting (this does not indicate an error and you can ignore this message): INVALID_ARGUMENT: You must feed a value for placeholder tensor 'CapitalGain' with dtype int64 and shape [?,1]\n",
      "\t [[{{node CapitalGain}}]]\n",
      "2023-08-30 14:34:35.380306: I tensorflow/core/common_runtime/executor.cc:1197] [/device:CPU:0] (DEBUG INFO) Executor start aborting (this does not indicate an error and you can ignore this message): INVALID_ARGUMENT: You must feed a value for placeholder tensor 'CapitalLoss' with dtype int64 and shape [?,1]\n",
      "\t [[{{node CapitalLoss}}]]\n",
      "2023-08-30 14:34:35.380386: I tensorflow/core/common_runtime/executor.cc:1197] [/device:CPU:0] (DEBUG INFO) Executor start aborting (this does not indicate an error and you can ignore this message): INVALID_ARGUMENT: You must feed a value for placeholder tensor 'EducationNum' with dtype int64 and shape [?,1]\n",
      "\t [[{{node EducationNum}}]]\n",
      "2023-08-30 14:34:35.380491: I tensorflow/core/common_runtime/executor.cc:1197] [/device:CPU:0] (DEBUG INFO) Executor start aborting (this does not indicate an error and you can ignore this message): INVALID_ARGUMENT: You must feed a value for placeholder tensor 'HoursPerWeek' with dtype int64 and shape [?,1]\n",
      "\t [[{{node HoursPerWeek}}]]\n",
      "2023-08-30 14:34:35.380611: I tensorflow/core/common_runtime/executor.cc:1197] [/device:CPU:0] (DEBUG INFO) Executor start aborting (this does not indicate an error and you can ignore this message): INVALID_ARGUMENT: You must feed a value for placeholder tensor 'fnlwgt' with dtype int64 and shape [?,1]\n",
      "\t [[{{node fnlwgt}}]]\n",
      "2023-08-30 14:34:35.400631: I tensorflow/core/common_runtime/executor.cc:1197] [/device:CPU:0] (DEBUG INFO) Executor start aborting (this does not indicate an error and you can ignore this message): INVALID_ARGUMENT: You must feed a value for placeholder tensor 'inputs' with dtype int64 and shape [?,1]\n",
      "\t [[{{node inputs}}]]\n",
      "2023-08-30 14:34:35.501708: I tensorflow/core/common_runtime/executor.cc:1197] [/device:CPU:0] (DEBUG INFO) Executor start aborting (this does not indicate an error and you can ignore this message): INVALID_ARGUMENT: You must feed a value for placeholder tensor 'inputs' with dtype int64 and shape [?,1]\n",
      "\t [[{{node inputs}}]]\n",
      "2023-08-30 14:34:35.523199: I tensorflow/core/common_runtime/executor.cc:1197] [/device:CPU:0] (DEBUG INFO) Executor start aborting (this does not indicate an error and you can ignore this message): INVALID_ARGUMENT: You must feed a value for placeholder tensor 'inputs' with dtype int64 and shape [?,1]\n",
      "\t [[{{node inputs}}]]\n",
      "2023-08-30 14:34:35.544482: I tensorflow/core/common_runtime/executor.cc:1197] [/device:CPU:0] (DEBUG INFO) Executor start aborting (this does not indicate an error and you can ignore this message): INVALID_ARGUMENT: You must feed a value for placeholder tensor 'inputs' with dtype int64 and shape [?,1]\n",
      "\t [[{{node inputs}}]]\n",
      "2023-08-30 14:34:35.550402: I tensorflow/core/common_runtime/executor.cc:1197] [/device:CPU:0] (DEBUG INFO) Executor start aborting (this does not indicate an error and you can ignore this message): INVALID_ARGUMENT: You must feed a value for placeholder tensor 'inputs' with dtype int64 and shape [?,1]\n",
      "\t [[{{node inputs}}]]\n",
      "2023-08-30 14:34:35.557266: I tensorflow/core/common_runtime/executor.cc:1197] [/device:CPU:0] (DEBUG INFO) Executor start aborting (this does not indicate an error and you can ignore this message): INVALID_ARGUMENT: You must feed a value for placeholder tensor 'inputs' with dtype int64 and shape [?,1]\n",
      "\t [[{{node inputs}}]]\n",
      "2023-08-30 14:34:35.591065: I tensorflow/core/common_runtime/executor.cc:1197] [/device:CPU:0] (DEBUG INFO) Executor start aborting (this does not indicate an error and you can ignore this message): INVALID_ARGUMENT: You must feed a value for placeholder tensor 'inputs' with dtype int64 and shape [?,1]\n",
      "\t [[{{node inputs}}]]\n",
      "2023-08-30 14:34:35.591219: I tensorflow/core/common_runtime/executor.cc:1197] [/device:CPU:0] (DEBUG INFO) Executor start aborting (this does not indicate an error and you can ignore this message): INVALID_ARGUMENT: You must feed a value for placeholder tensor 'inputs_10' with dtype int64 and shape [?,1]\n",
      "\t [[{{node inputs_10}}]]\n",
      "2023-08-30 14:34:35.591308: I tensorflow/core/common_runtime/executor.cc:1197] [/device:CPU:0] (DEBUG INFO) Executor start aborting (this does not indicate an error and you can ignore this message): INVALID_ARGUMENT: You must feed a value for placeholder tensor 'inputs_11' with dtype int64 and shape [?,1]\n",
      "\t [[{{node inputs_11}}]]\n",
      "2023-08-30 14:34:35.591392: I tensorflow/core/common_runtime/executor.cc:1197] [/device:CPU:0] (DEBUG INFO) Executor start aborting (this does not indicate an error and you can ignore this message): INVALID_ARGUMENT: You must feed a value for placeholder tensor 'inputs_4' with dtype int64 and shape [?,1]\n",
      "\t [[{{node inputs_4}}]]\n",
      "2023-08-30 14:34:35.591499: I tensorflow/core/common_runtime/executor.cc:1197] [/device:CPU:0] (DEBUG INFO) Executor start aborting (this does not indicate an error and you can ignore this message): INVALID_ARGUMENT: You must feed a value for placeholder tensor 'inputs_12' with dtype int64 and shape [?,1]\n",
      "\t [[{{node inputs_12}}]]\n",
      "2023-08-30 14:34:35.591608: I tensorflow/core/common_runtime/executor.cc:1197] [/device:CPU:0] (DEBUG INFO) Executor start aborting (this does not indicate an error and you can ignore this message): INVALID_ARGUMENT: You must feed a value for placeholder tensor 'inputs_2' with dtype int64 and shape [?,1]\n",
      "\t [[{{node inputs_2}}]]\n",
      "2023-08-30 14:34:35.629585: I tensorflow/core/common_runtime/executor.cc:1197] [/device:CPU:0] (DEBUG INFO) Executor start aborting (this does not indicate an error and you can ignore this message): INVALID_ARGUMENT: You must feed a value for placeholder tensor 'inputs' with dtype int64 and shape [?,1]\n",
      "\t [[{{node inputs}}]]\n",
      "2023-08-30 14:34:35.629739: I tensorflow/core/common_runtime/executor.cc:1197] [/device:CPU:0] (DEBUG INFO) Executor start aborting (this does not indicate an error and you can ignore this message): INVALID_ARGUMENT: You must feed a value for placeholder tensor 'inputs_10' with dtype int64 and shape [?,1]\n",
      "\t [[{{node inputs_10}}]]\n",
      "2023-08-30 14:34:35.629823: I tensorflow/core/common_runtime/executor.cc:1197] [/device:CPU:0] (DEBUG INFO) Executor start aborting (this does not indicate an error and you can ignore this message): INVALID_ARGUMENT: You must feed a value for placeholder tensor 'inputs_11' with dtype int64 and shape [?,1]\n",
      "\t [[{{node inputs_11}}]]\n",
      "2023-08-30 14:34:35.629913: I tensorflow/core/common_runtime/executor.cc:1197] [/device:CPU:0] (DEBUG INFO) Executor start aborting (this does not indicate an error and you can ignore this message): INVALID_ARGUMENT: You must feed a value for placeholder tensor 'inputs_4' with dtype int64 and shape [?,1]\n",
      "\t [[{{node inputs_4}}]]\n",
      "2023-08-30 14:34:35.630019: I tensorflow/core/common_runtime/executor.cc:1197] [/device:CPU:0] (DEBUG INFO) Executor start aborting (this does not indicate an error and you can ignore this message): INVALID_ARGUMENT: You must feed a value for placeholder tensor 'inputs_12' with dtype int64 and shape [?,1]\n",
      "\t [[{{node inputs_12}}]]\n",
      "2023-08-30 14:34:35.630132: I tensorflow/core/common_runtime/executor.cc:1197] [/device:CPU:0] (DEBUG INFO) Executor start aborting (this does not indicate an error and you can ignore this message): INVALID_ARGUMENT: You must feed a value for placeholder tensor 'inputs_2' with dtype int64 and shape [?,1]\n",
      "\t [[{{node inputs_2}}]]\n",
      "2023-08-30 14:34:35.787296: I tensorflow/core/common_runtime/executor.cc:1197] [/device:CPU:0] (DEBUG INFO) Executor start aborting (this does not indicate an error and you can ignore this message): INVALID_ARGUMENT: You must feed a value for placeholder tensor 'Age' with dtype int64 and shape [?,1]\n",
      "\t [[{{node Age}}]]\n",
      "2023-08-30 14:34:35.787478: I tensorflow/core/common_runtime/executor.cc:1197] [/device:CPU:0] (DEBUG INFO) Executor start aborting (this does not indicate an error and you can ignore this message): INVALID_ARGUMENT: You must feed a value for placeholder tensor 'CapitalGain' with dtype int64 and shape [?,1]\n",
      "\t [[{{node CapitalGain}}]]\n",
      "2023-08-30 14:34:35.787594: I tensorflow/core/common_runtime/executor.cc:1197] [/device:CPU:0] (DEBUG INFO) Executor start aborting (this does not indicate an error and you can ignore this message): INVALID_ARGUMENT: You must feed a value for placeholder tensor 'CapitalLoss' with dtype int64 and shape [?,1]\n",
      "\t [[{{node CapitalLoss}}]]\n",
      "2023-08-30 14:34:35.787710: I tensorflow/core/common_runtime/executor.cc:1197] [/device:CPU:0] (DEBUG INFO) Executor start aborting (this does not indicate an error and you can ignore this message): INVALID_ARGUMENT: You must feed a value for placeholder tensor 'EducationNum' with dtype int64 and shape [?,1]\n",
      "\t [[{{node EducationNum}}]]\n",
      "2023-08-30 14:34:35.787833: I tensorflow/core/common_runtime/executor.cc:1197] [/device:CPU:0] (DEBUG INFO) Executor start aborting (this does not indicate an error and you can ignore this message): INVALID_ARGUMENT: You must feed a value for placeholder tensor 'HoursPerWeek' with dtype int64 and shape [?,1]\n",
      "\t [[{{node HoursPerWeek}}]]\n",
      "2023-08-30 14:34:35.787924: I tensorflow/core/common_runtime/executor.cc:1197] [/device:CPU:0] (DEBUG INFO) Executor start aborting (this does not indicate an error and you can ignore this message): INVALID_ARGUMENT: You must feed a value for placeholder tensor 'fnlwgt' with dtype int64 and shape [?,1]\n",
      "\t [[{{node fnlwgt}}]]\n",
      "2023-08-30 14:34:35.899702: I tensorflow/core/common_runtime/executor.cc:1197] [/device:CPU:0] (DEBUG INFO) Executor start aborting (this does not indicate an error and you can ignore this message): INVALID_ARGUMENT: You must feed a value for placeholder tensor 'inputs_age' with dtype int64 and shape [?,1]\n",
      "\t [[{{node inputs_age}}]]\n",
      "2023-08-30 14:34:35.899900: I tensorflow/core/common_runtime/executor.cc:1197] [/device:CPU:0] (DEBUG INFO) Executor start aborting (this does not indicate an error and you can ignore this message): INVALID_ARGUMENT: You must feed a value for placeholder tensor 'inputs_capitalgain' with dtype int64 and shape [?,1]\n",
      "\t [[{{node inputs_capitalgain}}]]\n",
      "2023-08-30 14:34:35.900016: I tensorflow/core/common_runtime/executor.cc:1197] [/device:CPU:0] (DEBUG INFO) Executor start aborting (this does not indicate an error and you can ignore this message): INVALID_ARGUMENT: You must feed a value for placeholder tensor 'inputs_capitalloss' with dtype int64 and shape [?,1]\n",
      "\t [[{{node inputs_capitalloss}}]]\n",
      "2023-08-30 14:34:35.900134: I tensorflow/core/common_runtime/executor.cc:1197] [/device:CPU:0] (DEBUG INFO) Executor start aborting (this does not indicate an error and you can ignore this message): INVALID_ARGUMENT: You must feed a value for placeholder tensor 'inputs_educationnum' with dtype int64 and shape [?,1]\n",
      "\t [[{{node inputs_educationnum}}]]\n",
      "2023-08-30 14:34:35.900253: I tensorflow/core/common_runtime/executor.cc:1197] [/device:CPU:0] (DEBUG INFO) Executor start aborting (this does not indicate an error and you can ignore this message): INVALID_ARGUMENT: You must feed a value for placeholder tensor 'inputs_hoursperweek' with dtype int64 and shape [?,1]\n",
      "\t [[{{node inputs_hoursperweek}}]]\n",
      "2023-08-30 14:34:35.900372: I tensorflow/core/common_runtime/executor.cc:1197] [/device:CPU:0] (DEBUG INFO) Executor start aborting (this does not indicate an error and you can ignore this message): INVALID_ARGUMENT: You must feed a value for placeholder tensor 'inputs_fnlwgt' with dtype int64 and shape [?,1]\n",
      "\t [[{{node inputs_fnlwgt}}]]\n",
      "2023-08-30 14:34:35.939341: I tensorflow/core/common_runtime/executor.cc:1197] [/device:CPU:0] (DEBUG INFO) Executor start aborting (this does not indicate an error and you can ignore this message): INVALID_ARGUMENT: You must feed a value for placeholder tensor 'inputs_age' with dtype int64 and shape [?,1]\n",
      "\t [[{{node inputs_age}}]]\n",
      "2023-08-30 14:34:35.939511: I tensorflow/core/common_runtime/executor.cc:1197] [/device:CPU:0] (DEBUG INFO) Executor start aborting (this does not indicate an error and you can ignore this message): INVALID_ARGUMENT: You must feed a value for placeholder tensor 'inputs_capitalgain' with dtype int64 and shape [?,1]\n",
      "\t [[{{node inputs_capitalgain}}]]\n",
      "2023-08-30 14:34:35.939618: I tensorflow/core/common_runtime/executor.cc:1197] [/device:CPU:0] (DEBUG INFO) Executor start aborting (this does not indicate an error and you can ignore this message): INVALID_ARGUMENT: You must feed a value for placeholder tensor 'inputs_capitalloss' with dtype int64 and shape [?,1]\n",
      "\t [[{{node inputs_capitalloss}}]]\n",
      "2023-08-30 14:34:35.939741: I tensorflow/core/common_runtime/executor.cc:1197] [/device:CPU:0] (DEBUG INFO) Executor start aborting (this does not indicate an error and you can ignore this message): INVALID_ARGUMENT: You must feed a value for placeholder tensor 'inputs_educationnum' with dtype int64 and shape [?,1]\n",
      "\t [[{{node inputs_educationnum}}]]\n",
      "2023-08-30 14:34:35.939862: I tensorflow/core/common_runtime/executor.cc:1197] [/device:CPU:0] (DEBUG INFO) Executor start aborting (this does not indicate an error and you can ignore this message): INVALID_ARGUMENT: You must feed a value for placeholder tensor 'inputs_hoursperweek' with dtype int64 and shape [?,1]\n",
      "\t [[{{node inputs_hoursperweek}}]]\n",
      "2023-08-30 14:34:35.939977: I tensorflow/core/common_runtime/executor.cc:1197] [/device:CPU:0] (DEBUG INFO) Executor start aborting (this does not indicate an error and you can ignore this message): INVALID_ARGUMENT: You must feed a value for placeholder tensor 'inputs_fnlwgt' with dtype int64 and shape [?,1]\n",
      "\t [[{{node inputs_fnlwgt}}]]\n",
      "2023-08-30 14:34:36.337392: I tensorflow/core/common_runtime/executor.cc:1197] [/device:CPU:0] (DEBUG INFO) Executor start aborting (this does not indicate an error and you can ignore this message): INVALID_ARGUMENT: You must feed a value for placeholder tensor 'inputs' with dtype int64 and shape [?,1]\n",
      "\t [[{{node inputs}}]]\n",
      "2023-08-30 14:34:36.355324: I tensorflow/core/common_runtime/executor.cc:1197] [/device:CPU:0] (DEBUG INFO) Executor start aborting (this does not indicate an error and you can ignore this message): INVALID_ARGUMENT: You must feed a value for placeholder tensor 'inputs' with dtype int64 and shape [?,1]\n",
      "\t [[{{node inputs}}]]\n",
      "2023-08-30 14:34:36.370754: I tensorflow/core/common_runtime/executor.cc:1197] [/device:CPU:0] (DEBUG INFO) Executor start aborting (this does not indicate an error and you can ignore this message): INVALID_ARGUMENT: You must feed a value for placeholder tensor 'inputs' with dtype int64 and shape [?,1]\n",
      "\t [[{{node inputs}}]]\n",
      "2023-08-30 14:34:36.438584: I tensorflow/core/common_runtime/executor.cc:1197] [/device:CPU:0] (DEBUG INFO) Executor start aborting (this does not indicate an error and you can ignore this message): INVALID_ARGUMENT: You must feed a value for placeholder tensor 'inputs' with dtype int64 and shape [?,1]\n",
      "\t [[{{node inputs}}]]\n",
      "2023-08-30 14:34:36.504917: I tensorflow/core/common_runtime/executor.cc:1197] [/device:CPU:0] (DEBUG INFO) Executor start aborting (this does not indicate an error and you can ignore this message): INVALID_ARGUMENT: You must feed a value for placeholder tensor 'inputs' with dtype int64 and shape [?,1]\n",
      "\t [[{{node inputs}}]]\n",
      "2023-08-30 14:34:36.818362: I tensorflow/core/common_runtime/executor.cc:1197] [/device:CPU:0] (DEBUG INFO) Executor start aborting (this does not indicate an error and you can ignore this message): INVALID_ARGUMENT: You must feed a value for placeholder tensor 'inputs' with dtype int64 and shape [?,1]\n",
      "\t [[{{node inputs}}]]\n",
      "2023-08-30 14:34:37.032210: I tensorflow/core/common_runtime/executor.cc:1197] [/device:CPU:0] (DEBUG INFO) Executor start aborting (this does not indicate an error and you can ignore this message): INVALID_ARGUMENT: You must feed a value for placeholder tensor 'serving_default_Age' with dtype int64 and shape [?,1]\n",
      "\t [[{{node serving_default_Age}}]]\n",
      "2023-08-30 14:34:37.032375: I tensorflow/core/common_runtime/executor.cc:1197] [/device:CPU:0] (DEBUG INFO) Executor start aborting (this does not indicate an error and you can ignore this message): INVALID_ARGUMENT: You must feed a value for placeholder tensor 'serving_default_CapitalGain' with dtype int64 and shape [?,1]\n",
      "\t [[{{node serving_default_CapitalGain}}]]\n",
      "2023-08-30 14:34:37.032496: I tensorflow/core/common_runtime/executor.cc:1197] [/device:CPU:0] (DEBUG INFO) Executor start aborting (this does not indicate an error and you can ignore this message): INVALID_ARGUMENT: You must feed a value for placeholder tensor 'serving_default_CapitalLoss' with dtype int64 and shape [?,1]\n",
      "\t [[{{node serving_default_CapitalLoss}}]]\n",
      "2023-08-30 14:34:37.032612: I tensorflow/core/common_runtime/executor.cc:1197] [/device:CPU:0] (DEBUG INFO) Executor start aborting (this does not indicate an error and you can ignore this message): INVALID_ARGUMENT: You must feed a value for placeholder tensor 'serving_default_EducationNum' with dtype int64 and shape [?,1]\n",
      "\t [[{{node serving_default_EducationNum}}]]\n",
      "2023-08-30 14:34:37.032727: I tensorflow/core/common_runtime/executor.cc:1197] [/device:CPU:0] (DEBUG INFO) Executor start aborting (this does not indicate an error and you can ignore this message): INVALID_ARGUMENT: You must feed a value for placeholder tensor 'serving_default_HoursPerWeek' with dtype int64 and shape [?,1]\n",
      "\t [[{{node serving_default_HoursPerWeek}}]]\n",
      "2023-08-30 14:34:37.032853: I tensorflow/core/common_runtime/executor.cc:1197] [/device:CPU:0] (DEBUG INFO) Executor start aborting (this does not indicate an error and you can ignore this message): INVALID_ARGUMENT: You must feed a value for placeholder tensor 'serving_default_fnlwgt' with dtype int64 and shape [?,1]\n",
      "\t [[{{node serving_default_fnlwgt}}]]\n"
     ]
    },
    {
     "name": "stdout",
     "output_type": "stream",
     "text": [
      "INFO:tensorflow:Assets written to: /opt/atlassian/pipelines/agent/build/demo-notebooks/resources/workspaces/pdplot_adult_income/preprocessing/dataset_name=Dataset_d8581ec0/assets\n"
     ]
    },
    {
     "data": {
      "text/plain": [
       "Dataset(id=88d20c07-84d3-4182-b8d5-c4437c0695c1; name=Dataset_d8581ec0; is_named=False; workspace_id=None)"
      ]
     },
     "execution_count": 8,
     "metadata": {},
     "output_type": "execute_result"
    }
   ],
   "source": [
    "from umnai.data.datasets import Dataset\n",
    "from umnai.data.enums import PredictionType\n",
    "\n",
    "dataset = Dataset.from_pandas(\n",
    "    dataset_df,\n",
    "    prediction_type=PredictionType.CLASSIFICATION,\n",
    "    features=list(dataset_df.drop(['Income'], axis=1).columns),    # All columns except 'Income' are features\n",
    "    targets=['Income'],\n",
    ")\n",
    "\n",
    "dataset # Prints dataset details to confirm created/opened"
   ]
  },
  {
   "cell_type": "markdown",
   "metadata": {
    "application/vnd.databricks.v1+cell": {
     "cellMetadata": {
      "byteLimit": 2048000,
      "rowLimit": 10000
     },
     "inputWidgets": {},
     "nuid": "11ff6aa6-8ae0-46df-ac9d-aebebb4a1629",
     "showTitle": false,
     "title": ""
    }
   },
   "source": [
    "# Induce a Hybrid Intelligence Model\n",
    "\n",
    "Pre-induced models are available in the notebook workspace on Github and may be downloaded and saved locally. Using Pre-induced models will speed up the execution of the notebook.\n",
    "\n",
    "If `LOAD_PREINDUCED_MODEL` is set to `1` (default), the notebook will look for and load the pre-induced model with `ESM_ID`. Otherwise, if set to `0` or the pre-induced model is not found, a new model will be induced and saved to the workspace."
   ]
  },
  {
   "cell_type": "code",
   "execution_count": 9,
   "metadata": {
    "application/vnd.databricks.v1+cell": {
     "cellMetadata": {
      "byteLimit": 2048000,
      "rowLimit": 10000
     },
     "inputWidgets": {},
     "nuid": "03a2a715-f05a-4712-a621-e878af2bf1d4",
     "showTitle": false,
     "title": ""
    },
    "execution": {
     "iopub.execute_input": "2023-08-30T14:34:40.524979Z",
     "iopub.status.busy": "2023-08-30T14:34:40.523999Z",
     "iopub.status.idle": "2023-08-30T14:34:40.528492Z",
     "shell.execute_reply": "2023-08-30T14:34:40.527881Z"
    }
   },
   "outputs": [],
   "source": [
    "# Set this variable to '1' to load a pre-induced model, otherwise set to '0' to re-induce a new model from the dataset\n",
    "LOAD_PREINDUCED_MODEL = 1\n",
    "\n",
    "# Model ID\n",
    "ESM_ID='Dataset_8f78a481_e657593904ca481ba2a6cf93b22912fd'"
   ]
  },
  {
   "cell_type": "markdown",
   "metadata": {
    "application/vnd.databricks.v1+cell": {
     "cellMetadata": {
      "byteLimit": 2048000,
      "rowLimit": 10000
     },
     "inputWidgets": {},
     "nuid": "cb1fea93-793d-4905-8f2c-e7b79a7b0b6e",
     "showTitle": false,
     "title": ""
    }
   },
   "source": [
    "#### Load or Induce the Model"
   ]
  },
  {
   "cell_type": "code",
   "execution_count": 10,
   "metadata": {
    "application/vnd.databricks.v1+cell": {
     "cellMetadata": {
      "byteLimit": 2048000,
      "rowLimit": 10000
     },
     "inputWidgets": {},
     "nuid": "fb7e2a12-fd41-40be-802b-1868fdb90b83",
     "showTitle": false,
     "title": ""
    },
    "execution": {
     "iopub.execute_input": "2023-08-30T14:34:40.540502Z",
     "iopub.status.busy": "2023-08-30T14:34:40.539952Z",
     "iopub.status.idle": "2023-08-30T14:35:41.931368Z",
     "shell.execute_reply": "2023-08-30T14:35:41.930352Z"
    }
   },
   "outputs": [
    {
     "name": "stderr",
     "output_type": "stream",
     "text": [
      "/usr/local/lib/python3.11/site-packages/keras/layers/serialization.py:265: UmnaiRuntimeWarning: Loading an ESM from an earlier Umnai version: 0.10.0\n"
     ]
    },
    {
     "name": "stdout",
     "output_type": "stream",
     "text": [
      "WARNING:tensorflow:No training configuration found in save file, so the model was *not* compiled. Compile it manually.\n",
      "WARNING:tensorflow:AutoGraph could not transform <bound method XNNModule.call of <umnai.models.xnn.layers.module.XNNModule object at 0x7f4784f52a50>> and will run it as-is.\n",
      "Please report this to the TensorFlow team. When filing the bug, set the verbosity to 10 (on Linux, `export AUTOGRAPH_VERBOSITY=10`) and attach the full output.\n",
      "Cause: module, class, method, function, traceback, frame, or code object was expected, got cython_function_or_method\n",
      "To silence this warning, decorate the function with @tf.autograph.experimental.do_not_convert\n",
      "WARNING:tensorflow:AutoGraph could not transform <bound method PolynomialTransformer.call of <umnai.models.xnn.layers.transformation.PolynomialTransformer object at 0x7f4766d05f90>> and will run it as-is.\n",
      "Please report this to the TensorFlow team. When filing the bug, set the verbosity to 10 (on Linux, `export AUTOGRAPH_VERBOSITY=10`) and attach the full output.\n",
      "Cause: module, class, method, function, traceback, frame, or code object was expected, got cython_function_or_method\n",
      "To silence this warning, decorate the function with @tf.autograph.experimental.do_not_convert\n",
      "WARNING:tensorflow:AutoGraph could not transform <bound method GraphPartitioner.call of <umnai.models.xnn.layers.partition.GraphPartitioner object at 0x7f4767574450>> and will run it as-is.\n",
      "Please report this to the TensorFlow team. When filing the bug, set the verbosity to 10 (on Linux, `export AUTOGRAPH_VERBOSITY=10`) and attach the full output.\n",
      "Cause: module, class, method, function, traceback, frame, or code object was expected, got cython_function_or_method\n",
      "To silence this warning, decorate the function with @tf.autograph.experimental.do_not_convert\n",
      "WARNING:tensorflow:AutoGraph could not transform <bound method LinearAggregator.call of <umnai.models.xnn.layers.linear.LinearAggregator object at 0x7f4766eeda10>> and will run it as-is.\n",
      "Please report this to the TensorFlow team. When filing the bug, set the verbosity to 10 (on Linux, `export AUTOGRAPH_VERBOSITY=10`) and attach the full output.\n",
      "Cause: module, class, method, function, traceback, frame, or code object was expected, got cython_function_or_method\n",
      "To silence this warning, decorate the function with @tf.autograph.experimental.do_not_convert\n",
      "WARNING:tensorflow:AutoGraph could not transform <bound method XNNModel.call of <umnai.models.xnn.model.XNNModel object at 0x7f4768884410>> and will run it as-is.\n",
      "Please report this to the TensorFlow team. When filing the bug, set the verbosity to 10 (on Linux, `export AUTOGRAPH_VERBOSITY=10`) and attach the full output.\n",
      "Cause: module, class, method, function, traceback, frame, or code object was expected, got cython_function_or_method\n",
      "To silence this warning, decorate the function with @tf.autograph.experimental.do_not_convert\n",
      "WARNING:tensorflow:No training configuration found in save file, so the model was *not* compiled. Compile it manually.\n",
      "Pre-induced ESM loaded from workspace: Dataset_8f78a481_e657593904ca481ba2a6cf93b22912fd\n"
     ]
    }
   ],
   "source": [
    "from umnai.esm.model import ESM\n",
    "from umnai.induction.inducer import ModelInducer\n",
    "\n",
    "# Check if a saved model with the ESM_ID exists. If it exists load it, otherwise induce a new model, save it and print the model and run IDs\n",
    "if (LOAD_PREINDUCED_MODEL == 1):\n",
    "    try:    \n",
    "        esm = ESM.from_workspace(id = ESM_ID)\n",
    "        print('Pre-induced ESM loaded from workspace: ' + esm.id)\n",
    "    except OSError:\n",
    "        print(\"No model found in workspace.\")\n",
    "        LOAD_PREINDUCED_MODEL = 0\n",
    "\n",
    "if (LOAD_PREINDUCED_MODEL == 0):\n",
    "    print(\"Inducing a new model - this may take some time.\")\n",
    "    # Induce a more realistic model using default Induction parameters:\n",
    "    model_inducer = ModelInducer(\n",
    "        max_interactions=16,\n",
    "        max_interaction_degree=2,\n",
    "        max_polynomial_degree=2,\n",
    "        trials=2,\n",
    "        estimators=2,\n",
    "        batch_size=512,\n",
    "        iterations=2,\n",
    "    )\n",
    "\n",
    "    # Create an ESM using Induction\n",
    "    esm = model_inducer.induce(dataset)\n",
    "\n",
    "    # Save the ESM to your workspace\n",
    "    esm.save_to_workspace()\n",
    "\n",
    "    # Note ESM ID and MLFLow Run ID\n",
    "    print(\"ESM ID: \", esm.id)\n",
    "    print(\"MLflow Run ID: \", esm.producer_run_id)\n"
   ]
  },
  {
   "cell_type": "markdown",
   "metadata": {
    "application/vnd.databricks.v1+cell": {
     "cellMetadata": {
      "byteLimit": 2048000,
      "rowLimit": 10000
     },
     "inputWidgets": {},
     "nuid": "7b4cc8f6-6439-40bb-86ce-4670ef6b250a",
     "showTitle": false,
     "title": ""
    }
   },
   "source": [
    "# Explore The Model"
   ]
  },
  {
   "cell_type": "markdown",
   "metadata": {
    "application/vnd.databricks.v1+cell": {
     "cellMetadata": {
      "byteLimit": 2048000,
      "rowLimit": 10000
     },
     "inputWidgets": {},
     "nuid": "0b43c024-229d-42f9-80f9-d274c0ddbd9f",
     "showTitle": false,
     "title": ""
    }
   },
   "source": [
    "## Partial Dependency Plots\n",
    "Next we will plot some example module Partial Dependency plots.\n",
    "You can use matplotlib or any other vizualisation tool to plot attributions as a function of input values.\n",
    "\n",
    "### First Check the List of Modules in the ESM\n",
    "Check to confirm that the modules in the example have been created in the ESM. If not, you can change the module names in the example plots."
   ]
  },
  {
   "cell_type": "code",
   "execution_count": 11,
   "metadata": {
    "application/vnd.databricks.v1+cell": {
     "cellMetadata": {
      "byteLimit": 2048000,
      "rowLimit": 10000
     },
     "inputWidgets": {},
     "nuid": "d9b01030-a257-4b4f-a155-21a231c4f147",
     "showTitle": false,
     "title": ""
    },
    "execution": {
     "iopub.execute_input": "2023-08-30T14:35:41.934544Z",
     "iopub.status.busy": "2023-08-30T14:35:41.934298Z",
     "iopub.status.idle": "2023-08-30T14:35:43.331903Z",
     "shell.execute_reply": "2023-08-30T14:35:43.330980Z"
    }
   },
   "outputs": [
    {
     "data": {
      "text/plain": [
       "_module_index\n",
       "0                              Age\n",
       "1                           fnlwgt\n",
       "2                     EducationNum\n",
       "3                      CapitalGain\n",
       "4                      CapitalLoss\n",
       "5                     HoursPerWeek\n",
       "6                        Education\n",
       "7                           Gender\n",
       "8                    MaritalStatus\n",
       "9                    NativeCountry\n",
       "10                      Occupation\n",
       "11                            Race\n",
       "12                    Relationship\n",
       "13                       WorkClass\n",
       "14        Education x Relationship\n",
       "15       Occupation x Relationship\n",
       "16      MaritalStatus x Occupation\n",
       "17     EducationNum x Relationship\n",
       "18    EducationNum x MaritalStatus\n",
       "19       Education x MaritalStatus\n",
       "20          Education x Occupation\n",
       "21      CapitalGain x Relationship\n",
       "22     HoursPerWeek x Relationship\n",
       "Name: module_name, dtype: object"
      ]
     },
     "execution_count": 11,
     "metadata": {},
     "output_type": "execute_result"
    }
   ],
   "source": [
    "esm.metadata.modules.to_pandas()[\"module_name\"]"
   ]
  },
  {
   "cell_type": "markdown",
   "metadata": {
    "application/vnd.databricks.v1+cell": {
     "cellMetadata": {
      "byteLimit": 2048000,
      "rowLimit": 10000
     },
     "inputWidgets": {},
     "nuid": "5d721d12-3b43-445f-b1fa-3a0177e25b26",
     "showTitle": false,
     "title": ""
    }
   },
   "source": [
    "### Partial Dependency Plot for a Categorical Feature Module\n",
    "\n",
    "#### Generate View and Plot Data"
   ]
  },
  {
   "cell_type": "code",
   "execution_count": 12,
   "metadata": {
    "application/vnd.databricks.v1+cell": {
     "cellMetadata": {
      "byteLimit": 2048000,
      "rowLimit": 10000
     },
     "inputWidgets": {},
     "nuid": "a9c96e33-f8f5-4e5c-b54a-7070a87b68a8",
     "showTitle": false,
     "title": ""
    },
    "execution": {
     "iopub.execute_input": "2023-08-30T14:35:43.335166Z",
     "iopub.status.busy": "2023-08-30T14:35:43.334924Z",
     "iopub.status.idle": "2023-08-30T14:35:43.879717Z",
     "shell.execute_reply": "2023-08-30T14:35:43.878991Z"
    }
   },
   "outputs": [
    {
     "data": {
      "image/png": "[encoded data removed]",
      "text/plain": [
       "<Figure size 1000x500 with 1 Axes>"
      ]
     },
     "metadata": {},
     "output_type": "display_data"
    }
   ],
   "source": [
    "import matplotlib.pyplot as plt\n",
    "from umnai.views.partial_dependency import PartialDependencyView\n",
    "\n",
    "# Select a module\n",
    "selected_module = 'Occupation'\n",
    "\n",
    "# Generate the view\n",
    "partial_dependency_view = PartialDependencyView(esm=esm, module=selected_module, use_training_data=False)\n",
    "\n",
    "# Plot the data\n",
    "input_vals = partial_dependency_view.data[f'{\"input_feature\"}.{selected_module}']\n",
    "attributions = partial_dependency_view.data['attribution.Income']\n",
    "\n",
    "plt.figure(figsize=(10, 5))\n",
    "plt.xlabel(selected_module)\n",
    "plt.xticks(rotation = 45, ha = 'right', rotation_mode='anchor')\n",
    "plt.ylabel(\"Attribution\")\n",
    "plt.grid(which='major', axis='y')\n",
    "colours = ['g' if x >= 0 else 'r' for x in attributions]   # Make colour bars red or green\n",
    "plt.bar(input_vals, attributions, color=colours)\n",
    "plt.show()"
   ]
  },
  {
   "cell_type": "markdown",
   "metadata": {
    "application/vnd.databricks.v1+cell": {
     "cellMetadata": {
      "byteLimit": 2048000,
      "rowLimit": 10000
     },
     "inputWidgets": {},
     "nuid": "1ece2df9-2392-4a22-8e7b-b99dd30ee709",
     "showTitle": false,
     "title": ""
    }
   },
   "source": [
    "### Partial Dependency Plot for a Continuous Feature Module\n",
    "\n",
    "#### Generate View and Plot Data"
   ]
  },
  {
   "cell_type": "code",
   "execution_count": 13,
   "metadata": {
    "application/vnd.databricks.v1+cell": {
     "cellMetadata": {
      "byteLimit": 2048000,
      "rowLimit": 10000
     },
     "inputWidgets": {},
     "nuid": "29b22631-0a9c-434d-8a57-ad7383d3653a",
     "showTitle": false,
     "title": ""
    },
    "execution": {
     "iopub.execute_input": "2023-08-30T14:35:43.884364Z",
     "iopub.status.busy": "2023-08-30T14:35:43.884114Z",
     "iopub.status.idle": "2023-08-30T14:35:44.067318Z",
     "shell.execute_reply": "2023-08-30T14:35:44.066632Z"
    }
   },
   "outputs": [
    {
     "data": {
      "image/png": "[encoded data removed]",
      "text/plain": [
       "<Figure size 1000x500 with 1 Axes>"
      ]
     },
     "metadata": {},
     "output_type": "display_data"
    }
   ],
   "source": [
    "# Select a module\n",
    "selected_module = 'Age'\n",
    "\n",
    "# Generate the view\n",
    "partial_dependency_view = PartialDependencyView(esm=esm, module=selected_module, use_training_data=False)\n",
    "\n",
    "\n",
    "input_vals = partial_dependency_view.data[f'{\"input_feature\"}.{selected_module}']\n",
    "attributions = partial_dependency_view.data['attribution.Income']\n",
    "\n",
    "plt.figure(figsize=(10, 5))\n",
    "plt.xlabel(selected_module)\n",
    "plt.ylabel(\"Attribution\")\n",
    "plt.grid(which='major', axis='both')\n",
    "plt.plot(input_vals, attributions, color='r')\n",
    "plt.show()"
   ]
  },
  {
   "cell_type": "markdown",
   "metadata": {
    "application/vnd.databricks.v1+cell": {
     "cellMetadata": {
      "byteLimit": 2048000,
      "rowLimit": 10000
     },
     "inputWidgets": {},
     "nuid": "cf6348e9-8731-40e2-be99-5851e29b1abb",
     "showTitle": false,
     "title": ""
    }
   },
   "source": [
    "### Partial Dependency Plot an Interaction Module with Two Categorical Features\n",
    "\n",
    "**NOTE:** You may have to change the names of `feature1` and `feature2` to match those of a module with two categorical features from the list of modules generated previously.\n",
    "\n",
    "#### Generate View and Plot Data"
   ]
  },
  {
   "cell_type": "code",
   "execution_count": 14,
   "metadata": {
    "application/vnd.databricks.v1+cell": {
     "cellMetadata": {
      "byteLimit": 2048000,
      "rowLimit": 10000
     },
     "inputWidgets": {},
     "nuid": "24fef408-65ab-4a0d-8155-099796a134e5",
     "showTitle": false,
     "title": ""
    },
    "execution": {
     "iopub.execute_input": "2023-08-30T14:35:44.070581Z",
     "iopub.status.busy": "2023-08-30T14:35:44.070363Z",
     "iopub.status.idle": "2023-08-30T14:35:44.371764Z",
     "shell.execute_reply": "2023-08-30T14:35:44.370953Z"
    }
   },
   "outputs": [
    {
     "data": {
      "image/png": "[encoded data removed]",
      "text/plain": [
       "<Figure size 1000x500 with 2 Axes>"
      ]
     },
     "metadata": {},
     "output_type": "display_data"
    }
   ],
   "source": [
    "# Select module features:\n",
    "feature1 = 'Education'\n",
    "feature2 = 'Relationship'\n",
    "target='Income'\n",
    "module_features = [feature1, feature2]\n",
    "\n",
    "# Generate the view\n",
    "partial_dependency_view = PartialDependencyView(esm=esm, module=module_features, use_training_data=False)\n",
    "\n",
    "# Manipulate Plot Data and Titles\n",
    "input_1 = f'{\"input_feature\"}.{feature1}'\n",
    "input_2 = f'{\"input_feature\"}.{feature2}'\n",
    "attributions = f'{\"attribution\"}.{target}'\n",
    "\n",
    "data_df = partial_dependency_view.data.drop(['attribution_normalized.Income', 'module_partition_index', 'rule_id', 'condition_expr_friendly', 'attribution_delta.Income'], axis=1)\n",
    "data_df.rename(columns={input_1: module_features[0], input_2: module_features[1], attributions: \"attributions\"}, inplace=True)\n",
    "data_table = data_df.pivot(index=module_features[1], columns=module_features[0], values='attributions')\n",
    "\n",
    "# Plot the heatmap\n",
    "plt.figure(figsize=(10, 5))\n",
    "plt.imshow(data_table, cmap=\"RdYlGn\")\n",
    " \n",
    "# Add colorbar\n",
    "cbar = plt.colorbar()\n",
    "\n",
    "# Set tick labels\n",
    "plt.xticks(range(len(data_table.columns)), data_table.columns, rotation = 45, ha = 'right', rotation_mode='anchor')\n",
    "plt.yticks(range(len(data_table.index)), data_table.index)\n",
    "\n",
    "# Set plot title and axis labels\n",
    "plt.title(\"attribution\")\n",
    "plt.xlabel(feature1)\n",
    "plt.ylabel(feature2)\n",
    " \n",
    "# Display the plot\n",
    "plt.show()"
   ]
  },
  {
   "cell_type": "markdown",
   "metadata": {
    "application/vnd.databricks.v1+cell": {
     "cellMetadata": {
      "byteLimit": 2048000,
      "rowLimit": 10000
     },
     "inputWidgets": {},
     "nuid": "4c45130f-5ff8-43b8-9f18-bd5e6781e260",
     "showTitle": false,
     "title": ""
    }
   },
   "source": [
    "### Partial Dependency Plot an Interaction Module with a Categorical Feature and a Continuous Feature\n",
    "**NOTE:** You may have to change the names of `feature1` and `feature2` to match those of a module with one continuous feature and one categorical feature from the list of modules generated previously.\n",
    "\n",
    "#### Generate View and Plot Data"
   ]
  },
  {
   "cell_type": "code",
   "execution_count": 15,
   "metadata": {
    "application/vnd.databricks.v1+cell": {
     "cellMetadata": {
      "byteLimit": 2048000,
      "rowLimit": 10000
     },
     "inputWidgets": {},
     "nuid": "b38d0c32-1ef7-415f-97e4-636393fddabb",
     "showTitle": false,
     "title": ""
    },
    "execution": {
     "iopub.execute_input": "2023-08-30T14:35:44.374827Z",
     "iopub.status.busy": "2023-08-30T14:35:44.374489Z",
     "iopub.status.idle": "2023-08-30T14:35:44.651995Z",
     "shell.execute_reply": "2023-08-30T14:35:44.651220Z"
    }
   },
   "outputs": [
    {
     "data": {
      "text/plain": [
       "<Figure size 640x480 with 0 Axes>"
      ]
     },
     "metadata": {},
     "output_type": "display_data"
    },
    {
     "data": {
      "image/png": "[encoded data removed]",
      "text/plain": [
       "<Figure size 1000x500 with 1 Axes>"
      ]
     },
     "metadata": {},
     "output_type": "display_data"
    }
   ],
   "source": [
    "# Select module features:\n",
    "feature1 = 'EducationNum'\n",
    "feature2 = 'Relationship'\n",
    "target = 'Income'\n",
    "module_features = [feature1, feature2]\n",
    "\n",
    "# Generate the view\n",
    "partial_dependency_view = PartialDependencyView(esm=esm, module=module_features, use_training_data=False)\n",
    "\n",
    "# GENERATE PLOT\n",
    "# Manipulate Plot Data and Titles\n",
    "input_1 = f'{\"input_feature\"}.{feature1}'\n",
    "input_2 = f'{\"input_feature\"}.{feature2}'\n",
    "attributions = f'{\"attribution\"}.{target}'\n",
    "\n",
    "partial_dependency_view.data\n",
    "\n",
    "data_df = partial_dependency_view.data.drop(['attribution_normalized.Income', 'module_partition_index', 'rule_id', 'condition_expr_friendly', 'attribution_delta.Income'], axis=1)\n",
    "data_df.rename(columns={input_1: module_features[0], input_2: module_features[1], attributions: \"attributions\"}, inplace=True)\n",
    "data_table = data_df.pivot(index=module_features[1], columns=module_features[0], values='attributions')\n",
    "\n",
    "plt.figure()\n",
    "data_table.T.plot.line(figsize=(10, 5))\n",
    "# Set plot title and axis labels\n",
    "plt.title(feature1 + ' x ' + feature2)\n",
    "plt.xlabel(feature1)\n",
    "plt.ylabel(\"attribution\")\n",
    "plt.legend(loc='best')\n",
    "plt.show()"
   ]
  }
 ],
 "metadata": {
  "application/vnd.databricks.v1+notebook": {
   "dashboards": [],
   "language": "python",
   "notebookMetadata": {
    "pythonIndentUnit": 4
   },
   "notebookName": "Partial-Dependency-Plot",
   "widgets": {}
  },
  "kernelspec": {
   "display_name": "Python 3 (ipykernel)",
   "language": "python",
   "name": "python3"
  },
  "language_info": {
   "codemirror_mode": {
    "name": "ipython",
    "version": 3
   },
   "file_extension": ".py",
   "mimetype": "text/x-python",
   "name": "python",
   "nbconvert_exporter": "python",
   "pygments_lexer": "ipython3",
   "version": "3.11.5"
  },
  "widgets": {
   "application/vnd.jupyter.widget-state+json": {
    "state": {
     "029345cb7c364e199cf8a866e00fd3ab": {
      "model_module": "@jupyter-widgets/controls",
      "model_module_version": "2.0.0",
      "model_name": "FloatProgressModel",
      "state": {
       "_dom_classes": [],
       "_model_module": "@jupyter-widgets/controls",
       "_model_module_version": "2.0.0",
       "_model_name": "FloatProgressModel",
       "_view_count": null,
       "_view_module": "@jupyter-widgets/controls",
       "_view_module_version": "2.0.0",
       "_view_name": "ProgressView",
       "bar_style": "",
       "description": "",
       "description_allow_html": false,
       "layout": "IPY_MODEL_dde5d1c6ea8747b79213ba36bab5b64e",
       "max": 1.0,
       "min": 0.0,
       "orientation": "horizontal",
       "style": "IPY_MODEL_bd8b7b8535ff4ae5988ba68472aa9ac3",
       "tabbable": null,
       "tooltip": null,
       "value": 1.0
      }
     },
     "0f4c0c6fb4154ccaa7b7f120a4531dd8": {
      "model_module": "@jupyter-widgets/base",
      "model_module_version": "2.0.0",
      "model_name": "LayoutModel",
      "state": {
       "_model_module": "@jupyter-widgets/base",
       "_model_module_version": "2.0.0",
       "_model_name": "LayoutModel",
       "_view_count": null,
       "_view_module": "@jupyter-widgets/base",
       "_view_module_version": "2.0.0",
       "_view_name": "LayoutView",
       "align_content": null,
       "align_items": null,
       "align_self": null,
       "border_bottom": null,
       "border_left": null,
       "border_right": null,
       "border_top": null,
       "bottom": null,
       "display": null,
       "flex": null,
       "flex_flow": null,
       "grid_area": null,
       "grid_auto_columns": null,
       "grid_auto_flow": null,
       "grid_auto_rows": null,
       "grid_column": null,
       "grid_gap": null,
       "grid_row": null,
       "grid_template_areas": null,
       "grid_template_columns": null,
       "grid_template_rows": null,
       "height": null,
       "justify_content": null,
       "justify_items": null,
       "left": null,
       "margin": null,
       "max_height": null,
       "max_width": null,
       "min_height": null,
       "min_width": null,
       "object_fit": null,
       "object_position": null,
       "order": null,
       "overflow": null,
       "padding": null,
       "right": null,
       "top": null,
       "visibility": null,
       "width": null
      }
     },
     "2d1f3a665c0b46858a4f065a49b46ecd": {
      "model_module": "@jupyter-widgets/controls",
      "model_module_version": "2.0.0",
      "model_name": "HTMLModel",
      "state": {
       "_dom_classes": [],
       "_model_module": "@jupyter-widgets/controls",
       "_model_module_version": "2.0.0",
       "_model_name": "HTMLModel",
       "_view_count": null,
       "_view_module": "@jupyter-widgets/controls",
       "_view_module_version": "2.0.0",
       "_view_name": "HTMLView",
       "description": "",
       "description_allow_html": false,
       "layout": "IPY_MODEL_0f4c0c6fb4154ccaa7b7f120a4531dd8",
       "placeholder": "​",
       "style": "IPY_MODEL_7e1ae015d44e4b65a1a2860e44731629",
       "tabbable": null,
       "tooltip": null,
       "value": "[Persistence] - MLFLOW Run ID: e29260f4792a4f44858628c6225b9b81:   0%"
      }
     },
     "5434c2222182460f809af504bc171f1d": {
      "model_module": "@jupyter-widgets/base",
      "model_module_version": "2.0.0",
      "model_name": "LayoutModel",
      "state": {
       "_model_module": "@jupyter-widgets/base",
       "_model_module_version": "2.0.0",
       "_model_name": "LayoutModel",
       "_view_count": null,
       "_view_module": "@jupyter-widgets/base",
       "_view_module_version": "2.0.0",
       "_view_name": "LayoutView",
       "align_content": null,
       "align_items": null,
       "align_self": null,
       "border_bottom": null,
       "border_left": null,
       "border_right": null,
       "border_top": null,
       "bottom": null,
       "display": null,
       "flex": null,
       "flex_flow": null,
       "grid_area": null,
       "grid_auto_columns": null,
       "grid_auto_flow": null,
       "grid_auto_rows": null,
       "grid_column": null,
       "grid_gap": null,
       "grid_row": null,
       "grid_template_areas": null,
       "grid_template_columns": null,
       "grid_template_rows": null,
       "height": null,
       "justify_content": null,
       "justify_items": null,
       "left": null,
       "margin": null,
       "max_height": null,
       "max_width": null,
       "min_height": null,
       "min_width": null,
       "object_fit": null,
       "object_position": null,
       "order": null,
       "overflow": null,
       "padding": null,
       "right": null,
       "top": null,
       "visibility": null,
       "width": null
      }
     },
     "7e1ae015d44e4b65a1a2860e44731629": {
      "model_module": "@jupyter-widgets/controls",
      "model_module_version": "2.0.0",
      "model_name": "HTMLStyleModel",
      "state": {
       "_model_module": "@jupyter-widgets/controls",
       "_model_module_version": "2.0.0",
       "_model_name": "HTMLStyleModel",
       "_view_count": null,
       "_view_module": "@jupyter-widgets/base",
       "_view_module_version": "2.0.0",
       "_view_name": "StyleView",
       "background": null,
       "description_width": "",
       "font_size": null,
       "text_color": null
      }
     },
     "9456c27c971c46fe8ad56f8db510355d": {
      "model_module": "@jupyter-widgets/controls",
      "model_module_version": "2.0.0",
      "model_name": "HTMLStyleModel",
      "state": {
       "_model_module": "@jupyter-widgets/controls",
       "_model_module_version": "2.0.0",
       "_model_name": "HTMLStyleModel",
       "_view_count": null,
       "_view_module": "@jupyter-widgets/base",
       "_view_module_version": "2.0.0",
       "_view_name": "StyleView",
       "background": null,
       "description_width": "",
       "font_size": null,
       "text_color": null
      }
     },
     "a1c916841e88427ea6675d9db87604c0": {
      "model_module": "@jupyter-widgets/base",
      "model_module_version": "2.0.0",
      "model_name": "LayoutModel",
      "state": {
       "_model_module": "@jupyter-widgets/base",
       "_model_module_version": "2.0.0",
       "_model_name": "LayoutModel",
       "_view_count": null,
       "_view_module": "@jupyter-widgets/base",
       "_view_module_version": "2.0.0",
       "_view_name": "LayoutView",
       "align_content": null,
       "align_items": null,
       "align_self": null,
       "border_bottom": null,
       "border_left": null,
       "border_right": null,
       "border_top": null,
       "bottom": null,
       "display": null,
       "flex": null,
       "flex_flow": null,
       "grid_area": null,
       "grid_auto_columns": null,
       "grid_auto_flow": null,
       "grid_auto_rows": null,
       "grid_column": null,
       "grid_gap": null,
       "grid_row": null,
       "grid_template_areas": null,
       "grid_template_columns": null,
       "grid_template_rows": null,
       "height": null,
       "justify_content": null,
       "justify_items": null,
       "left": null,
       "margin": null,
       "max_height": null,
       "max_width": null,
       "min_height": null,
       "min_width": null,
       "object_fit": null,
       "object_position": null,
       "order": null,
       "overflow": null,
       "padding": null,
       "right": null,
       "top": null,
       "visibility": "hidden",
       "width": null
      }
     },
     "bd8b7b8535ff4ae5988ba68472aa9ac3": {
      "model_module": "@jupyter-widgets/controls",
      "model_module_version": "2.0.0",
      "model_name": "ProgressStyleModel",
      "state": {
       "_model_module": "@jupyter-widgets/controls",
       "_model_module_version": "2.0.0",
       "_model_name": "ProgressStyleModel",
       "_view_count": null,
       "_view_module": "@jupyter-widgets/base",
       "_view_module_version": "2.0.0",
       "_view_name": "StyleView",
       "bar_color": null,
       "description_width": ""
      }
     },
     "dde5d1c6ea8747b79213ba36bab5b64e": {
      "model_module": "@jupyter-widgets/base",
      "model_module_version": "2.0.0",
      "model_name": "LayoutModel",
      "state": {
       "_model_module": "@jupyter-widgets/base",
       "_model_module_version": "2.0.0",
       "_model_name": "LayoutModel",
       "_view_count": null,
       "_view_module": "@jupyter-widgets/base",
       "_view_module_version": "2.0.0",
       "_view_name": "LayoutView",
       "align_content": null,
       "align_items": null,
       "align_self": null,
       "border_bottom": null,
       "border_left": null,
       "border_right": null,
       "border_top": null,
       "bottom": null,
       "display": null,
       "flex": null,
       "flex_flow": null,
       "grid_area": null,
       "grid_auto_columns": null,
       "grid_auto_flow": null,
       "grid_auto_rows": null,
       "grid_column": null,
       "grid_gap": null,
       "grid_row": null,
       "grid_template_areas": null,
       "grid_template_columns": null,
       "grid_template_rows": null,
       "height": null,
       "justify_content": null,
       "justify_items": null,
       "left": null,
       "margin": null,
       "max_height": null,
       "max_width": null,
       "min_height": null,
       "min_width": null,
       "object_fit": null,
       "object_position": null,
       "order": null,
       "overflow": null,
       "padding": null,
       "right": null,
       "top": null,
       "visibility": null,
       "width": null
      }
     },
     "e68f5397ce124233b871c041bdffbadd": {
      "model_module": "@jupyter-widgets/controls",
      "model_module_version": "2.0.0",
      "model_name": "HBoxModel",
      "state": {
       "_dom_classes": [],
       "_model_module": "@jupyter-widgets/controls",
       "_model_module_version": "2.0.0",
       "_model_name": "HBoxModel",
       "_view_count": null,
       "_view_module": "@jupyter-widgets/controls",
       "_view_module_version": "2.0.0",
       "_view_name": "HBoxView",
       "box_style": "",
       "children": [
        "IPY_MODEL_2d1f3a665c0b46858a4f065a49b46ecd",
        "IPY_MODEL_029345cb7c364e199cf8a866e00fd3ab",
        "IPY_MODEL_f45761958ade4420a6d5361259b59719"
       ],
       "layout": "IPY_MODEL_a1c916841e88427ea6675d9db87604c0",
       "tabbable": null,
       "tooltip": null
      }
     },
     "f45761958ade4420a6d5361259b59719": {
      "model_module": "@jupyter-widgets/controls",
      "model_module_version": "2.0.0",
      "model_name": "HTMLModel",
      "state": {
       "_dom_classes": [],
       "_model_module": "@jupyter-widgets/controls",
       "_model_module_version": "2.0.0",
       "_model_name": "HTMLModel",
       "_view_count": null,
       "_view_module": "@jupyter-widgets/controls",
       "_view_module_version": "2.0.0",
       "_view_name": "HTMLView",
       "description": "",
       "description_allow_html": false,
       "layout": "IPY_MODEL_5434c2222182460f809af504bc171f1d",
       "placeholder": "​",
       "style": "IPY_MODEL_9456c27c971c46fe8ad56f8db510355d",
       "tabbable": null,
       "tooltip": null,
       "value": " 0/1 [00:00&lt;?, ?it/s]"
      }
     }
    },
    "version_major": 2,
    "version_minor": 0
   }
  }
 },
 "nbformat": 4,
 "nbformat_minor": 1
}
