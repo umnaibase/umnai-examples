{
 "cells": [
  {
   "cell_type": "markdown",
   "metadata": {
    "application/vnd.databricks.v1+cell": {
     "cellMetadata": {
      "byteLimit": 2048000,
      "rowLimit": 10000
     },
     "inputWidgets": {},
     "nuid": "926baa37-bc48-44e8-9fac-d456c664df55",
     "showTitle": false,
     "title": ""
    }
   },
   "source": [
    "# Onboard Test Data & Evaluate A Classification Model Notebook\n",
    "\n",
    "In this notebook we will use the ObservationSpec to onboard both Training and Test data and then use the test data to evaluate model performance.\n",
    "\n",
    "First we will split the dataset into a train segment and a test segment. Then we will induce a model using the train data, and finally we will test the performance of the model using the test data and the Classification Evaluation View."
   ]
  },
  {
   "cell_type": "markdown",
   "metadata": {
    "application/vnd.databricks.v1+cell": {
     "cellMetadata": {
      "byteLimit": 2048000,
      "rowLimit": 10000
     },
     "inputWidgets": {},
     "nuid": "50717e5d-f285-44b4-a0c7-293df0982f76",
     "showTitle": false,
     "title": ""
    }
   },
   "source": [
    "# Check Environment Variables\n",
    "Before installing Hybrid Intelligence in the notebook you need to set these Environment Variables externally as described in the User Guide https://docs.umnai.com/set-up-your-environment. \n",
    "This section checks that the environment variables have been set correctly and throws an error if not."
   ]
  },
  {
   "cell_type": "code",
   "execution_count": 1,
   "metadata": {
    "application/vnd.databricks.v1+cell": {
     "cellMetadata": {
      "byteLimit": 2048000,
      "rowLimit": 10000
     },
     "inputWidgets": {},
     "nuid": "451a952d-6dba-4a7d-89fb-9ed2679e1153",
     "showTitle": false,
     "title": ""
    },
    "execution": {
     "iopub.execute_input": "2024-01-17T11:58:00.500715Z",
     "iopub.status.busy": "2024-01-17T11:58:00.500248Z",
     "iopub.status.idle": "2024-01-17T11:58:00.509275Z",
     "shell.execute_reply": "2024-01-17T11:58:00.508551Z"
    }
   },
   "outputs": [],
   "source": [
    "import os\n",
    "\n",
    "umnai_env_vars = {\n",
    "    'UMNAI_CLIENT_ID',\n",
    "    'UMNAI_CLIENT_SECRET',\n",
    "    'PIP_EXTRA_INDEX_URL',\n",
    "}\n",
    "\n",
    "if os.environ.get('DATABRICKS_RUNTIME_VERSION') is not None:\n",
    "    umnai_env_vars.update({\n",
    "        'DATABRICKS_HOST',\n",
    "        'DATABRICKS_TOKEN',\n",
    "    })\n",
    "\n",
    "if not umnai_env_vars.issubset(os.environ.keys()):\n",
    "    raise ValueError(\n",
    "        'UMNAI environment variables not set correctly. They need to be set before using the Umnai library.'\n",
    "    )"
   ]
  },
  {
   "cell_type": "markdown",
   "metadata": {
    "application/vnd.databricks.v1+cell": {
     "cellMetadata": {
      "byteLimit": 2048000,
      "rowLimit": 10000
     },
     "inputWidgets": {},
     "nuid": "dbc6e745-eefa-4e2e-bb31-9931fad91ccb",
     "showTitle": false,
     "title": ""
    }
   },
   "source": [
    "# Install Hybrid Intelligence\n",
    "Next we install the UMNAI Platform."
   ]
  },
  {
   "cell_type": "code",
   "execution_count": 2,
   "metadata": {
    "application/vnd.databricks.v1+cell": {
     "cellMetadata": {
      "byteLimit": 2048000,
      "rowLimit": 10000
     },
     "inputWidgets": {},
     "nuid": "23285844-22e8-4e6e-9044-e0be247706ab",
     "showTitle": false,
     "title": ""
    },
    "execution": {
     "iopub.execute_input": "2024-01-17T11:58:00.512672Z",
     "iopub.status.busy": "2024-01-17T11:58:00.512440Z",
     "iopub.status.idle": "2024-01-17T11:58:03.860578Z",
     "shell.execute_reply": "2024-01-17T11:58:03.859353Z"
    }
   },
   "outputs": [
    {
     "name": "stdout",
     "output_type": "stream",
     "text": [
      "\u001b[33mWARNING: Running pip as the 'root' user can result in broken permissions and conflicting behaviour with the system package manager. It is recommended to use a virtual environment instead: https://pip.pypa.io/warnings/venv\u001b[0m\u001b[33m\r\n",
      "\u001b[0m\r\n",
      "\u001b[1m[\u001b[0m\u001b[34;49mnotice\u001b[0m\u001b[1;39;49m]\u001b[0m\u001b[39;49m A new release of pip is available: \u001b[0m\u001b[31;49m23.0.1\u001b[0m\u001b[39;49m -> \u001b[0m\u001b[32;49m23.3.2\u001b[0m\r\n",
      "\u001b[1m[\u001b[0m\u001b[34;49mnotice\u001b[0m\u001b[1;39;49m]\u001b[0m\u001b[39;49m To update, run: \u001b[0m\u001b[32;49mpip install --upgrade pip\u001b[0m\r\n"
     ]
    },
    {
     "name": "stdout",
     "output_type": "stream",
     "text": [
      "Note: you may need to restart the kernel to use updated packages.\n"
     ]
    }
   ],
   "source": [
    "%pip install umnai-platform --quiet"
   ]
  },
  {
   "cell_type": "markdown",
   "metadata": {
    "application/vnd.databricks.v1+cell": {
     "cellMetadata": {
      "byteLimit": 2048000,
      "rowLimit": 10000
     },
     "inputWidgets": {},
     "nuid": "7251eee2-d659-4a14-b7ae-5afe73655f8d",
     "showTitle": false,
     "title": ""
    }
   },
   "source": [
    "# Set Workspace Paths According to Your Environment\n",
    "Now we will set the workspace path and the experiment path automatically. They will be set to a local path if you are using a local machine environment or to a Databricks path if you are using a Databricks environment."
   ]
  },
  {
   "cell_type": "markdown",
   "metadata": {
    "application/vnd.databricks.v1+cell": {
     "cellMetadata": {
      "byteLimit": 2048000,
      "rowLimit": 10000
     },
     "inputWidgets": {},
     "nuid": "71e69afa-446e-484e-b57e-f5396b18cae6",
     "showTitle": false,
     "title": ""
    }
   },
   "source": [
    "## Install Databricks SDK\n",
    "\n",
    "This checks if you are running on Databricks and installs their SDK if you are."
   ]
  },
  {
   "cell_type": "code",
   "execution_count": 3,
   "metadata": {
    "application/vnd.databricks.v1+cell": {
     "cellMetadata": {
      "byteLimit": 2048000,
      "rowLimit": 10000
     },
     "inputWidgets": {},
     "nuid": "c43cde71-3216-4902-a19d-20fc1508ff21",
     "showTitle": false,
     "title": ""
    },
    "execution": {
     "iopub.execute_input": "2024-01-17T11:58:03.864327Z",
     "iopub.status.busy": "2024-01-17T11:58:03.864051Z",
     "iopub.status.idle": "2024-01-17T11:58:03.868758Z",
     "shell.execute_reply": "2024-01-17T11:58:03.867793Z"
    }
   },
   "outputs": [],
   "source": [
    "import os\n",
    "if os.environ.get('DATABRICKS_RUNTIME_VERSION') is not None:\n",
    "    %pip install databricks-sdk --quiet"
   ]
  },
  {
   "cell_type": "markdown",
   "metadata": {
    "application/vnd.databricks.v1+cell": {
     "cellMetadata": {
      "byteLimit": 2048000,
      "rowLimit": 10000
     },
     "inputWidgets": {},
     "nuid": "92c04600-9b1e-41a7-a84b-8e286df5d42b",
     "showTitle": false,
     "title": ""
    }
   },
   "source": [
    "If you are on Databricks, you can select whether you would like the workspace to be created in the shared area (available to all users in your account) or in your personal user account area. You can ignore this if you are running on a local environment."
   ]
  },
  {
   "cell_type": "code",
   "execution_count": 4,
   "metadata": {
    "application/vnd.databricks.v1+cell": {
     "cellMetadata": {
      "byteLimit": 2048000,
      "rowLimit": 10000
     },
     "inputWidgets": {},
     "nuid": "181d1b9c-a3ec-4a2e-8222-2b3b5e1e5bfe",
     "showTitle": false,
     "title": ""
    },
    "execution": {
     "iopub.execute_input": "2024-01-17T11:58:03.872479Z",
     "iopub.status.busy": "2024-01-17T11:58:03.871852Z",
     "iopub.status.idle": "2024-01-17T11:58:03.875620Z",
     "shell.execute_reply": "2024-01-17T11:58:03.874662Z"
    }
   },
   "outputs": [],
   "source": [
    "# Set to 1 if you want to use shared or 0 to use personal user account area.\n",
    "USE_SHARED_WORKSPACE = 1 "
   ]
  },
  {
   "cell_type": "markdown",
   "metadata": {
    "application/vnd.databricks.v1+cell": {
     "cellMetadata": {
      "byteLimit": 2048000,
      "rowLimit": 10000
     },
     "inputWidgets": {},
     "nuid": "a06bbedb-e4ec-4c61-9ac9-7893a8844ed1",
     "showTitle": false,
     "title": ""
    }
   },
   "source": [
    "## Set Paths\n",
    "Next the workspace and experiment paths are set automatically."
   ]
  },
  {
   "cell_type": "code",
   "execution_count": 5,
   "metadata": {
    "application/vnd.databricks.v1+cell": {
     "cellMetadata": {
      "byteLimit": 2048000,
      "rowLimit": 10000
     },
     "inputWidgets": {},
     "nuid": "4320113a-e22c-4eb5-a1b9-5b371e103909",
     "showTitle": false,
     "title": ""
    },
    "execution": {
     "iopub.execute_input": "2024-01-17T11:58:03.879095Z",
     "iopub.status.busy": "2024-01-17T11:58:03.878551Z",
     "iopub.status.idle": "2024-01-17T11:58:03.885056Z",
     "shell.execute_reply": "2024-01-17T11:58:03.884352Z"
    }
   },
   "outputs": [],
   "source": [
    "import os\n",
    "\n",
    "EXP_NAME = 'testandevaluate_adult_income'\n",
    "if os.environ.get('DATABRICKS_RUNTIME_VERSION') is not None:\n",
    "    from databricks.sdk import WorkspaceClient\n",
    "    w = WorkspaceClient()\n",
    "\n",
    "    # # For a Databricks Environment\n",
    "    WS_PATH = '/dbfs/FileStore/workspaces/'+EXP_NAME\n",
    "    if USE_SHARED_WORKSPACE:\n",
    "        EXP_PREFIX = f'/Shared/experiments/'\n",
    "    else:\n",
    "        USERNAME = dbutils.notebook.entry_point.getDbutils().notebook().getContext().userName().get()\n",
    "        EXP_PREFIX = f'/Users/{USERNAME}/experiments/'\n",
    "    w.workspace.mkdirs(EXP_PREFIX)\n",
    "    EXP_PATH = EXP_PREFIX + EXP_NAME\n",
    "else:\n",
    "    # For a Local Machine Environment\n",
    "    WS_PATH = 'resources/workspaces/'+EXP_NAME\n",
    "    EXP_PATH = EXP_NAME"
   ]
  },
  {
   "cell_type": "markdown",
   "metadata": {
    "application/vnd.databricks.v1+cell": {
     "cellMetadata": {
      "byteLimit": 2048000,
      "rowLimit": 10000
     },
     "inputWidgets": {},
     "nuid": "cfadad2d-9b31-4343-81a7-87bba2c2f7d3",
     "showTitle": false,
     "title": ""
    }
   },
   "source": [
    "# Import and Prepare Dataset\n",
    "Import the dataset to a Pandas DataFrame and the clean data in preparation for onboarding into Hybrid Intelligence."
   ]
  },
  {
   "cell_type": "code",
   "execution_count": 6,
   "metadata": {
    "application/vnd.databricks.v1+cell": {
     "cellMetadata": {
      "byteLimit": 2048000,
      "rowLimit": 10000
     },
     "inputWidgets": {},
     "nuid": "1e5755f9-3479-4700-953e-1ae25497afd5",
     "showTitle": false,
     "title": ""
    },
    "execution": {
     "iopub.execute_input": "2024-01-17T11:58:03.888577Z",
     "iopub.status.busy": "2024-01-17T11:58:03.888351Z",
     "iopub.status.idle": "2024-01-17T11:58:04.427070Z",
     "shell.execute_reply": "2024-01-17T11:58:04.426298Z"
    }
   },
   "outputs": [
    {
     "data": {
      "text/html": [
       "<div>\n",
       "<style scoped>\n",
       "    .dataframe tbody tr th:only-of-type {\n",
       "        vertical-align: middle;\n",
       "    }\n",
       "\n",
       "    .dataframe tbody tr th {\n",
       "        vertical-align: top;\n",
       "    }\n",
       "\n",
       "    .dataframe thead th {\n",
       "        text-align: right;\n",
       "    }\n",
       "</style>\n",
       "<table border=\"1\" class=\"dataframe\">\n",
       "  <thead>\n",
       "    <tr style=\"text-align: right;\">\n",
       "      <th></th>\n",
       "      <th>Age</th>\n",
       "      <th>WorkClass</th>\n",
       "      <th>fnlwgt</th>\n",
       "      <th>Education</th>\n",
       "      <th>EducationNum</th>\n",
       "      <th>MaritalStatus</th>\n",
       "      <th>Occupation</th>\n",
       "      <th>Relationship</th>\n",
       "      <th>Race</th>\n",
       "      <th>Gender</th>\n",
       "      <th>CapitalGain</th>\n",
       "      <th>CapitalLoss</th>\n",
       "      <th>HoursPerWeek</th>\n",
       "      <th>NativeCountry</th>\n",
       "      <th>Income</th>\n",
       "    </tr>\n",
       "  </thead>\n",
       "  <tbody>\n",
       "    <tr>\n",
       "      <th>32556</th>\n",
       "      <td>27</td>\n",
       "      <td>Private</td>\n",
       "      <td>257302</td>\n",
       "      <td>Assoc-acdm</td>\n",
       "      <td>12</td>\n",
       "      <td>Married-civ-spouse</td>\n",
       "      <td>Tech-support</td>\n",
       "      <td>Wife</td>\n",
       "      <td>White</td>\n",
       "      <td>Female</td>\n",
       "      <td>0</td>\n",
       "      <td>0</td>\n",
       "      <td>38</td>\n",
       "      <td>United-States</td>\n",
       "      <td>0</td>\n",
       "    </tr>\n",
       "    <tr>\n",
       "      <th>32557</th>\n",
       "      <td>40</td>\n",
       "      <td>Private</td>\n",
       "      <td>154374</td>\n",
       "      <td>HS-grad</td>\n",
       "      <td>9</td>\n",
       "      <td>Married-civ-spouse</td>\n",
       "      <td>Machine-op-inspct</td>\n",
       "      <td>Husband</td>\n",
       "      <td>White</td>\n",
       "      <td>Male</td>\n",
       "      <td>0</td>\n",
       "      <td>0</td>\n",
       "      <td>40</td>\n",
       "      <td>United-States</td>\n",
       "      <td>1</td>\n",
       "    </tr>\n",
       "    <tr>\n",
       "      <th>32558</th>\n",
       "      <td>58</td>\n",
       "      <td>Private</td>\n",
       "      <td>151910</td>\n",
       "      <td>HS-grad</td>\n",
       "      <td>9</td>\n",
       "      <td>Widowed</td>\n",
       "      <td>Adm-clerical</td>\n",
       "      <td>Unmarried</td>\n",
       "      <td>White</td>\n",
       "      <td>Female</td>\n",
       "      <td>0</td>\n",
       "      <td>0</td>\n",
       "      <td>40</td>\n",
       "      <td>United-States</td>\n",
       "      <td>0</td>\n",
       "    </tr>\n",
       "    <tr>\n",
       "      <th>32559</th>\n",
       "      <td>22</td>\n",
       "      <td>Private</td>\n",
       "      <td>201490</td>\n",
       "      <td>HS-grad</td>\n",
       "      <td>9</td>\n",
       "      <td>Never-married</td>\n",
       "      <td>Adm-clerical</td>\n",
       "      <td>Own-child</td>\n",
       "      <td>White</td>\n",
       "      <td>Male</td>\n",
       "      <td>0</td>\n",
       "      <td>0</td>\n",
       "      <td>20</td>\n",
       "      <td>United-States</td>\n",
       "      <td>0</td>\n",
       "    </tr>\n",
       "    <tr>\n",
       "      <th>32560</th>\n",
       "      <td>52</td>\n",
       "      <td>Self-emp-inc</td>\n",
       "      <td>287927</td>\n",
       "      <td>HS-grad</td>\n",
       "      <td>9</td>\n",
       "      <td>Married-civ-spouse</td>\n",
       "      <td>Exec-managerial</td>\n",
       "      <td>Wife</td>\n",
       "      <td>White</td>\n",
       "      <td>Female</td>\n",
       "      <td>15024</td>\n",
       "      <td>0</td>\n",
       "      <td>40</td>\n",
       "      <td>United-States</td>\n",
       "      <td>1</td>\n",
       "    </tr>\n",
       "  </tbody>\n",
       "</table>\n",
       "</div>"
      ],
      "text/plain": [
       "       Age     WorkClass  fnlwgt   Education  EducationNum  \\\n",
       "32556   27       Private  257302  Assoc-acdm            12   \n",
       "32557   40       Private  154374     HS-grad             9   \n",
       "32558   58       Private  151910     HS-grad             9   \n",
       "32559   22       Private  201490     HS-grad             9   \n",
       "32560   52  Self-emp-inc  287927     HS-grad             9   \n",
       "\n",
       "            MaritalStatus         Occupation Relationship   Race  Gender  \\\n",
       "32556  Married-civ-spouse       Tech-support         Wife  White  Female   \n",
       "32557  Married-civ-spouse  Machine-op-inspct      Husband  White    Male   \n",
       "32558             Widowed       Adm-clerical    Unmarried  White  Female   \n",
       "32559       Never-married       Adm-clerical    Own-child  White    Male   \n",
       "32560  Married-civ-spouse    Exec-managerial         Wife  White  Female   \n",
       "\n",
       "       CapitalGain  CapitalLoss  HoursPerWeek  NativeCountry  Income  \n",
       "32556            0            0            38  United-States       0  \n",
       "32557            0            0            40  United-States       1  \n",
       "32558            0            0            40  United-States       0  \n",
       "32559            0            0            20  United-States       0  \n",
       "32560        15024            0            40  United-States       1  "
      ]
     },
     "execution_count": 6,
     "metadata": {},
     "output_type": "execute_result"
    }
   ],
   "source": [
    "import pandas as pd\n",
    "import numpy as np\n",
    "\n",
    "# Import Adult Income Dataset to pandas dataframe: \n",
    "# This dataset can be downloaded from https://archive.ics.uci.edu/dataset/2/adult \n",
    "column_names = [\"Age\", \"WorkClass\", \"fnlwgt\", \"Education\", \"EducationNum\", \"MaritalStatus\", \"Occupation\", \"Relationship\", \"Race\", \"Gender\", \"CapitalGain\", \"CapitalLoss\", \"HoursPerWeek\", \"NativeCountry\", \"Income\"]\n",
    "dataset_df = pd.read_csv('https://raw.githubusercontent.com/umnaibase/umnai-examples/main/data/adult.data', names = column_names)\n",
    "\n",
    "# Data Preparation:\n",
    "dataset_df = dataset_df.apply(lambda x: x.str.strip() if x.dtype == 'object' else x)    # Remove whitespaces\n",
    "dataset_df[\"Income\"] = np.where((dataset_df[\"Income\"] == '<=50K'), 0, 1)                # Replace Target values with [0,1]\n",
    "dataset_df.tail(5)"
   ]
  },
  {
   "cell_type": "markdown",
   "metadata": {
    "application/vnd.databricks.v1+cell": {
     "cellMetadata": {
      "byteLimit": 2048000,
      "rowLimit": 10000
     },
     "inputWidgets": {},
     "nuid": "765b01eb-9f02-4d18-9b53-33339450a723",
     "showTitle": false,
     "title": ""
    }
   },
   "source": [
    "# Split and Specify The Dataset\n",
    "Split the imported dataset into train and test data segments and specify the train and test data. \n",
    "\n",
    "To specify the train/test data add a new column called `observation_type` and specify the data as `train` or `test`."
   ]
  },
  {
   "cell_type": "code",
   "execution_count": 7,
   "metadata": {
    "application/vnd.databricks.v1+cell": {
     "cellMetadata": {
      "byteLimit": 2048000,
      "rowLimit": 10000
     },
     "inputWidgets": {},
     "nuid": "e8daef68-a307-48c0-a7c1-3a7ad23b9622",
     "showTitle": false,
     "title": ""
    },
    "execution": {
     "iopub.execute_input": "2024-01-17T11:58:04.430974Z",
     "iopub.status.busy": "2024-01-17T11:58:04.430353Z",
     "iopub.status.idle": "2024-01-17T11:58:04.953562Z",
     "shell.execute_reply": "2024-01-17T11:58:04.952762Z"
    }
   },
   "outputs": [
    {
     "data": {
      "text/html": [
       "<div>\n",
       "<style scoped>\n",
       "    .dataframe tbody tr th:only-of-type {\n",
       "        vertical-align: middle;\n",
       "    }\n",
       "\n",
       "    .dataframe tbody tr th {\n",
       "        vertical-align: top;\n",
       "    }\n",
       "\n",
       "    .dataframe thead th {\n",
       "        text-align: right;\n",
       "    }\n",
       "</style>\n",
       "<table border=\"1\" class=\"dataframe\">\n",
       "  <thead>\n",
       "    <tr style=\"text-align: right;\">\n",
       "      <th></th>\n",
       "      <th>Age</th>\n",
       "      <th>WorkClass</th>\n",
       "      <th>fnlwgt</th>\n",
       "      <th>Education</th>\n",
       "      <th>EducationNum</th>\n",
       "      <th>MaritalStatus</th>\n",
       "      <th>Occupation</th>\n",
       "      <th>Relationship</th>\n",
       "      <th>Race</th>\n",
       "      <th>Gender</th>\n",
       "      <th>CapitalGain</th>\n",
       "      <th>CapitalLoss</th>\n",
       "      <th>HoursPerWeek</th>\n",
       "      <th>NativeCountry</th>\n",
       "      <th>Income</th>\n",
       "    </tr>\n",
       "    <tr>\n",
       "      <th>observation_type</th>\n",
       "      <th></th>\n",
       "      <th></th>\n",
       "      <th></th>\n",
       "      <th></th>\n",
       "      <th></th>\n",
       "      <th></th>\n",
       "      <th></th>\n",
       "      <th></th>\n",
       "      <th></th>\n",
       "      <th></th>\n",
       "      <th></th>\n",
       "      <th></th>\n",
       "      <th></th>\n",
       "      <th></th>\n",
       "      <th></th>\n",
       "    </tr>\n",
       "  </thead>\n",
       "  <tbody>\n",
       "    <tr>\n",
       "      <th>test</th>\n",
       "      <td>72</td>\n",
       "      <td>9</td>\n",
       "      <td>5837</td>\n",
       "      <td>16</td>\n",
       "      <td>16</td>\n",
       "      <td>7</td>\n",
       "      <td>15</td>\n",
       "      <td>6</td>\n",
       "      <td>5</td>\n",
       "      <td>2</td>\n",
       "      <td>94</td>\n",
       "      <td>63</td>\n",
       "      <td>81</td>\n",
       "      <td>41</td>\n",
       "      <td>2</td>\n",
       "    </tr>\n",
       "    <tr>\n",
       "      <th>train</th>\n",
       "      <td>71</td>\n",
       "      <td>9</td>\n",
       "      <td>18437</td>\n",
       "      <td>16</td>\n",
       "      <td>16</td>\n",
       "      <td>7</td>\n",
       "      <td>15</td>\n",
       "      <td>6</td>\n",
       "      <td>5</td>\n",
       "      <td>2</td>\n",
       "      <td>115</td>\n",
       "      <td>88</td>\n",
       "      <td>94</td>\n",
       "      <td>42</td>\n",
       "      <td>2</td>\n",
       "    </tr>\n",
       "  </tbody>\n",
       "</table>\n",
       "</div>"
      ],
      "text/plain": [
       "                  Age  WorkClass  fnlwgt  Education  EducationNum  \\\n",
       "observation_type                                                    \n",
       "test               72          9    5837         16            16   \n",
       "train              71          9   18437         16            16   \n",
       "\n",
       "                  MaritalStatus  Occupation  Relationship  Race  Gender  \\\n",
       "observation_type                                                          \n",
       "test                          7          15             6     5       2   \n",
       "train                         7          15             6     5       2   \n",
       "\n",
       "                  CapitalGain  CapitalLoss  HoursPerWeek  NativeCountry  \\\n",
       "observation_type                                                          \n",
       "test                       94           63            81             41   \n",
       "train                     115           88            94             42   \n",
       "\n",
       "                  Income  \n",
       "observation_type          \n",
       "test                   2  \n",
       "train                  2  "
      ]
     },
     "execution_count": 7,
     "metadata": {},
     "output_type": "execute_result"
    }
   ],
   "source": [
    "from sklearn.model_selection import train_test_split\n",
    "\n",
    "X = dataset_df.drop(['Income'], axis=1)\n",
    "y = dataset_df['Income']\n",
    "\n",
    "test_fraction = 0.2  # Set a fraction between 0 and 1 to decide the size of the test data.\n",
    "X_train, X_test, y_train, y_test = train_test_split(X, y, stratify=y, test_size=test_fraction, random_state=42)\n",
    "\n",
    "train = pd.concat([X_train, y_train], axis=1)\n",
    "train[\"observation_type\"] = 'train'\n",
    "\n",
    "test = pd.concat([X_test, y_test], axis=1)\n",
    "test[\"observation_type\"] = 'test'\n",
    "\n",
    "dataset_df = pd.concat([train, test], axis=0)\n",
    "\n",
    "dataset_df.groupby('observation_type').nunique()  # Prints distribution of unique values in each data segment."
   ]
  },
  {
   "cell_type": "markdown",
   "metadata": {
    "application/vnd.databricks.v1+cell": {
     "cellMetadata": {
      "byteLimit": 2048000,
      "rowLimit": 10000
     },
     "inputWidgets": {},
     "nuid": "d1189581-b6e2-4bcd-b8b1-96258826152a",
     "showTitle": false,
     "title": ""
    }
   },
   "source": [
    "# Create or Open a Hybrid Intelligence Workspace\n",
    "Workspaces are used by the Hybrid Intelligence framework to organize your data and models together in one place."
   ]
  },
  {
   "cell_type": "code",
   "execution_count": 8,
   "metadata": {
    "application/vnd.databricks.v1+cell": {
     "cellMetadata": {
      "byteLimit": 2048000,
      "rowLimit": 10000
     },
     "inputWidgets": {},
     "nuid": "a964483c-dffd-471e-8366-673083921818",
     "showTitle": false,
     "title": ""
    },
    "execution": {
     "iopub.execute_input": "2024-01-17T11:58:04.957302Z",
     "iopub.status.busy": "2024-01-17T11:58:04.956939Z",
     "iopub.status.idle": "2024-01-17T11:58:09.415072Z",
     "shell.execute_reply": "2024-01-17T11:58:09.414306Z"
    }
   },
   "outputs": [
    {
     "data": {
      "text/plain": [
       "<umnai.workspaces.context.WorkspaceContext at 0x7f7922ae3f40>"
      ]
     },
     "execution_count": 8,
     "metadata": {},
     "output_type": "execute_result"
    }
   ],
   "source": [
    "from umnai.workspaces.context import Workspace\n",
    "\n",
    "# Open a workspace\n",
    "ws = Workspace.open(\n",
    "    path=WS_PATH,\n",
    "    experiment=EXP_PATH\n",
    ")\n",
    "\n",
    "ws # Prints workspace details to confirm created/opened"
   ]
  },
  {
   "cell_type": "markdown",
   "metadata": {
    "application/vnd.databricks.v1+cell": {
     "cellMetadata": {
      "byteLimit": 2048000,
      "rowLimit": 10000
     },
     "inputWidgets": {},
     "nuid": "e54080a8-5d23-46f9-b69a-3b449cf6e3db",
     "showTitle": false,
     "title": ""
    }
   },
   "source": [
    "# Onboard Hybrid Intelligence Dataset\n",
    "\n",
    "Onboard the Pandas DataFrame into a Hybrid Intelligence dataset."
   ]
  },
  {
   "cell_type": "code",
   "execution_count": 9,
   "metadata": {
    "application/vnd.databricks.v1+cell": {
     "cellMetadata": {
      "byteLimit": 2048000,
      "rowLimit": 10000
     },
     "inputWidgets": {},
     "nuid": "b38fa95e-f235-4931-ab83-e3875c6f9d85",
     "showTitle": false,
     "title": ""
    },
    "execution": {
     "iopub.execute_input": "2024-01-17T11:58:09.419064Z",
     "iopub.status.busy": "2024-01-17T11:58:09.418545Z",
     "iopub.status.idle": "2024-01-17T11:58:43.331726Z",
     "shell.execute_reply": "2024-01-17T11:58:43.330552Z"
    }
   },
   "outputs": [
    {
     "name": "stderr",
     "output_type": "stream",
     "text": [
      "Setting default log level to \"WARN\".\n",
      "To adjust logging level use sc.setLogLevel(newLevel). For SparkR, use setLogLevel(newLevel).\n"
     ]
    },
    {
     "name": "stderr",
     "output_type": "stream",
     "text": [
      "24/01/17 11:58:11 WARN NativeCodeLoader: Unable to load native-hadoop library for your platform... using builtin-java classes where applicable\n",
      "Setting Spark log level to \"WARN\".\n"
     ]
    },
    {
     "data": {
      "application/vnd.jupyter.widget-view+json": {
       "model_id": "dabf903514ee407daaa1bf67c3a69740",
       "version_major": 2,
       "version_minor": 0
      },
      "text/plain": [
       "[DatasetInitialization] - MLFLOW Run ID: 176591bee66d469687ed76d1100c14f8:   0%|          | 0/42 [00:00<?, ?it…"
      ]
     },
     "metadata": {},
     "output_type": "display_data"
    },
    {
     "name": "stdout",
     "output_type": "stream",
     "text": [
      "WARNING:tensorflow:AutoGraph could not transform <bound method OneHotEncoder.call of <umnai.operations.functions.one_hot_encoding.OneHotEncoder object at 0x7f7905b42890>> and will run it as-is.\n",
      "Please report this to the TensorFlow team. When filing the bug, set the verbosity to 10 (on Linux, `export AUTOGRAPH_VERBOSITY=10`) and attach the full output.\n",
      "Cause: module, class, method, function, traceback, frame, or code object was expected, got cython_function_or_method\n",
      "To silence this warning, decorate the function with @tf.autograph.experimental.do_not_convert\n"
     ]
    },
    {
     "name": "stdout",
     "output_type": "stream",
     "text": [
      "WARNING: AutoGraph could not transform <bound method OneHotEncoder.call of <umnai.operations.functions.one_hot_encoding.OneHotEncoder object at 0x7f7905b42890>> and will run it as-is.\n",
      "Please report this to the TensorFlow team. When filing the bug, set the verbosity to 10 (on Linux, `export AUTOGRAPH_VERBOSITY=10`) and attach the full output.\n",
      "Cause: module, class, method, function, traceback, frame, or code object was expected, got cython_function_or_method\n",
      "To silence this warning, decorate the function with @tf.autograph.experimental.do_not_convert\n"
     ]
    },
    {
     "name": "stdout",
     "output_type": "stream",
     "text": [
      "WARNING:tensorflow:AutoGraph could not transform <bound method StringIndex.call of <umnai.operations.functions.string_lookup.StringIndex object at 0x7f78feb2a320>> and will run it as-is.\n",
      "Please report this to the TensorFlow team. When filing the bug, set the verbosity to 10 (on Linux, `export AUTOGRAPH_VERBOSITY=10`) and attach the full output.\n",
      "Cause: module, class, method, function, traceback, frame, or code object was expected, got cython_function_or_method\n",
      "To silence this warning, decorate the function with @tf.autograph.experimental.do_not_convert\n"
     ]
    },
    {
     "name": "stdout",
     "output_type": "stream",
     "text": [
      "WARNING: AutoGraph could not transform <bound method StringIndex.call of <umnai.operations.functions.string_lookup.StringIndex object at 0x7f78feb2a320>> and will run it as-is.\n",
      "Please report this to the TensorFlow team. When filing the bug, set the verbosity to 10 (on Linux, `export AUTOGRAPH_VERBOSITY=10`) and attach the full output.\n",
      "Cause: module, class, method, function, traceback, frame, or code object was expected, got cython_function_or_method\n",
      "To silence this warning, decorate the function with @tf.autograph.experimental.do_not_convert\n"
     ]
    },
    {
     "name": "stdout",
     "output_type": "stream",
     "text": [
      "WARNING:tensorflow:Compiled the loaded model, but the compiled metrics have yet to be built. `model.compile_metrics` will be empty until you train or evaluate the model.\n"
     ]
    },
    {
     "name": "stdout",
     "output_type": "stream",
     "text": [
      "INFO:tensorflow:Assets written to: /opt/atlassian/pipelines/agent/build/demo-notebooks/resources/workspaces/testandevaluate_adult_income/preprocessing/dataset_name=Dataset_7f31dee1/assets\n"
     ]
    },
    {
     "data": {
      "text/plain": [
       "Dataset(id=05f308b6-1202-4f93-9844-abd12a024e4b; name=Dataset_7f31dee1; is_named=False; workspace_id=None)"
      ]
     },
     "execution_count": 9,
     "metadata": {},
     "output_type": "execute_result"
    }
   ],
   "source": [
    "from umnai.data.datasets import Dataset\n",
    "from umnai.data.enums import PredictionType\n",
    "\n",
    "features = list(\n",
    "    dataset_df.drop(['Income', 'observation_type'], axis=1).columns\n",
    ")  # All columns except 'Income' and 'observation_type' are features.\n",
    "\n",
    "categorical_features = [\n",
    "    column for column \n",
    "    in dataset_df.select_dtypes(object).columns \n",
    "    if column != 'observation_type'\n",
    "]  # All 'object' columns except for 'observation_type' are categorical.\n",
    "\n",
    "\n",
    "dataset = Dataset.from_pandas(\n",
    "    dataset_df,\n",
    "    prediction_type=PredictionType.CLASSIFICATION,\n",
    "    features=features,  \n",
    "    targets=['Income'],\n",
    "    categorical_features=categorical_features,\n",
    ")\n",
    "\n",
    "dataset  # Prints dataset details to confirm created/opened"
   ]
  },
  {
   "cell_type": "markdown",
   "metadata": {
    "application/vnd.databricks.v1+cell": {
     "cellMetadata": {
      "byteLimit": 2048000,
      "rowLimit": 10000
     },
     "inputWidgets": {},
     "nuid": "b8e702dc-580d-47ef-9869-e0727fbc3bda",
     "showTitle": false,
     "title": ""
    }
   },
   "source": [
    "# Induce a Hybrid Intelligence Model\n",
    "\n",
    "Pre-induced models are available in the notebook workspace on Github and may be downloaded and saved locally. Using Pre-induced models will speed up the execution of the notebook.\n",
    "\n",
    "If `LOAD_PREINDUCED_MODEL` is set to `1` (default), the notebook will look for and load the pre-induced model with `ESM_ID`. Otherwise, if set to `0` or the pre-induced model is not found, a new model will be induced and saved to the workspace."
   ]
  },
  {
   "cell_type": "code",
   "execution_count": 10,
   "metadata": {
    "application/vnd.databricks.v1+cell": {
     "cellMetadata": {
      "byteLimit": 2048000,
      "rowLimit": 10000
     },
     "inputWidgets": {},
     "nuid": "6c281787-919a-4157-83b0-f1a789f3cc8b",
     "showTitle": false,
     "title": ""
    },
    "execution": {
     "iopub.execute_input": "2024-01-17T11:58:43.335831Z",
     "iopub.status.busy": "2024-01-17T11:58:43.335503Z",
     "iopub.status.idle": "2024-01-17T11:58:43.339590Z",
     "shell.execute_reply": "2024-01-17T11:58:43.338715Z"
    }
   },
   "outputs": [],
   "source": [
    "# Set this variable to '1' to load a pre-induced model, otherwise set to '0' to re-induce a new model from the dataset\n",
    "LOAD_PREINDUCED_MODEL = 1\n",
    "\n",
    "# Model ID\n",
    "ESM_ID='Dataset_2f336666_2f873c0be3614725ab29b5213140d671'"
   ]
  },
  {
   "cell_type": "markdown",
   "metadata": {
    "application/vnd.databricks.v1+cell": {
     "cellMetadata": {
      "byteLimit": 2048000,
      "rowLimit": 10000
     },
     "inputWidgets": {},
     "nuid": "84562d42-8d2c-4958-b456-609b93033d29",
     "showTitle": false,
     "title": ""
    }
   },
   "source": [
    "#### Load or Induce the Model"
   ]
  },
  {
   "cell_type": "code",
   "execution_count": 11,
   "metadata": {
    "application/vnd.databricks.v1+cell": {
     "cellMetadata": {
      "byteLimit": 2048000,
      "rowLimit": 10000
     },
     "inputWidgets": {},
     "nuid": "0da2fa8b-1af6-4c4a-a89a-1702cac7fd87",
     "showTitle": false,
     "title": ""
    },
    "execution": {
     "iopub.execute_input": "2024-01-17T11:58:43.343239Z",
     "iopub.status.busy": "2024-01-17T11:58:43.342998Z",
     "iopub.status.idle": "2024-01-17T11:58:52.267495Z",
     "shell.execute_reply": "2024-01-17T11:58:52.266626Z"
    }
   },
   "outputs": [
    {
     "name": "stdout",
     "output_type": "stream",
     "text": [
      "WARNING:tensorflow:No training configuration found in save file, so the model was *not* compiled. Compile it manually.\n"
     ]
    },
    {
     "name": "stdout",
     "output_type": "stream",
     "text": [
      "WARNING:tensorflow:AutoGraph could not transform <bound method XNNModule.call of <umnai.models.xnn.layers.module.XNNModule object at 0x7f78f71b0550>> and will run it as-is.\n",
      "Please report this to the TensorFlow team. When filing the bug, set the verbosity to 10 (on Linux, `export AUTOGRAPH_VERBOSITY=10`) and attach the full output.\n",
      "Cause: module, class, method, function, traceback, frame, or code object was expected, got cython_function_or_method\n",
      "To silence this warning, decorate the function with @tf.autograph.experimental.do_not_convert\n"
     ]
    },
    {
     "name": "stdout",
     "output_type": "stream",
     "text": [
      "WARNING: AutoGraph could not transform <bound method XNNModule.call of <umnai.models.xnn.layers.module.XNNModule object at 0x7f78f71b0550>> and will run it as-is.\n",
      "Please report this to the TensorFlow team. When filing the bug, set the verbosity to 10 (on Linux, `export AUTOGRAPH_VERBOSITY=10`) and attach the full output.\n",
      "Cause: module, class, method, function, traceback, frame, or code object was expected, got cython_function_or_method\n",
      "To silence this warning, decorate the function with @tf.autograph.experimental.do_not_convert\n"
     ]
    },
    {
     "name": "stdout",
     "output_type": "stream",
     "text": [
      "WARNING:tensorflow:AutoGraph could not transform <bound method PolynomialTransformer.call of <umnai.models.xnn.layers.transformation.PolynomialTransformer object at 0x7f78f72e4f70>> and will run it as-is.\n",
      "Please report this to the TensorFlow team. When filing the bug, set the verbosity to 10 (on Linux, `export AUTOGRAPH_VERBOSITY=10`) and attach the full output.\n",
      "Cause: module, class, method, function, traceback, frame, or code object was expected, got cython_function_or_method\n",
      "To silence this warning, decorate the function with @tf.autograph.experimental.do_not_convert\n"
     ]
    },
    {
     "name": "stdout",
     "output_type": "stream",
     "text": [
      "WARNING: AutoGraph could not transform <bound method PolynomialTransformer.call of <umnai.models.xnn.layers.transformation.PolynomialTransformer object at 0x7f78f72e4f70>> and will run it as-is.\n",
      "Please report this to the TensorFlow team. When filing the bug, set the verbosity to 10 (on Linux, `export AUTOGRAPH_VERBOSITY=10`) and attach the full output.\n",
      "Cause: module, class, method, function, traceback, frame, or code object was expected, got cython_function_or_method\n",
      "To silence this warning, decorate the function with @tf.autograph.experimental.do_not_convert\n"
     ]
    },
    {
     "name": "stdout",
     "output_type": "stream",
     "text": [
      "WARNING:tensorflow:AutoGraph could not transform <bound method EstimatorAggregator.call of <umnai.models.xnn.layers.linear.EstimatorAggregator object at 0x7f78f71b0640>> and will run it as-is.\n",
      "Please report this to the TensorFlow team. When filing the bug, set the verbosity to 10 (on Linux, `export AUTOGRAPH_VERBOSITY=10`) and attach the full output.\n",
      "Cause: module, class, method, function, traceback, frame, or code object was expected, got cython_function_or_method\n",
      "To silence this warning, decorate the function with @tf.autograph.experimental.do_not_convert\n"
     ]
    },
    {
     "name": "stdout",
     "output_type": "stream",
     "text": [
      "WARNING: AutoGraph could not transform <bound method EstimatorAggregator.call of <umnai.models.xnn.layers.linear.EstimatorAggregator object at 0x7f78f71b0640>> and will run it as-is.\n",
      "Please report this to the TensorFlow team. When filing the bug, set the verbosity to 10 (on Linux, `export AUTOGRAPH_VERBOSITY=10`) and attach the full output.\n",
      "Cause: module, class, method, function, traceback, frame, or code object was expected, got cython_function_or_method\n",
      "To silence this warning, decorate the function with @tf.autograph.experimental.do_not_convert\n"
     ]
    },
    {
     "name": "stdout",
     "output_type": "stream",
     "text": [
      "WARNING:tensorflow:AutoGraph could not transform <bound method GraphPartitioner.call of <umnai.models.xnn.layers.partition.GraphPartitioner object at 0x7f78f72e5630>> and will run it as-is.\n",
      "Please report this to the TensorFlow team. When filing the bug, set the verbosity to 10 (on Linux, `export AUTOGRAPH_VERBOSITY=10`) and attach the full output.\n",
      "Cause: module, class, method, function, traceback, frame, or code object was expected, got cython_function_or_method\n",
      "To silence this warning, decorate the function with @tf.autograph.experimental.do_not_convert\n"
     ]
    },
    {
     "name": "stdout",
     "output_type": "stream",
     "text": [
      "WARNING: AutoGraph could not transform <bound method GraphPartitioner.call of <umnai.models.xnn.layers.partition.GraphPartitioner object at 0x7f78f72e5630>> and will run it as-is.\n",
      "Please report this to the TensorFlow team. When filing the bug, set the verbosity to 10 (on Linux, `export AUTOGRAPH_VERBOSITY=10`) and attach the full output.\n",
      "Cause: module, class, method, function, traceback, frame, or code object was expected, got cython_function_or_method\n",
      "To silence this warning, decorate the function with @tf.autograph.experimental.do_not_convert\n"
     ]
    },
    {
     "name": "stdout",
     "output_type": "stream",
     "text": [
      "WARNING:tensorflow:AutoGraph could not transform <bound method LinearAggregator.call of <umnai.models.xnn.layers.linear.LinearAggregator object at 0x7f78f6d41cc0>> and will run it as-is.\n",
      "Please report this to the TensorFlow team. When filing the bug, set the verbosity to 10 (on Linux, `export AUTOGRAPH_VERBOSITY=10`) and attach the full output.\n",
      "Cause: module, class, method, function, traceback, frame, or code object was expected, got cython_function_or_method\n",
      "To silence this warning, decorate the function with @tf.autograph.experimental.do_not_convert\n"
     ]
    },
    {
     "name": "stdout",
     "output_type": "stream",
     "text": [
      "WARNING: AutoGraph could not transform <bound method LinearAggregator.call of <umnai.models.xnn.layers.linear.LinearAggregator object at 0x7f78f6d41cc0>> and will run it as-is.\n",
      "Please report this to the TensorFlow team. When filing the bug, set the verbosity to 10 (on Linux, `export AUTOGRAPH_VERBOSITY=10`) and attach the full output.\n",
      "Cause: module, class, method, function, traceback, frame, or code object was expected, got cython_function_or_method\n",
      "To silence this warning, decorate the function with @tf.autograph.experimental.do_not_convert\n"
     ]
    },
    {
     "name": "stdout",
     "output_type": "stream",
     "text": [
      "WARNING:tensorflow:AutoGraph could not transform <bound method XNNModel.call of <umnai.models.xnn.model.XNNModel object at 0x7f78f6d41300>> and will run it as-is.\n",
      "Please report this to the TensorFlow team. When filing the bug, set the verbosity to 10 (on Linux, `export AUTOGRAPH_VERBOSITY=10`) and attach the full output.\n",
      "Cause: module, class, method, function, traceback, frame, or code object was expected, got cython_function_or_method\n",
      "To silence this warning, decorate the function with @tf.autograph.experimental.do_not_convert\n"
     ]
    },
    {
     "name": "stdout",
     "output_type": "stream",
     "text": [
      "WARNING: AutoGraph could not transform <bound method XNNModel.call of <umnai.models.xnn.model.XNNModel object at 0x7f78f6d41300>> and will run it as-is.\n",
      "Please report this to the TensorFlow team. When filing the bug, set the verbosity to 10 (on Linux, `export AUTOGRAPH_VERBOSITY=10`) and attach the full output.\n",
      "Cause: module, class, method, function, traceback, frame, or code object was expected, got cython_function_or_method\n",
      "To silence this warning, decorate the function with @tf.autograph.experimental.do_not_convert\n"
     ]
    },
    {
     "name": "stdout",
     "output_type": "stream",
     "text": [
      "WARNING:tensorflow:No training configuration found in save file, so the model was *not* compiled. Compile it manually.\n"
     ]
    },
    {
     "name": "stdout",
     "output_type": "stream",
     "text": [
      "Pre-induced ESM loaded from workspace: Dataset_2f336666_2f873c0be3614725ab29b5213140d671\n"
     ]
    }
   ],
   "source": [
    "from umnai.esm.model import ESM\n",
    "from umnai.induction.inducer import ModelInducer\n",
    "\n",
    "# Check if a saved model with the ESM_ID exists. If it exists load it, otherwise induce a new model, save it and print the model and run IDs\n",
    "if (LOAD_PREINDUCED_MODEL == 1):\n",
    "    try:    \n",
    "        esm = ESM.from_workspace(id = ESM_ID)\n",
    "        print('Pre-induced ESM loaded from workspace: ' + esm.id)\n",
    "    except OSError:\n",
    "        print(\"No model found in workspace.\")\n",
    "        LOAD_PREINDUCED_MODEL = 0\n",
    "\n",
    "if (LOAD_PREINDUCED_MODEL == 0):\n",
    "    print(\"Inducing a new model - this may take some time.\")\n",
    "    # Induce a simple model quickly using fast execution parameters\n",
    "    model_inducer = ModelInducer(\n",
    "        max_interactions=3,\n",
    "        max_interaction_degree=2,\n",
    "        max_polynomial_degree=2,\n",
    "        trials=2,\n",
    "        estimators=2,\n",
    "        batch_size=512,\n",
    "        iterations=2,\n",
    "    )\n",
    "\n",
    "    # # Induce a more realistic model using default Induction parameters:\n",
    "    # model_inducer = ModelInducer()\n",
    "\n",
    "    # Create an ESM using Induction\n",
    "    esm = model_inducer.induce(dataset)\n",
    "\n",
    "    # Save the ESM to your workspace\n",
    "    esm.save_to_workspace()\n",
    "\n",
    "    # Note ESM ID and MLFLow Run ID\n",
    "    print(\"ESM ID: \", esm.id)\n",
    "    print(\"MLflow Run ID: \", esm.producer_run_id)\n"
   ]
  },
  {
   "cell_type": "markdown",
   "metadata": {
    "application/vnd.databricks.v1+cell": {
     "cellMetadata": {
      "byteLimit": 2048000,
      "rowLimit": 10000
     },
     "inputWidgets": {},
     "nuid": "f43349d8-fdc0-4259-808d-5f6ce7a84e38",
     "showTitle": false,
     "title": ""
    }
   },
   "source": [
    "## ClassificationEvaluationView\n",
    "The Classification Evaluation View calculates the performance metrics of a Classification model."
   ]
  },
  {
   "cell_type": "markdown",
   "metadata": {
    "application/vnd.databricks.v1+cell": {
     "cellMetadata": {
      "byteLimit": 2048000,
      "rowLimit": 10000
     },
     "inputWidgets": {},
     "nuid": "b6232d0d-6842-4acf-8f52-a9349cdfb43d",
     "showTitle": false,
     "title": ""
    }
   },
   "source": [
    "### Instantiate a Local Explainer\n",
    "Create a LocalExplainer to define the ESM you want to query. The local explainer lets you extract query explanations and predictions in real-time."
   ]
  },
  {
   "cell_type": "code",
   "execution_count": 12,
   "metadata": {
    "application/vnd.databricks.v1+cell": {
     "cellMetadata": {
      "byteLimit": 2048000,
      "rowLimit": 10000
     },
     "inputWidgets": {},
     "nuid": "bf1cc1f8-32bb-4d6e-a188-d3aa4a24395f",
     "showTitle": false,
     "title": ""
    },
    "execution": {
     "iopub.execute_input": "2024-01-17T11:58:52.271610Z",
     "iopub.status.busy": "2024-01-17T11:58:52.271341Z",
     "iopub.status.idle": "2024-01-17T11:58:53.603451Z",
     "shell.execute_reply": "2024-01-17T11:58:53.602585Z"
    }
   },
   "outputs": [
    {
     "name": "stdout",
     "output_type": "stream",
     "text": [
      "WARNING:tensorflow:AutoGraph could not transform <bound method QueryResultData.call of <umnai.explanations.layers.result.QueryResultData object at 0x7f78f7114d90>> and will run it as-is.\n",
      "Please report this to the TensorFlow team. When filing the bug, set the verbosity to 10 (on Linux, `export AUTOGRAPH_VERBOSITY=10`) and attach the full output.\n",
      "Cause: module, class, method, function, traceback, frame, or code object was expected, got cython_function_or_method\n",
      "To silence this warning, decorate the function with @tf.autograph.experimental.do_not_convert\n"
     ]
    },
    {
     "name": "stdout",
     "output_type": "stream",
     "text": [
      "WARNING: AutoGraph could not transform <bound method QueryResultData.call of <umnai.explanations.layers.result.QueryResultData object at 0x7f78f7114d90>> and will run it as-is.\n",
      "Please report this to the TensorFlow team. When filing the bug, set the verbosity to 10 (on Linux, `export AUTOGRAPH_VERBOSITY=10`) and attach the full output.\n",
      "Cause: module, class, method, function, traceback, frame, or code object was expected, got cython_function_or_method\n",
      "To silence this warning, decorate the function with @tf.autograph.experimental.do_not_convert\n"
     ]
    }
   ],
   "source": [
    "from umnai.explanations.local import LocalExplainer\n",
    "\n",
    "# Instantiate a LocalExplainer:\n",
    "local_explainer = LocalExplainer(esm)"
   ]
  },
  {
   "cell_type": "markdown",
   "metadata": {
    "application/vnd.databricks.v1+cell": {
     "cellMetadata": {
      "byteLimit": 2048000,
      "rowLimit": 10000
     },
     "inputWidgets": {},
     "nuid": "98c9cd5f-228d-47c8-94d9-bc71afc5cce8",
     "showTitle": false,
     "title": ""
    }
   },
   "source": [
    "### Load Test Data and Submit the Query\n",
    "Then you load the test data, create a Query should pass the Query object to the local explainer instance to generate the Query Result."
   ]
  },
  {
   "cell_type": "code",
   "execution_count": 13,
   "metadata": {
    "application/vnd.databricks.v1+cell": {
     "cellMetadata": {
      "byteLimit": 2048000,
      "rowLimit": 10000
     },
     "inputWidgets": {},
     "nuid": "6b57d8a6-d2f2-49bb-a01c-2c542b53c0e6",
     "showTitle": false,
     "title": ""
    },
    "execution": {
     "iopub.execute_input": "2024-01-17T11:58:53.607925Z",
     "iopub.status.busy": "2024-01-17T11:58:53.607638Z",
     "iopub.status.idle": "2024-01-17T11:58:54.402971Z",
     "shell.execute_reply": "2024-01-17T11:58:54.402157Z"
    }
   },
   "outputs": [],
   "source": [
    "from umnai.explanations.local import Query\n",
    "\n",
    "# Load test data:\n",
    "test_data = esm.dataset.get_data(transformed=False, filters=[('observation_type', '==', 'test')]).to_pandas()\n",
    "\n",
    "# Query ESM with test data:\n",
    "query_eval = Query(dict(test_data.drop(columns=['Income'])))\n",
    "query_eval_result = local_explainer(query_eval)"
   ]
  },
  {
   "cell_type": "markdown",
   "metadata": {
    "application/vnd.databricks.v1+cell": {
     "cellMetadata": {
      "byteLimit": 2048000,
      "rowLimit": 10000
     },
     "inputWidgets": {},
     "nuid": "fa5c7a54-cd03-4fa1-ad5e-afef80dd41e8",
     "showTitle": false,
     "title": ""
    }
   },
   "source": [
    "### Create Classfication Evaluation View\n",
    "Now pass the predictions from the Query Result together with the test data actual values to the Classification Evaluation View."
   ]
  },
  {
   "cell_type": "code",
   "execution_count": 14,
   "metadata": {
    "application/vnd.databricks.v1+cell": {
     "cellMetadata": {
      "byteLimit": 2048000,
      "rowLimit": 10000
     },
     "inputWidgets": {},
     "nuid": "1bce5831-6b77-49ba-9019-ce5c3ced5098",
     "showTitle": false,
     "title": ""
    },
    "execution": {
     "iopub.execute_input": "2024-01-17T11:58:54.407076Z",
     "iopub.status.busy": "2024-01-17T11:58:54.406719Z",
     "iopub.status.idle": "2024-01-17T11:58:54.440822Z",
     "shell.execute_reply": "2024-01-17T11:58:54.439993Z"
    }
   },
   "outputs": [
    {
     "data": {
      "text/plain": [
       "{'accuracy': 0.8529095654844158,\n",
       " 'f1': 0.7775396498966325,\n",
       " 'precision': 0.8181445683462893,\n",
       " 'recall': 0.7537474721941355,\n",
       " 'roc_auc': 0.9066476135449124,\n",
       " 'pr_auc': 0.7715159249800158,\n",
       " 'log_loss': 0.32400386252217994,\n",
       " 'evaluation_duration_s': 0.024448394775390625,\n",
       " 'confusion_matrix': array([[4673,  272],\n",
       "        [ 686,  882]]),\n",
       " 'confusion_matrix_rates': {'tpr': 0.5625,\n",
       "  'tnr': 0.944994944388271,\n",
       "  'fdr': 0.23570190641247835,\n",
       "  'for': 0.1280089568949431,\n",
       "  'fpr': 0.05500505561172902,\n",
       "  'fnr': 0.4375,\n",
       "  'mcc': 0.5682548020392446,\n",
       "  'fm': 0.6923494970655764,\n",
       "  'csi': 0.47934782608695653},\n",
       " 'precision_recall_curve': {'precision': array([0.24074927, 0.24078624, 0.24082322, ..., 1.        , 1.        ,\n",
       "         1.        ]),\n",
       "  'recall': array([1.        , 1.        , 1.        , ..., 0.00829082, 0.00127551,\n",
       "         0.        ]),\n",
       "  'thresholds': array([0.00190409, 0.00191836, 0.00197626, ..., 0.9999998 , 0.9999999 ,\n",
       "         0.99999994], dtype=float32)},\n",
       " 'roc_curve': {'fpr': array([0.        , 0.        , 0.        , ..., 0.96602629, 0.96643074,\n",
       "         1.        ]),\n",
       "  'tpr': array([0.        , 0.00127551, 0.00829082, ..., 1.        , 1.        ,\n",
       "         1.        ]),\n",
       "  'thresholds': array([       inf, 0.99999994, 0.9999999 , ..., 0.00464191, 0.00464079,\n",
       "         0.00190409], dtype=float32)},\n",
       " 'library_name': 'UMNAI',\n",
       " 'generation_timestamp': '2024-01-17T11:58:43.238131'}"
      ]
     },
     "execution_count": 14,
     "metadata": {},
     "output_type": "execute_result"
    }
   ],
   "source": [
    "from umnai.views.classification_evaluation import ClassificationEvaluationView\n",
    "\n",
    "# Create view and inspect data:\n",
    "classification_evaluation_view = ClassificationEvaluationView(\n",
    "    true_data=test_data['Income'], \n",
    "    predicted_result=query_eval_result.data['predicted_output']\n",
    ")\n",
    "classification_evaluation_view.data"
   ]
  }
 ],
 "metadata": {
  "application/vnd.databricks.v1+notebook": {
   "dashboards": [],
   "language": "python",
   "notebookMetadata": {
    "pythonIndentUnit": 4
   },
   "notebookName": "Test-And-Evaluate-Classification-Model",
   "widgets": {}
  },
  "kernelspec": {
   "display_name": "Python 3 (ipykernel)",
   "language": "python",
   "name": "python3"
  },
  "language_info": {
   "codemirror_mode": {
    "name": "ipython",
    "version": 3
   },
   "file_extension": ".py",
   "mimetype": "text/x-python",
   "name": "python",
   "nbconvert_exporter": "python",
   "pygments_lexer": "ipython3",
   "version": "3.10.13"
  },
  "widgets": {
   "application/vnd.jupyter.widget-state+json": {
    "state": {
     "1a4f56983fe64c10957b9f003fc05dea": {
      "model_module": "@jupyter-widgets/controls",
      "model_module_version": "2.0.0",
      "model_name": "HTMLStyleModel",
      "state": {
       "_model_module": "@jupyter-widgets/controls",
       "_model_module_version": "2.0.0",
       "_model_name": "HTMLStyleModel",
       "_view_count": null,
       "_view_module": "@jupyter-widgets/base",
       "_view_module_version": "2.0.0",
       "_view_name": "StyleView",
       "background": null,
       "description_width": "",
       "font_size": null,
       "text_color": null
      }
     },
     "24c038fb31e1459ebfb5b3b994c60b71": {
      "model_module": "@jupyter-widgets/controls",
      "model_module_version": "2.0.0",
      "model_name": "HTMLModel",
      "state": {
       "_dom_classes": [],
       "_model_module": "@jupyter-widgets/controls",
       "_model_module_version": "2.0.0",
       "_model_name": "HTMLModel",
       "_view_count": null,
       "_view_module": "@jupyter-widgets/controls",
       "_view_module_version": "2.0.0",
       "_view_name": "HTMLView",
       "description": "",
       "description_allow_html": false,
       "layout": "IPY_MODEL_aae9770804c14dadaeafddccdbe39a70",
       "placeholder": "​",
       "style": "IPY_MODEL_1a4f56983fe64c10957b9f003fc05dea",
       "tabbable": null,
       "tooltip": null,
       "value": "[MetadataPersistence] - MLFLOW Run ID: 176591bee66d469687ed76d1100c14f8:   0%"
      }
     },
     "6a74d70177394b77830c616e12de6c6b": {
      "model_module": "@jupyter-widgets/controls",
      "model_module_version": "2.0.0",
      "model_name": "ProgressStyleModel",
      "state": {
       "_model_module": "@jupyter-widgets/controls",
       "_model_module_version": "2.0.0",
       "_model_name": "ProgressStyleModel",
       "_view_count": null,
       "_view_module": "@jupyter-widgets/base",
       "_view_module_version": "2.0.0",
       "_view_name": "StyleView",
       "bar_color": null,
       "description_width": ""
      }
     },
     "8a120ec685da46e9a8e370e3ac2a42aa": {
      "model_module": "@jupyter-widgets/base",
      "model_module_version": "2.0.0",
      "model_name": "LayoutModel",
      "state": {
       "_model_module": "@jupyter-widgets/base",
       "_model_module_version": "2.0.0",
       "_model_name": "LayoutModel",
       "_view_count": null,
       "_view_module": "@jupyter-widgets/base",
       "_view_module_version": "2.0.0",
       "_view_name": "LayoutView",
       "align_content": null,
       "align_items": null,
       "align_self": null,
       "border_bottom": null,
       "border_left": null,
       "border_right": null,
       "border_top": null,
       "bottom": null,
       "display": null,
       "flex": null,
       "flex_flow": null,
       "grid_area": null,
       "grid_auto_columns": null,
       "grid_auto_flow": null,
       "grid_auto_rows": null,
       "grid_column": null,
       "grid_gap": null,
       "grid_row": null,
       "grid_template_areas": null,
       "grid_template_columns": null,
       "grid_template_rows": null,
       "height": null,
       "justify_content": null,
       "justify_items": null,
       "left": null,
       "margin": null,
       "max_height": null,
       "max_width": null,
       "min_height": null,
       "min_width": null,
       "object_fit": null,
       "object_position": null,
       "order": null,
       "overflow": null,
       "padding": null,
       "right": null,
       "top": null,
       "visibility": null,
       "width": null
      }
     },
     "9476cf04caf74f8da3c189c5d80a1d4e": {
      "model_module": "@jupyter-widgets/controls",
      "model_module_version": "2.0.0",
      "model_name": "HTMLModel",
      "state": {
       "_dom_classes": [],
       "_model_module": "@jupyter-widgets/controls",
       "_model_module_version": "2.0.0",
       "_model_name": "HTMLModel",
       "_view_count": null,
       "_view_module": "@jupyter-widgets/controls",
       "_view_module_version": "2.0.0",
       "_view_name": "HTMLView",
       "description": "",
       "description_allow_html": false,
       "layout": "IPY_MODEL_de9ddae6e1694ddcb99359c7645a1b70",
       "placeholder": "​",
       "style": "IPY_MODEL_d8b3254553f147469c238ff216355959",
       "tabbable": null,
       "tooltip": null,
       "value": " 0/1 [00:00&lt;?, ?it/s]"
      }
     },
     "9b22a362bd604888b2833ebe8d5a839d": {
      "model_module": "@jupyter-widgets/base",
      "model_module_version": "2.0.0",
      "model_name": "LayoutModel",
      "state": {
       "_model_module": "@jupyter-widgets/base",
       "_model_module_version": "2.0.0",
       "_model_name": "LayoutModel",
       "_view_count": null,
       "_view_module": "@jupyter-widgets/base",
       "_view_module_version": "2.0.0",
       "_view_name": "LayoutView",
       "align_content": null,
       "align_items": null,
       "align_self": null,
       "border_bottom": null,
       "border_left": null,
       "border_right": null,
       "border_top": null,
       "bottom": null,
       "display": null,
       "flex": null,
       "flex_flow": null,
       "grid_area": null,
       "grid_auto_columns": null,
       "grid_auto_flow": null,
       "grid_auto_rows": null,
       "grid_column": null,
       "grid_gap": null,
       "grid_row": null,
       "grid_template_areas": null,
       "grid_template_columns": null,
       "grid_template_rows": null,
       "height": null,
       "justify_content": null,
       "justify_items": null,
       "left": null,
       "margin": null,
       "max_height": null,
       "max_width": null,
       "min_height": null,
       "min_width": null,
       "object_fit": null,
       "object_position": null,
       "order": null,
       "overflow": null,
       "padding": null,
       "right": null,
       "top": null,
       "visibility": "hidden",
       "width": null
      }
     },
     "aae9770804c14dadaeafddccdbe39a70": {
      "model_module": "@jupyter-widgets/base",
      "model_module_version": "2.0.0",
      "model_name": "LayoutModel",
      "state": {
       "_model_module": "@jupyter-widgets/base",
       "_model_module_version": "2.0.0",
       "_model_name": "LayoutModel",
       "_view_count": null,
       "_view_module": "@jupyter-widgets/base",
       "_view_module_version": "2.0.0",
       "_view_name": "LayoutView",
       "align_content": null,
       "align_items": null,
       "align_self": null,
       "border_bottom": null,
       "border_left": null,
       "border_right": null,
       "border_top": null,
       "bottom": null,
       "display": null,
       "flex": null,
       "flex_flow": null,
       "grid_area": null,
       "grid_auto_columns": null,
       "grid_auto_flow": null,
       "grid_auto_rows": null,
       "grid_column": null,
       "grid_gap": null,
       "grid_row": null,
       "grid_template_areas": null,
       "grid_template_columns": null,
       "grid_template_rows": null,
       "height": null,
       "justify_content": null,
       "justify_items": null,
       "left": null,
       "margin": null,
       "max_height": null,
       "max_width": null,
       "min_height": null,
       "min_width": null,
       "object_fit": null,
       "object_position": null,
       "order": null,
       "overflow": null,
       "padding": null,
       "right": null,
       "top": null,
       "visibility": null,
       "width": null
      }
     },
     "d8b3254553f147469c238ff216355959": {
      "model_module": "@jupyter-widgets/controls",
      "model_module_version": "2.0.0",
      "model_name": "HTMLStyleModel",
      "state": {
       "_model_module": "@jupyter-widgets/controls",
       "_model_module_version": "2.0.0",
       "_model_name": "HTMLStyleModel",
       "_view_count": null,
       "_view_module": "@jupyter-widgets/base",
       "_view_module_version": "2.0.0",
       "_view_name": "StyleView",
       "background": null,
       "description_width": "",
       "font_size": null,
       "text_color": null
      }
     },
     "dabf903514ee407daaa1bf67c3a69740": {
      "model_module": "@jupyter-widgets/controls",
      "model_module_version": "2.0.0",
      "model_name": "HBoxModel",
      "state": {
       "_dom_classes": [],
       "_model_module": "@jupyter-widgets/controls",
       "_model_module_version": "2.0.0",
       "_model_name": "HBoxModel",
       "_view_count": null,
       "_view_module": "@jupyter-widgets/controls",
       "_view_module_version": "2.0.0",
       "_view_name": "HBoxView",
       "box_style": "",
       "children": [
        "IPY_MODEL_24c038fb31e1459ebfb5b3b994c60b71",
        "IPY_MODEL_f864697aa7f244edaf58a75f34d9e256",
        "IPY_MODEL_9476cf04caf74f8da3c189c5d80a1d4e"
       ],
       "layout": "IPY_MODEL_9b22a362bd604888b2833ebe8d5a839d",
       "tabbable": null,
       "tooltip": null
      }
     },
     "de9ddae6e1694ddcb99359c7645a1b70": {
      "model_module": "@jupyter-widgets/base",
      "model_module_version": "2.0.0",
      "model_name": "LayoutModel",
      "state": {
       "_model_module": "@jupyter-widgets/base",
       "_model_module_version": "2.0.0",
       "_model_name": "LayoutModel",
       "_view_count": null,
       "_view_module": "@jupyter-widgets/base",
       "_view_module_version": "2.0.0",
       "_view_name": "LayoutView",
       "align_content": null,
       "align_items": null,
       "align_self": null,
       "border_bottom": null,
       "border_left": null,
       "border_right": null,
       "border_top": null,
       "bottom": null,
       "display": null,
       "flex": null,
       "flex_flow": null,
       "grid_area": null,
       "grid_auto_columns": null,
       "grid_auto_flow": null,
       "grid_auto_rows": null,
       "grid_column": null,
       "grid_gap": null,
       "grid_row": null,
       "grid_template_areas": null,
       "grid_template_columns": null,
       "grid_template_rows": null,
       "height": null,
       "justify_content": null,
       "justify_items": null,
       "left": null,
       "margin": null,
       "max_height": null,
       "max_width": null,
       "min_height": null,
       "min_width": null,
       "object_fit": null,
       "object_position": null,
       "order": null,
       "overflow": null,
       "padding": null,
       "right": null,
       "top": null,
       "visibility": null,
       "width": null
      }
     },
     "f864697aa7f244edaf58a75f34d9e256": {
      "model_module": "@jupyter-widgets/controls",
      "model_module_version": "2.0.0",
      "model_name": "FloatProgressModel",
      "state": {
       "_dom_classes": [],
       "_model_module": "@jupyter-widgets/controls",
       "_model_module_version": "2.0.0",
       "_model_name": "FloatProgressModel",
       "_view_count": null,
       "_view_module": "@jupyter-widgets/controls",
       "_view_module_version": "2.0.0",
       "_view_name": "ProgressView",
       "bar_style": "",
       "description": "",
       "description_allow_html": false,
       "layout": "IPY_MODEL_8a120ec685da46e9a8e370e3ac2a42aa",
       "max": 1.0,
       "min": 0.0,
       "orientation": "horizontal",
       "style": "IPY_MODEL_6a74d70177394b77830c616e12de6c6b",
       "tabbable": null,
       "tooltip": null,
       "value": 1.0
      }
     }
    },
    "version_major": 2,
    "version_minor": 0
   }
  }
 },
 "nbformat": 4,
 "nbformat_minor": 4
}
